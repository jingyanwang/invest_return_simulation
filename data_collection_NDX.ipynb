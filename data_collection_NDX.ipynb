{
 "cells": [
  {
   "cell_type": "code",
   "execution_count": null,
   "id": "dfee032a",
   "metadata": {},
   "outputs": [],
   "source": [
    "import os\n",
    "import re\n",
    "import pandas as pd\n",
    "from pandasql import sqldf\n",
    "import yfinance as yf\n",
    "\n",
    "pysqldf = lambda q: sqldf(q, globals())"
   ]
  },
  {
   "cell_type": "code",
   "execution_count": null,
   "id": "82453ea9",
   "metadata": {},
   "outputs": [],
   "source": [
    "ETF = '^NDX'"
   ]
  },
  {
   "cell_type": "code",
   "execution_count": null,
   "id": "949ba9c6",
   "metadata": {},
   "outputs": [],
   "source": [
    "data = yf.Ticker(ETF).history(\n",
    "    period='max', \n",
    "    interval='1d', \n",
    "    actions=False)\n",
    "\n",
    "data = data.reset_index()\n",
    "data['id'] = data.index\n",
    "data['Date'] = pd.to_datetime(data['Date']).dt.date"
   ]
  },
  {
   "cell_type": "code",
   "execution_count": null,
   "id": "507b272f",
   "metadata": {},
   "outputs": [],
   "source": []
  },
  {
   "cell_type": "code",
   "execution_count": null,
   "id": "b76872d4",
   "metadata": {},
   "outputs": [],
   "source": []
  }
 ],
 "metadata": {
  "kernelspec": {
   "display_name": "Python 3 (ipykernel)",
   "language": "python",
   "name": "python3"
  },
  "language_info": {
   "codemirror_mode": {
    "name": "ipython",
    "version": 3
   },
   "file_extension": ".py",
   "mimetype": "text/x-python",
   "name": "python",
   "nbconvert_exporter": "python",
   "pygments_lexer": "ipython3",
   "version": "3.8.0"
  }
 },
 "nbformat": 4,
 "nbformat_minor": 5
}
