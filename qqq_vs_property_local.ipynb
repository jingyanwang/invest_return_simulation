{
 "cells": [
  {
   "cell_type": "code",
   "execution_count": 1,
   "id": "2f8f0d64",
   "metadata": {},
   "outputs": [],
   "source": [
    "import os\n",
    "import re\n",
    "import pandas as pd\n",
    "from pandasql import sqldf\n",
    "import numpy as np\n",
    "\n",
    "pysqldf = lambda q: sqldf(q, globals())"
   ]
  },
  {
   "cell_type": "code",
   "execution_count": 2,
   "id": "aec96ecf",
   "metadata": {},
   "outputs": [],
   "source": [
    "property_price_csv = 'history/ATNHPIUS31084Q_los_angeles.csv'\n",
    "nasdaq_data_csv = 'history/NDX.csv'"
   ]
  },
  {
   "cell_type": "code",
   "execution_count": 3,
   "id": "4ef02781",
   "metadata": {},
   "outputs": [],
   "source": [
    "year_duration = 30\n",
    "window_size = year_duration*4"
   ]
  },
  {
   "cell_type": "code",
   "execution_count": 4,
   "id": "677e0100",
   "metadata": {},
   "outputs": [
    {
     "data": {
      "text/plain": [
       "'1976-01-01'"
      ]
     },
     "execution_count": 4,
     "metadata": {},
     "output_type": "execute_result"
    }
   ],
   "source": [
    "month_mapping = {\n",
    "    \"Jun\":6,\n",
    "    \"May\":5,\n",
    "    \"Apr\":4,\n",
    "    \"Mar\":3,\n",
    "    \"Feb\":2,\n",
    "    \"Jan\":1,\n",
    "    \"Dec\":12,\n",
    "    \"Nov\":11,\n",
    "    \"Oct\":10,\n",
    "    \"Sep\":9,\n",
    "    \"Aug\":8,\n",
    "    \"Jul\":7,\n",
    "    }\n",
    "\n",
    "def date_normalize(date):\n",
    "    try:\n",
    "        result = re.search(r'(?P<m>\\d+)\\/(?P<d>\\d+)\\/(?P<y>\\d+)', date).groupdict()\n",
    "        output = '%04d-%02d-%02d'%(\n",
    "            int(result['y']),\n",
    "            int(result['m']),\n",
    "            int(result['d']),\n",
    "            )\n",
    "        return output\n",
    "    except:\n",
    "        pass\n",
    "    try:\n",
    "        parsing_result = re.search(r'(?P<m>[A-z]{3}) (?P<d>\\d{2}) (?P<y>\\d{4})', date).groupdict()\n",
    "        parsing_result['m'] = month_mapping[parsing_result['m']]\n",
    "        parsing_result['m'] = '%02d'%(parsing_result['m'])\n",
    "        return('%s-%s-%s'%(\n",
    "            parsing_result['y'],\n",
    "            parsing_result['m'],\n",
    "            parsing_result['d'],\n",
    "            ))\n",
    "    except:\n",
    "        pass\n",
    "    return date\n",
    "\n",
    "date = 'Jun 14 2022'\n",
    "date = '1/1/1976'\n",
    "\n",
    "date_normalize(\n",
    "    date,\n",
    "    )"
   ]
  },
  {
   "cell_type": "markdown",
   "id": "5cf0079f",
   "metadata": {},
   "source": [
    "https://fred.stlouisfed.org/categories/27281\n",
    "\n",
    "site:https://fred.stlouisfed.org dallas property price"
   ]
  },
  {
   "cell_type": "code",
   "execution_count": 9,
   "id": "89fd7d33",
   "metadata": {},
   "outputs": [
    {
     "data": {
      "text/html": [
       "<div>\n",
       "<style scoped>\n",
       "    .dataframe tbody tr th:only-of-type {\n",
       "        vertical-align: middle;\n",
       "    }\n",
       "\n",
       "    .dataframe tbody tr th {\n",
       "        vertical-align: top;\n",
       "    }\n",
       "\n",
       "    .dataframe thead th {\n",
       "        text-align: right;\n",
       "    }\n",
       "</style>\n",
       "<table border=\"1\" class=\"dataframe\">\n",
       "  <thead>\n",
       "    <tr style=\"text-align: right;\">\n",
       "      <th></th>\n",
       "      <th>day</th>\n",
       "      <th>price</th>\n",
       "      <th>Date</th>\n",
       "      <th>Month</th>\n",
       "      <th>Close</th>\n",
       "      <th>id</th>\n",
       "    </tr>\n",
       "  </thead>\n",
       "  <tbody>\n",
       "    <tr>\n",
       "      <th>186</th>\n",
       "      <td>2021-07-01</td>\n",
       "      <td>442.71</td>\n",
       "      <td>2021-07-01</td>\n",
       "      <td>2021-07</td>\n",
       "      <td>442.71</td>\n",
       "      <td>186</td>\n",
       "    </tr>\n",
       "    <tr>\n",
       "      <th>187</th>\n",
       "      <td>2021-10-01</td>\n",
       "      <td>458.67</td>\n",
       "      <td>2021-10-01</td>\n",
       "      <td>2021-10</td>\n",
       "      <td>458.67</td>\n",
       "      <td>187</td>\n",
       "    </tr>\n",
       "    <tr>\n",
       "      <th>188</th>\n",
       "      <td>2022-01-01</td>\n",
       "      <td>477.84</td>\n",
       "      <td>2022-01-01</td>\n",
       "      <td>2022-01</td>\n",
       "      <td>477.84</td>\n",
       "      <td>188</td>\n",
       "    </tr>\n",
       "  </tbody>\n",
       "</table>\n",
       "</div>"
      ],
      "text/plain": [
       "            day   price        Date    Month   Close   id\n",
       "186  2021-07-01  442.71  2021-07-01  2021-07  442.71  186\n",
       "187  2021-10-01  458.67  2021-10-01  2021-10  458.67  187\n",
       "188  2022-01-01  477.84  2022-01-01  2022-01  477.84  188"
      ]
     },
     "execution_count": 9,
     "metadata": {},
     "output_type": "execute_result"
    }
   ],
   "source": [
    "property_data = pd.read_csv(\n",
    "    property_price_csv,\n",
    "    )\n",
    "\n",
    "property_data.rename(columns = {property_data.columns[0]:'day', property_data.columns[1]:'price'}, inplace = True)\n",
    "\n",
    "property_data['Date'] = property_data[property_data.columns[0]].apply(date_normalize)\n",
    "property_data['Month'] = property_data['Date'].apply(lambda x:x.split('-')[0]+'-'+x.split('-')[1])\n",
    "\n",
    "property_data['Close'] = property_data[property_data.columns[1]].apply(lambda x: float(x))\n",
    "property_data['id'] = property_data.index\n",
    "\n",
    "property_data.tail(3)"
   ]
  },
  {
   "cell_type": "code",
   "execution_count": 10,
   "id": "bec881f7",
   "metadata": {},
   "outputs": [],
   "source": [
    "nasdaq_data = pd.read_csv(\n",
    "    nasdaq_data_csv,\n",
    "    )\n",
    "\n",
    "nasdaq_data['Date'] = nasdaq_data['Date'].apply(date_normalize)\n",
    "nasdaq_data['Month'] = nasdaq_data['Date'].apply(lambda x:x.split('-')[0]+'-'+x.split('-')[1])\n",
    "\n",
    "nasdaq_data['Close'] = nasdaq_data['Close'].apply(lambda x: float(x))\n",
    "nasdaq_data['id'] = nasdaq_data.index"
   ]
  },
  {
   "cell_type": "code",
   "execution_count": 16,
   "id": "1d4cb660",
   "metadata": {},
   "outputs": [
    {
     "data": {
      "text/html": [
       "<div>\n",
       "<style scoped>\n",
       "    .dataframe tbody tr th:only-of-type {\n",
       "        vertical-align: middle;\n",
       "    }\n",
       "\n",
       "    .dataframe tbody tr th {\n",
       "        vertical-align: top;\n",
       "    }\n",
       "\n",
       "    .dataframe thead th {\n",
       "        text-align: right;\n",
       "    }\n",
       "</style>\n",
       "<table border=\"1\" class=\"dataframe\">\n",
       "  <thead>\n",
       "    <tr style=\"text-align: right;\">\n",
       "      <th></th>\n",
       "      <th>Month</th>\n",
       "      <th>Close</th>\n",
       "    </tr>\n",
       "  </thead>\n",
       "  <tbody>\n",
       "    <tr>\n",
       "      <th>439</th>\n",
       "      <td>2022-05</td>\n",
       "      <td>12375.008510</td>\n",
       "    </tr>\n",
       "    <tr>\n",
       "      <th>440</th>\n",
       "      <td>2022-06</td>\n",
       "      <td>11918.649971</td>\n",
       "    </tr>\n",
       "    <tr>\n",
       "      <th>441</th>\n",
       "      <td>2022-07</td>\n",
       "      <td>11931.179312</td>\n",
       "    </tr>\n",
       "  </tbody>\n",
       "</table>\n",
       "</div>"
      ],
      "text/plain": [
       "       Month         Close\n",
       "439  2022-05  12375.008510\n",
       "440  2022-06  11918.649971\n",
       "441  2022-07  11931.179312"
      ]
     },
     "execution_count": 16,
     "metadata": {},
     "output_type": "execute_result"
    }
   ],
   "source": [
    "nasdaq_data_month = pysqldf(u\"\"\"\n",
    "    select Month, avg(Close) as Close\n",
    "    from nasdaq_data\n",
    "    group by Month\n",
    "    \"\"\")\n",
    "\n",
    "nasdaq_data_month.tail(3)"
   ]
  },
  {
   "cell_type": "code",
   "execution_count": 18,
   "id": "1968acc1",
   "metadata": {},
   "outputs": [
    {
     "data": {
      "text/html": [
       "<div>\n",
       "<style scoped>\n",
       "    .dataframe tbody tr th:only-of-type {\n",
       "        vertical-align: middle;\n",
       "    }\n",
       "\n",
       "    .dataframe tbody tr th {\n",
       "        vertical-align: top;\n",
       "    }\n",
       "\n",
       "    .dataframe thead th {\n",
       "        text-align: right;\n",
       "    }\n",
       "</style>\n",
       "<table border=\"1\" class=\"dataframe\">\n",
       "  <thead>\n",
       "    <tr style=\"text-align: right;\">\n",
       "      <th></th>\n",
       "      <th>Date</th>\n",
       "      <th>Month</th>\n",
       "      <th>Property_Price</th>\n",
       "      <th>NQ100_Price</th>\n",
       "      <th>id</th>\n",
       "    </tr>\n",
       "  </thead>\n",
       "  <tbody>\n",
       "    <tr>\n",
       "      <th>142</th>\n",
       "      <td>2021-07-01</td>\n",
       "      <td>2021-07</td>\n",
       "      <td>442.71</td>\n",
       "      <td>14849.662853</td>\n",
       "      <td>142</td>\n",
       "    </tr>\n",
       "    <tr>\n",
       "      <th>143</th>\n",
       "      <td>2021-10-01</td>\n",
       "      <td>2021-10</td>\n",
       "      <td>458.67</td>\n",
       "      <td>15143.725260</td>\n",
       "      <td>143</td>\n",
       "    </tr>\n",
       "    <tr>\n",
       "      <th>144</th>\n",
       "      <td>2022-01-01</td>\n",
       "      <td>2022-01</td>\n",
       "      <td>477.84</td>\n",
       "      <td>15207.219043</td>\n",
       "      <td>144</td>\n",
       "    </tr>\n",
       "  </tbody>\n",
       "</table>\n",
       "</div>"
      ],
      "text/plain": [
       "           Date    Month  Property_Price   NQ100_Price   id\n",
       "142  2021-07-01  2021-07          442.71  14849.662853  142\n",
       "143  2021-10-01  2021-10          458.67  15143.725260  143\n",
       "144  2022-01-01  2022-01          477.84  15207.219043  144"
      ]
     },
     "execution_count": 18,
     "metadata": {},
     "output_type": "execute_result"
    }
   ],
   "source": [
    "compare_date = pysqldf(u\"\"\"\n",
    "    select \n",
    "    p.Date,\n",
    "    p.Month, \n",
    "    p.Close as Property_Price,\n",
    "    n.Close as NQ100_Price\n",
    "    from property_data as p\n",
    "    left join nasdaq_data_month as n on n.Month = p.Month\n",
    "    where p.Date >= '1985-10-10'\n",
    "    order by p.Month asc\n",
    "    \"\"\")\n",
    "\n",
    "compare_date['id'] = compare_date.index\n",
    "\n",
    "compare_date.tail(3)"
   ]
  },
  {
   "cell_type": "code",
   "execution_count": 19,
   "id": "be5f6b9d",
   "metadata": {},
   "outputs": [
    {
     "data": {
      "text/plain": [
       "<AxesSubplot:xlabel='Date'>"
      ]
     },
     "execution_count": 19,
     "metadata": {},
     "output_type": "execute_result"
    },
    {
     "data": {
      "image/png": "[encoded data removed]",
      "text/plain": [
       "<Figure size 432x288 with 1 Axes>"
      ]
     },
     "metadata": {
      "needs_background": "light"
     },
     "output_type": "display_data"
    }
   ],
   "source": [
    "compare_date['property_price_normalized'] = compare_date['Property_Price']/compare_date['Property_Price'][0]\n",
    "compare_date['nq100_price_normalized'] = compare_date['NQ100_Price']/compare_date['NQ100_Price'][0]\n",
    "\n",
    "compare_date.plot(\n",
    "    x ='Date', y=[\n",
    "    'property_price_normalized',\n",
    "    'nq100_price_normalized', \n",
    "    ], grid = True)"
   ]
  },
  {
   "cell_type": "code",
   "execution_count": 20,
   "id": "4e210946",
   "metadata": {},
   "outputs": [
    {
     "data": {
      "text/plain": [
       "<AxesSubplot:xlabel='Date'>"
      ]
     },
     "execution_count": 20,
     "metadata": {},
     "output_type": "execute_result"
    },
    {
     "data": {
      "image/png": "[encoded data removed]",
      "text/plain": [
       "<Figure size 432x288 with 1 Axes>"
      ]
     },
     "metadata": {
      "needs_background": "light"
     },
     "output_type": "display_data"
    }
   ],
   "source": [
    "compare_date.plot(\n",
    "    x ='Date', y=[\n",
    "    'property_price_normalized',\n",
    "    ], grid = True)"
   ]
  },
  {
   "cell_type": "code",
   "execution_count": 21,
   "id": "3a43f686",
   "metadata": {},
   "outputs": [
    {
     "data": {
      "text/plain": [
       "<AxesSubplot:xlabel='Date'>"
      ]
     },
     "execution_count": 21,
     "metadata": {},
     "output_type": "execute_result"
    },
    {
     "data": {
      "image/png": "[encoded data removed]",
      "text/plain": [
       "<Figure size 432x288 with 1 Axes>"
      ]
     },
     "metadata": {
      "needs_background": "light"
     },
     "output_type": "display_data"
    }
   ],
   "source": [
    "compare_date.plot(\n",
    "    x ='Date', y=[\n",
    "    'nq100_price_normalized',\n",
    "    ], grid = True)"
   ]
  },
  {
   "cell_type": "code",
   "execution_count": 22,
   "id": "53679bba",
   "metadata": {},
   "outputs": [],
   "source": [
    "compare_date_now_old = pysqldf(u\"\"\"\n",
    "    select \n",
    "    now.*,\n",
    "    old.Date as Date_old,\n",
    "    old.Property_Price as Property_Price_old,\n",
    "    old.NQ100_Price as NQ100_Price_old    \n",
    "    from compare_date as now\n",
    "    join compare_date as old\n",
    "    on old.id + {} = now.id\n",
    "    \"\"\".format(window_size))"
   ]
  },
  {
   "cell_type": "code",
   "execution_count": 24,
   "id": "55f84b24",
   "metadata": {},
   "outputs": [
    {
     "data": {
      "text/html": [
       "<div>\n",
       "<style scoped>\n",
       "    .dataframe tbody tr th:only-of-type {\n",
       "        vertical-align: middle;\n",
       "    }\n",
       "\n",
       "    .dataframe tbody tr th {\n",
       "        vertical-align: top;\n",
       "    }\n",
       "\n",
       "    .dataframe thead th {\n",
       "        text-align: right;\n",
       "    }\n",
       "</style>\n",
       "<table border=\"1\" class=\"dataframe\">\n",
       "  <thead>\n",
       "    <tr style=\"text-align: right;\">\n",
       "      <th></th>\n",
       "      <th>Date</th>\n",
       "      <th>Month</th>\n",
       "      <th>Property_Price</th>\n",
       "      <th>NQ100_Price</th>\n",
       "      <th>id</th>\n",
       "      <th>property_price_normalized</th>\n",
       "      <th>nq100_price_normalized</th>\n",
       "      <th>Date_old</th>\n",
       "      <th>Property_Price_old</th>\n",
       "      <th>NQ100_Price_old</th>\n",
       "    </tr>\n",
       "  </thead>\n",
       "  <tbody>\n",
       "    <tr>\n",
       "      <th>22</th>\n",
       "      <td>2021-07-01</td>\n",
       "      <td>2021-07</td>\n",
       "      <td>442.71</td>\n",
       "      <td>14849.662853</td>\n",
       "      <td>142</td>\n",
       "      <td>6.512357</td>\n",
       "      <td>113.322585</td>\n",
       "      <td>1991-07-01</td>\n",
       "      <td>123.13</td>\n",
       "      <td>262.580455</td>\n",
       "    </tr>\n",
       "    <tr>\n",
       "      <th>23</th>\n",
       "      <td>2021-10-01</td>\n",
       "      <td>2021-10</td>\n",
       "      <td>458.67</td>\n",
       "      <td>15143.725260</td>\n",
       "      <td>143</td>\n",
       "      <td>6.747132</td>\n",
       "      <td>115.566671</td>\n",
       "      <td>1991-10-01</td>\n",
       "      <td>124.39</td>\n",
       "      <td>286.842172</td>\n",
       "    </tr>\n",
       "    <tr>\n",
       "      <th>24</th>\n",
       "      <td>2022-01-01</td>\n",
       "      <td>2022-01</td>\n",
       "      <td>477.84</td>\n",
       "      <td>15207.219043</td>\n",
       "      <td>144</td>\n",
       "      <td>7.029126</td>\n",
       "      <td>116.051212</td>\n",
       "      <td>1992-01-01</td>\n",
       "      <td>123.78</td>\n",
       "      <td>343.070912</td>\n",
       "    </tr>\n",
       "  </tbody>\n",
       "</table>\n",
       "</div>"
      ],
      "text/plain": [
       "          Date    Month  Property_Price   NQ100_Price   id  \\\n",
       "22  2021-07-01  2021-07          442.71  14849.662853  142   \n",
       "23  2021-10-01  2021-10          458.67  15143.725260  143   \n",
       "24  2022-01-01  2022-01          477.84  15207.219043  144   \n",
       "\n",
       "    property_price_normalized  nq100_price_normalized    Date_old  \\\n",
       "22                   6.512357              113.322585  1991-07-01   \n",
       "23                   6.747132              115.566671  1991-10-01   \n",
       "24                   7.029126              116.051212  1992-01-01   \n",
       "\n",
       "    Property_Price_old  NQ100_Price_old  \n",
       "22              123.13       262.580455  \n",
       "23              124.39       286.842172  \n",
       "24              123.78       343.070912  "
      ]
     },
     "execution_count": 24,
     "metadata": {},
     "output_type": "execute_result"
    }
   ],
   "source": [
    "compare_date_now_old.tail(3)"
   ]
  },
  {
   "cell_type": "code",
   "execution_count": 25,
   "id": "932dd56a",
   "metadata": {},
   "outputs": [],
   "source": [
    "Stock2Property = pysqldf(u\"\"\"\n",
    "    select *,\n",
    "    Property_Price/Property_Price_old as Property_Rate,\n",
    "    ((Property_Price/Property_Price_old)*5 - 4*(1-{}/30)) as Leveraged_Property_Ratio,\n",
    "    NQ100_Price/NQ100_Price_old as NQ100_Rate\n",
    "    from compare_date_now_old\n",
    "    \"\"\".format(year_duration))\n",
    "\n",
    "Stock2Property = pysqldf(u\"\"\"\n",
    "    select *,\n",
    "    NQ100_Rate/Property_Rate as Stock2Property,\n",
    "    NQ100_Rate/Leveraged_Property_Ratio as Stock2Leveraged_Property    \n",
    "    from Stock2Property\n",
    "    \"\"\")"
   ]
  },
  {
   "cell_type": "code",
   "execution_count": 28,
   "id": "62c22928",
   "metadata": {},
   "outputs": [
    {
     "data": {
      "text/html": [
       "<div>\n",
       "<style scoped>\n",
       "    .dataframe tbody tr th:only-of-type {\n",
       "        vertical-align: middle;\n",
       "    }\n",
       "\n",
       "    .dataframe tbody tr th {\n",
       "        vertical-align: top;\n",
       "    }\n",
       "\n",
       "    .dataframe thead th {\n",
       "        text-align: right;\n",
       "    }\n",
       "</style>\n",
       "<table border=\"1\" class=\"dataframe\">\n",
       "  <thead>\n",
       "    <tr style=\"text-align: right;\">\n",
       "      <th></th>\n",
       "      <th>Date</th>\n",
       "      <th>Month</th>\n",
       "      <th>Property_Price</th>\n",
       "      <th>NQ100_Price</th>\n",
       "      <th>id</th>\n",
       "      <th>property_price_normalized</th>\n",
       "      <th>nq100_price_normalized</th>\n",
       "      <th>Date_old</th>\n",
       "      <th>Property_Price_old</th>\n",
       "      <th>NQ100_Price_old</th>\n",
       "      <th>Property_Rate</th>\n",
       "      <th>Leveraged_Property_Ratio</th>\n",
       "      <th>NQ100_Rate</th>\n",
       "      <th>Stock2Property</th>\n",
       "      <th>Stock2Leveraged_Property</th>\n",
       "    </tr>\n",
       "  </thead>\n",
       "  <tbody>\n",
       "    <tr>\n",
       "      <th>22</th>\n",
       "      <td>2021-07-01</td>\n",
       "      <td>2021-07</td>\n",
       "      <td>442.71</td>\n",
       "      <td>14849.662853</td>\n",
       "      <td>142</td>\n",
       "      <td>6.512357</td>\n",
       "      <td>113.322585</td>\n",
       "      <td>1991-07-01</td>\n",
       "      <td>123.13</td>\n",
       "      <td>262.580455</td>\n",
       "      <td>3.595468</td>\n",
       "      <td>17.977341</td>\n",
       "      <td>56.552811</td>\n",
       "      <td>15.728914</td>\n",
       "      <td>3.145783</td>\n",
       "    </tr>\n",
       "    <tr>\n",
       "      <th>23</th>\n",
       "      <td>2021-10-01</td>\n",
       "      <td>2021-10</td>\n",
       "      <td>458.67</td>\n",
       "      <td>15143.725260</td>\n",
       "      <td>143</td>\n",
       "      <td>6.747132</td>\n",
       "      <td>115.566671</td>\n",
       "      <td>1991-10-01</td>\n",
       "      <td>124.39</td>\n",
       "      <td>286.842172</td>\n",
       "      <td>3.687354</td>\n",
       "      <td>18.436771</td>\n",
       "      <td>52.794626</td>\n",
       "      <td>14.317753</td>\n",
       "      <td>2.863551</td>\n",
       "    </tr>\n",
       "    <tr>\n",
       "      <th>24</th>\n",
       "      <td>2022-01-01</td>\n",
       "      <td>2022-01</td>\n",
       "      <td>477.84</td>\n",
       "      <td>15207.219043</td>\n",
       "      <td>144</td>\n",
       "      <td>7.029126</td>\n",
       "      <td>116.051212</td>\n",
       "      <td>1992-01-01</td>\n",
       "      <td>123.78</td>\n",
       "      <td>343.070912</td>\n",
       "      <td>3.860397</td>\n",
       "      <td>19.301987</td>\n",
       "      <td>44.326751</td>\n",
       "      <td>11.482432</td>\n",
       "      <td>2.296486</td>\n",
       "    </tr>\n",
       "  </tbody>\n",
       "</table>\n",
       "</div>"
      ],
      "text/plain": [
       "          Date    Month  Property_Price   NQ100_Price   id  \\\n",
       "22  2021-07-01  2021-07          442.71  14849.662853  142   \n",
       "23  2021-10-01  2021-10          458.67  15143.725260  143   \n",
       "24  2022-01-01  2022-01          477.84  15207.219043  144   \n",
       "\n",
       "    property_price_normalized  nq100_price_normalized    Date_old  \\\n",
       "22                   6.512357              113.322585  1991-07-01   \n",
       "23                   6.747132              115.566671  1991-10-01   \n",
       "24                   7.029126              116.051212  1992-01-01   \n",
       "\n",
       "    Property_Price_old  NQ100_Price_old  Property_Rate  \\\n",
       "22              123.13       262.580455       3.595468   \n",
       "23              124.39       286.842172       3.687354   \n",
       "24              123.78       343.070912       3.860397   \n",
       "\n",
       "    Leveraged_Property_Ratio  NQ100_Rate  Stock2Property  \\\n",
       "22                 17.977341   56.552811       15.728914   \n",
       "23                 18.436771   52.794626       14.317753   \n",
       "24                 19.301987   44.326751       11.482432   \n",
       "\n",
       "    Stock2Leveraged_Property  \n",
       "22                  3.145783  \n",
       "23                  2.863551  \n",
       "24                  2.296486  "
      ]
     },
     "execution_count": 28,
     "metadata": {},
     "output_type": "execute_result"
    }
   ],
   "source": [
    "Stock2Property.tail(3)"
   ]
  },
  {
   "cell_type": "code",
   "execution_count": 29,
   "id": "e0938730",
   "metadata": {},
   "outputs": [
    {
     "data": {
      "text/plain": [
       "<AxesSubplot:xlabel='Date'>"
      ]
     },
     "execution_count": 29,
     "metadata": {},
     "output_type": "execute_result"
    },
    {
     "data": {
      "image/png": "[encoded data removed]",
      "text/plain": [
       "<Figure size 432x288 with 1 Axes>"
      ]
     },
     "metadata": {
      "needs_background": "light"
     },
     "output_type": "display_data"
    }
   ],
   "source": [
    "Stock2Property.plot(\n",
    "    x ='Date', \n",
    "    y=[\n",
    "    'Leveraged_Property_Ratio', \n",
    "    'NQ100_Rate', \n",
    "    ], grid = True)"
   ]
  },
  {
   "cell_type": "markdown",
   "id": "16b17c3a",
   "metadata": {},
   "source": [
    "np.std(Stock2Property['Leveraged_Property_Ratio'])"
   ]
  },
  {
   "cell_type": "markdown",
   "id": "e115c910",
   "metadata": {},
   "source": [
    "np.std(Stock2Property['NQ100_Rate'])"
   ]
  },
  {
   "cell_type": "code",
   "execution_count": 30,
   "id": "011351fd",
   "metadata": {},
   "outputs": [
    {
     "data": {
      "text/plain": [
       "<AxesSubplot:>"
      ]
     },
     "execution_count": 30,
     "metadata": {},
     "output_type": "execute_result"
    },
    {
     "data": {
      "image/png": "[encoded data removed]",
      "text/plain": [
       "<Figure size 432x288 with 1 Axes>"
      ]
     },
     "metadata": {
      "needs_background": "light"
     },
     "output_type": "display_data"
    }
   ],
   "source": [
    "Stock2Property.boxplot(column=['Leveraged_Property_Ratio']) "
   ]
  },
  {
   "cell_type": "code",
   "execution_count": 31,
   "id": "248d9df4",
   "metadata": {},
   "outputs": [
    {
     "data": {
      "text/plain": [
       "<AxesSubplot:>"
      ]
     },
     "execution_count": 31,
     "metadata": {},
     "output_type": "execute_result"
    },
    {
     "data": {
      "image/png": "[encoded data removed]",
      "text/plain": [
       "<Figure size 432x288 with 1 Axes>"
      ]
     },
     "metadata": {
      "needs_background": "light"
     },
     "output_type": "display_data"
    }
   ],
   "source": [
    "Stock2Property.boxplot(column=['Stock2Leveraged_Property']) "
   ]
  },
  {
   "cell_type": "code",
   "execution_count": 32,
   "id": "96952208",
   "metadata": {},
   "outputs": [
    {
     "name": "stdout",
     "output_type": "stream",
     "text": [
      "Nasdaq to Leveraged Property Ratio:\t2.2965\n"
     ]
    }
   ],
   "source": [
    "nq100_to_leveraged_property_ratio = Stock2Property['Stock2Leveraged_Property'].median()\n",
    "\n",
    "print('Nasdaq to Leveraged Property Ratio:\\t%0.4f'%(nq100_to_leveraged_property_ratio))"
   ]
  },
  {
   "cell_type": "code",
   "execution_count": 33,
   "id": "5a984e1f",
   "metadata": {},
   "outputs": [
    {
     "name": "stdout",
     "output_type": "stream",
     "text": [
      "Nasdaq Ratio:\t39.3117, min:\t29.1220\n"
     ]
    }
   ],
   "source": [
    "nq100_ratio = Stock2Property['NQ100_Rate'].median()\n",
    "\n",
    "nq100_ratio_min = Stock2Property['NQ100_Rate'].min()\n",
    "\n",
    "print('Nasdaq Ratio:\\t%0.4f, min:\\t%0.4f'%(nq100_ratio, nq100_ratio_min))"
   ]
  },
  {
   "cell_type": "code",
   "execution_count": 34,
   "id": "c2e2aee3",
   "metadata": {},
   "outputs": [
    {
     "name": "stdout",
     "output_type": "stream",
     "text": [
      "Leveraged Property Ratio:\t18.2738, min:\t14.7915\n"
     ]
    }
   ],
   "source": [
    "leveraged_property_ratio = Stock2Property['Leveraged_Property_Ratio'].median()\n",
    "\n",
    "leveraged_property_ratio_min = Stock2Property['Leveraged_Property_Ratio'].min()\n",
    "\n",
    "print('Leveraged Property Ratio:\\t%0.4f, min:\\t%0.4f'%(leveraged_property_ratio, leveraged_property_ratio_min))"
   ]
  },
  {
   "cell_type": "markdown",
   "id": "a088cbfb",
   "metadata": {},
   "source": [
    "#### END"
   ]
  }
 ],
 "metadata": {
  "kernelspec": {
   "display_name": "Python 3 (ipykernel)",
   "language": "python",
   "name": "python3"
  },
  "language_info": {
   "codemirror_mode": {
    "name": "ipython",
    "version": 3
   },
   "file_extension": ".py",
   "mimetype": "text/x-python",
   "name": "python",
   "nbconvert_exporter": "python",
   "pygments_lexer": "ipython3",
   "version": "3.9.6"
  }
 },
 "nbformat": 4,
 "nbformat_minor": 5
}
