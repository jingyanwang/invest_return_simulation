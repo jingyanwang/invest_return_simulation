{
 "cells": [
  {
   "cell_type": "markdown",
   "id": "5cf0079f",
   "metadata": {},
   "source": [
    "https://fred.stlouisfed.org/categories/27281\n",
    "\n",
    "https://fred.stlouisfed.org/series/MSPUS\n",
    "\n",
    "site:https://fred.stlouisfed.org dallas property price"
   ]
  },
  {
   "cell_type": "code",
   "execution_count": 1,
   "id": "2f8f0d64",
   "metadata": {},
   "outputs": [],
   "source": [
    "import os\n",
    "import re\n",
    "import pandas as pd\n",
    "from pandasql import sqldf\n",
    "import numpy as np\n",
    "\n",
    "pysqldf = lambda q: sqldf(q, globals())"
   ]
  },
  {
   "cell_type": "code",
   "execution_count": 2,
   "id": "aec96ecf",
   "metadata": {},
   "outputs": [],
   "source": [
    "property_price_csv = 'history/MSPUS_usa.csv'\n",
    "\n",
    "#nq100\n",
    "nasdaq_data_csv = 'history/NDX.csv'\n",
    "\n",
    "#sp500\n",
    "#nasdaq_data_csv = 'history/GSPC.csv'\n",
    "\n",
    "#qld\n",
    "nasdaq_data_csv = 'history/QLD_simulation.csv'"
   ]
  },
  {
   "cell_type": "code",
   "execution_count": 3,
   "id": "4ef02781",
   "metadata": {},
   "outputs": [],
   "source": [
    "year_duration = 30\n",
    "window_size = year_duration*4"
   ]
  },
  {
   "cell_type": "code",
   "execution_count": 4,
   "id": "677e0100",
   "metadata": {},
   "outputs": [
    {
     "data": {
      "text/plain": [
       "'2022-07-01'"
      ]
     },
     "execution_count": 4,
     "metadata": {},
     "output_type": "execute_result"
    }
   ],
   "source": [
    "month_mapping = {\n",
    "    \"Jun\":6,\n",
    "    \"May\":5,\n",
    "    \"Apr\":4,\n",
    "    \"Mar\":3,\n",
    "    \"Feb\":2,\n",
    "    \"Jan\":1,\n",
    "    \"Dec\":12,\n",
    "    \"Nov\":11,\n",
    "    \"Oct\":10,\n",
    "    \"Sep\":9,\n",
    "    \"Aug\":8,\n",
    "    \"Jul\":7,\n",
    "    }\n",
    "\n",
    "def date_normalize(date):\n",
    "    try:\n",
    "        result = re.search(r'(?P<m>\\d+)\\/(?P<d>\\d+)\\/(?P<y>\\d+)', date).groupdict()\n",
    "        output = '%04d-%02d-%02d'%(\n",
    "            int(result['y']),\n",
    "            int(result['m']),\n",
    "            int(result['d']),\n",
    "            )\n",
    "        return output\n",
    "    except:\n",
    "        pass\n",
    "    try:\n",
    "        parsing_result = re.search(r'(?P<m>[A-z]{3}) (?P<d>\\d{2}) (?P<y>\\d{4})', date).groupdict()\n",
    "        parsing_result['m'] = month_mapping[parsing_result['m']]\n",
    "        parsing_result['m'] = '%02d'%(parsing_result['m'])\n",
    "        return('%s-%s-%s'%(\n",
    "            parsing_result['y'],\n",
    "            parsing_result['m'],\n",
    "            parsing_result['d'],\n",
    "            ))\n",
    "    except:\n",
    "        pass\n",
    "    try:\n",
    "        parsing_result = re.search(r'(?P<m>[A-z]{3}) (?P<d>\\d{2})\\, (?P<y>\\d{4})', date).groupdict()\n",
    "        parsing_result['m'] = month_mapping[parsing_result['m']]\n",
    "        parsing_result['m'] = '%02d'%(parsing_result['m'])\n",
    "        return('%s-%s-%s'%(\n",
    "            parsing_result['y'],\n",
    "            parsing_result['m'],\n",
    "            parsing_result['d'],\n",
    "            ))\n",
    "    except:\n",
    "        pass\n",
    "    return date\n",
    "\n",
    "date = 'Jun 14 2022'\n",
    "date = '1/1/1976'\n",
    "date = 'Jul 01, 2022'\n",
    "\n",
    "date_normalize(\n",
    "    date,\n",
    "    )"
   ]
  },
  {
   "cell_type": "code",
   "execution_count": 5,
   "id": "a5ec7673",
   "metadata": {},
   "outputs": [],
   "source": [
    "def str_to_float(x):\n",
    "    try:\n",
    "        return float(re.sub(r'[^\\d\\.]+', '', x))\n",
    "    except:\n",
    "        return x           "
   ]
  },
  {
   "cell_type": "code",
   "execution_count": 6,
   "id": "89fd7d33",
   "metadata": {},
   "outputs": [
    {
     "data": {
      "text/html": [
       "<div>\n",
       "<style scoped>\n",
       "    .dataframe tbody tr th:only-of-type {\n",
       "        vertical-align: middle;\n",
       "    }\n",
       "\n",
       "    .dataframe tbody tr th {\n",
       "        vertical-align: top;\n",
       "    }\n",
       "\n",
       "    .dataframe thead th {\n",
       "        text-align: right;\n",
       "    }\n",
       "</style>\n",
       "<table border=\"1\" class=\"dataframe\">\n",
       "  <thead>\n",
       "    <tr style=\"text-align: right;\">\n",
       "      <th></th>\n",
       "      <th>day</th>\n",
       "      <th>price</th>\n",
       "      <th>Date</th>\n",
       "      <th>Month</th>\n",
       "      <th>Close</th>\n",
       "      <th>id</th>\n",
       "    </tr>\n",
       "  </thead>\n",
       "  <tbody>\n",
       "    <tr>\n",
       "      <th>235</th>\n",
       "      <td>2021-10-01</td>\n",
       "      <td>423600.0</td>\n",
       "      <td>2021-10-01</td>\n",
       "      <td>2021-10</td>\n",
       "      <td>423600.0</td>\n",
       "      <td>235</td>\n",
       "    </tr>\n",
       "    <tr>\n",
       "      <th>236</th>\n",
       "      <td>2022-01-01</td>\n",
       "      <td>433100.0</td>\n",
       "      <td>2022-01-01</td>\n",
       "      <td>2022-01</td>\n",
       "      <td>433100.0</td>\n",
       "      <td>236</td>\n",
       "    </tr>\n",
       "    <tr>\n",
       "      <th>237</th>\n",
       "      <td>2022-04-01</td>\n",
       "      <td>440300.0</td>\n",
       "      <td>2022-04-01</td>\n",
       "      <td>2022-04</td>\n",
       "      <td>440300.0</td>\n",
       "      <td>237</td>\n",
       "    </tr>\n",
       "  </tbody>\n",
       "</table>\n",
       "</div>"
      ],
      "text/plain": [
       "            day     price        Date    Month     Close   id\n",
       "235  2021-10-01  423600.0  2021-10-01  2021-10  423600.0  235\n",
       "236  2022-01-01  433100.0  2022-01-01  2022-01  433100.0  236\n",
       "237  2022-04-01  440300.0  2022-04-01  2022-04  440300.0  237"
      ]
     },
     "execution_count": 6,
     "metadata": {},
     "output_type": "execute_result"
    }
   ],
   "source": [
    "property_data = pd.read_csv(\n",
    "    property_price_csv,\n",
    "    )\n",
    "\n",
    "property_data.rename(columns = {property_data.columns[0]:'day', property_data.columns[1]:'price'}, inplace = True)\n",
    "\n",
    "property_data['Date'] = property_data[property_data.columns[0]].apply(date_normalize)\n",
    "property_data['Month'] = property_data['Date'].apply(lambda x:x.split('-')[0]+'-'+x.split('-')[1])\n",
    "\n",
    "property_data['Close'] = property_data[property_data.columns[1]].apply(lambda x: float(x))\n",
    "property_data['id'] = property_data.index\n",
    "\n",
    "property_data.tail(3)"
   ]
  },
  {
   "cell_type": "code",
   "execution_count": 7,
   "id": "bc2ba172",
   "metadata": {},
   "outputs": [],
   "source": [
    "nasdaq_data = pd.read_csv(\n",
    "    nasdaq_data_csv,\n",
    "    )\n",
    "\n",
    "nasdaq_data['Date'] = nasdaq_data['Date'].apply(date_normalize)\n",
    "nasdaq_data['Month'] = nasdaq_data['Date'].apply(lambda x:x.split('-')[0]+'-'+x.split('-')[1])\n",
    "\n",
    "nasdaq_data['Close'] = nasdaq_data['Close'].apply(str_to_float)\n",
    "nasdaq_data['id'] = nasdaq_data.index"
   ]
  },
  {
   "cell_type": "code",
   "execution_count": 8,
   "id": "4b07508f",
   "metadata": {},
   "outputs": [
    {
     "data": {
      "text/html": [
       "<div>\n",
       "<style scoped>\n",
       "    .dataframe tbody tr th:only-of-type {\n",
       "        vertical-align: middle;\n",
       "    }\n",
       "\n",
       "    .dataframe tbody tr th {\n",
       "        vertical-align: top;\n",
       "    }\n",
       "\n",
       "    .dataframe thead th {\n",
       "        text-align: right;\n",
       "    }\n",
       "</style>\n",
       "<table border=\"1\" class=\"dataframe\">\n",
       "  <thead>\n",
       "    <tr style=\"text-align: right;\">\n",
       "      <th></th>\n",
       "      <th>Date</th>\n",
       "      <th>Close</th>\n",
       "      <th>Month</th>\n",
       "      <th>id</th>\n",
       "    </tr>\n",
       "  </thead>\n",
       "  <tbody>\n",
       "    <tr>\n",
       "      <th>0</th>\n",
       "      <td>1985-10-02</td>\n",
       "      <td>0.049838</td>\n",
       "      <td>1985-10</td>\n",
       "      <td>0</td>\n",
       "    </tr>\n",
       "    <tr>\n",
       "      <th>1</th>\n",
       "      <td>1985-10-03</td>\n",
       "      <td>0.049879</td>\n",
       "      <td>1985-10</td>\n",
       "      <td>1</td>\n",
       "    </tr>\n",
       "    <tr>\n",
       "      <th>2</th>\n",
       "      <td>1985-10-04</td>\n",
       "      <td>0.049163</td>\n",
       "      <td>1985-10</td>\n",
       "      <td>2</td>\n",
       "    </tr>\n",
       "  </tbody>\n",
       "</table>\n",
       "</div>"
      ],
      "text/plain": [
       "         Date     Close    Month  id\n",
       "0  1985-10-02  0.049838  1985-10   0\n",
       "1  1985-10-03  0.049879  1985-10   1\n",
       "2  1985-10-04  0.049163  1985-10   2"
      ]
     },
     "execution_count": 8,
     "metadata": {},
     "output_type": "execute_result"
    }
   ],
   "source": [
    "nasdaq_data.head(3)"
   ]
  },
  {
   "cell_type": "code",
   "execution_count": 9,
   "id": "1d4cb660",
   "metadata": {},
   "outputs": [
    {
     "data": {
      "text/html": [
       "<div>\n",
       "<style scoped>\n",
       "    .dataframe tbody tr th:only-of-type {\n",
       "        vertical-align: middle;\n",
       "    }\n",
       "\n",
       "    .dataframe tbody tr th {\n",
       "        vertical-align: top;\n",
       "    }\n",
       "\n",
       "    .dataframe thead th {\n",
       "        text-align: right;\n",
       "    }\n",
       "</style>\n",
       "<table border=\"1\" class=\"dataframe\">\n",
       "  <thead>\n",
       "    <tr style=\"text-align: right;\">\n",
       "      <th></th>\n",
       "      <th>Month</th>\n",
       "      <th>Close</th>\n",
       "    </tr>\n",
       "  </thead>\n",
       "  <tbody>\n",
       "    <tr>\n",
       "      <th>0</th>\n",
       "      <td>1985-10</td>\n",
       "      <td>0.051502</td>\n",
       "    </tr>\n",
       "    <tr>\n",
       "      <th>1</th>\n",
       "      <td>1985-11</td>\n",
       "      <td>0.059480</td>\n",
       "    </tr>\n",
       "    <tr>\n",
       "      <th>2</th>\n",
       "      <td>1985-12</td>\n",
       "      <td>0.068157</td>\n",
       "    </tr>\n",
       "  </tbody>\n",
       "</table>\n",
       "</div>"
      ],
      "text/plain": [
       "     Month     Close\n",
       "0  1985-10  0.051502\n",
       "1  1985-11  0.059480\n",
       "2  1985-12  0.068157"
      ]
     },
     "execution_count": 9,
     "metadata": {},
     "output_type": "execute_result"
    }
   ],
   "source": [
    "nasdaq_data_month = pysqldf(u\"\"\"\n",
    "    select Month, avg(Close) as Close\n",
    "    from nasdaq_data\n",
    "    group by Month\n",
    "    \"\"\")\n",
    "\n",
    "nasdaq_data_month.head(3)"
   ]
  },
  {
   "cell_type": "code",
   "execution_count": 10,
   "id": "1968acc1",
   "metadata": {},
   "outputs": [
    {
     "data": {
      "text/html": [
       "<div>\n",
       "<style scoped>\n",
       "    .dataframe tbody tr th:only-of-type {\n",
       "        vertical-align: middle;\n",
       "    }\n",
       "\n",
       "    .dataframe tbody tr th {\n",
       "        vertical-align: top;\n",
       "    }\n",
       "\n",
       "    .dataframe thead th {\n",
       "        text-align: right;\n",
       "    }\n",
       "</style>\n",
       "<table border=\"1\" class=\"dataframe\">\n",
       "  <thead>\n",
       "    <tr style=\"text-align: right;\">\n",
       "      <th></th>\n",
       "      <th>Date</th>\n",
       "      <th>Month</th>\n",
       "      <th>Property_Price</th>\n",
       "      <th>NQ100_Price</th>\n",
       "      <th>id</th>\n",
       "    </tr>\n",
       "  </thead>\n",
       "  <tbody>\n",
       "    <tr>\n",
       "      <th>0</th>\n",
       "      <td>1986-01-01</td>\n",
       "      <td>1986-01</td>\n",
       "      <td>88000.0</td>\n",
       "      <td>0.069290</td>\n",
       "      <td>0</td>\n",
       "    </tr>\n",
       "    <tr>\n",
       "      <th>1</th>\n",
       "      <td>1986-04-01</td>\n",
       "      <td>1986-04</td>\n",
       "      <td>92100.0</td>\n",
       "      <td>0.095727</td>\n",
       "      <td>1</td>\n",
       "    </tr>\n",
       "    <tr>\n",
       "      <th>2</th>\n",
       "      <td>1986-07-01</td>\n",
       "      <td>1986-07</td>\n",
       "      <td>93000.0</td>\n",
       "      <td>0.091118</td>\n",
       "      <td>2</td>\n",
       "    </tr>\n",
       "  </tbody>\n",
       "</table>\n",
       "</div>"
      ],
      "text/plain": [
       "         Date    Month  Property_Price  NQ100_Price  id\n",
       "0  1986-01-01  1986-01         88000.0     0.069290   0\n",
       "1  1986-04-01  1986-04         92100.0     0.095727   1\n",
       "2  1986-07-01  1986-07         93000.0     0.091118   2"
      ]
     },
     "execution_count": 10,
     "metadata": {},
     "output_type": "execute_result"
    }
   ],
   "source": [
    "compare_date = pysqldf(u\"\"\"\n",
    "    select \n",
    "    p.Date,\n",
    "    p.Month, \n",
    "    p.Close as Property_Price,\n",
    "    n.Close as NQ100_Price\n",
    "    from property_data as p\n",
    "    join nasdaq_data_month as n on n.Month = p.Month\n",
    "    where p.Date >= '1985-10-10'\n",
    "    order by p.Month asc\n",
    "    \"\"\")\n",
    "\n",
    "compare_date['id'] = compare_date.index\n",
    "\n",
    "compare_date.head(3)"
   ]
  },
  {
   "cell_type": "code",
   "execution_count": 11,
   "id": "be5f6b9d",
   "metadata": {},
   "outputs": [
    {
     "data": {
      "text/plain": [
       "<AxesSubplot:xlabel='Date'>"
      ]
     },
     "execution_count": 11,
     "metadata": {},
     "output_type": "execute_result"
    },
    {
     "data": {
      "image/png": "[encoded data removed]",
      "text/plain": [
       "<Figure size 432x288 with 1 Axes>"
      ]
     },
     "metadata": {
      "needs_background": "light"
     },
     "output_type": "display_data"
    }
   ],
   "source": [
    "compare_date['property_price_normalized'] = compare_date['Property_Price']/compare_date['Property_Price'][0]\n",
    "compare_date['nq100_price_normalized'] = compare_date['NQ100_Price']/compare_date['NQ100_Price'][0]\n",
    "\n",
    "compare_date.plot(\n",
    "    x ='Date', y=[\n",
    "    'property_price_normalized',\n",
    "    'nq100_price_normalized', \n",
    "    ], grid = True)"
   ]
  },
  {
   "cell_type": "code",
   "execution_count": 12,
   "id": "4e210946",
   "metadata": {},
   "outputs": [
    {
     "data": {
      "text/plain": [
       "<AxesSubplot:xlabel='Date'>"
      ]
     },
     "execution_count": 12,
     "metadata": {},
     "output_type": "execute_result"
    },
    {
     "data": {
      "image/png": "[encoded data removed]",
      "text/plain": [
       "<Figure size 432x288 with 1 Axes>"
      ]
     },
     "metadata": {
      "needs_background": "light"
     },
     "output_type": "display_data"
    }
   ],
   "source": [
    "compare_date.plot(\n",
    "    x ='Date', y=[\n",
    "    'property_price_normalized',\n",
    "    ], grid = True)"
   ]
  },
  {
   "cell_type": "code",
   "execution_count": 13,
   "id": "3a43f686",
   "metadata": {},
   "outputs": [
    {
     "data": {
      "text/plain": [
       "<AxesSubplot:xlabel='Date'>"
      ]
     },
     "execution_count": 13,
     "metadata": {},
     "output_type": "execute_result"
    },
    {
     "data": {
      "image/png": "[encoded data removed]",
      "text/plain": [
       "<Figure size 432x288 with 1 Axes>"
      ]
     },
     "metadata": {
      "needs_background": "light"
     },
     "output_type": "display_data"
    }
   ],
   "source": [
    "compare_date.plot(\n",
    "    x ='Date', y=[\n",
    "    'nq100_price_normalized',\n",
    "    ], grid = True)"
   ]
  },
  {
   "cell_type": "code",
   "execution_count": 14,
   "id": "53679bba",
   "metadata": {},
   "outputs": [],
   "source": [
    "compare_date_now_old = pysqldf(u\"\"\"\n",
    "    select \n",
    "    now.*,\n",
    "    old.Date as Date_old,\n",
    "    old.Property_Price as Property_Price_old,\n",
    "    old.NQ100_Price as NQ100_Price_old    \n",
    "    from compare_date as now\n",
    "    join compare_date as old\n",
    "    on old.id + {} = now.id\n",
    "    \"\"\".format(window_size))"
   ]
  },
  {
   "cell_type": "code",
   "execution_count": 15,
   "id": "55f84b24",
   "metadata": {},
   "outputs": [
    {
     "data": {
      "text/html": [
       "<div>\n",
       "<style scoped>\n",
       "    .dataframe tbody tr th:only-of-type {\n",
       "        vertical-align: middle;\n",
       "    }\n",
       "\n",
       "    .dataframe tbody tr th {\n",
       "        vertical-align: top;\n",
       "    }\n",
       "\n",
       "    .dataframe thead th {\n",
       "        text-align: right;\n",
       "    }\n",
       "</style>\n",
       "<table border=\"1\" class=\"dataframe\">\n",
       "  <thead>\n",
       "    <tr style=\"text-align: right;\">\n",
       "      <th></th>\n",
       "      <th>Date</th>\n",
       "      <th>Month</th>\n",
       "      <th>Property_Price</th>\n",
       "      <th>NQ100_Price</th>\n",
       "      <th>id</th>\n",
       "      <th>property_price_normalized</th>\n",
       "      <th>nq100_price_normalized</th>\n",
       "      <th>Date_old</th>\n",
       "      <th>Property_Price_old</th>\n",
       "      <th>NQ100_Price_old</th>\n",
       "    </tr>\n",
       "  </thead>\n",
       "  <tbody>\n",
       "    <tr>\n",
       "      <th>23</th>\n",
       "      <td>2021-10-01</td>\n",
       "      <td>2021-10</td>\n",
       "      <td>423600.0</td>\n",
       "      <td>77.682268</td>\n",
       "      <td>143</td>\n",
       "      <td>4.813636</td>\n",
       "      <td>1121.119135</td>\n",
       "      <td>1991-10-01</td>\n",
       "      <td>120000.0</td>\n",
       "      <td>0.252428</td>\n",
       "    </tr>\n",
       "    <tr>\n",
       "      <th>24</th>\n",
       "      <td>2022-01-01</td>\n",
       "      <td>2022-01</td>\n",
       "      <td>433100.0</td>\n",
       "      <td>77.634887</td>\n",
       "      <td>144</td>\n",
       "      <td>4.921591</td>\n",
       "      <td>1120.435327</td>\n",
       "      <td>1992-01-01</td>\n",
       "      <td>119500.0</td>\n",
       "      <td>0.356242</td>\n",
       "    </tr>\n",
       "    <tr>\n",
       "      <th>25</th>\n",
       "      <td>2022-04-01</td>\n",
       "      <td>2022-04</td>\n",
       "      <td>440300.0</td>\n",
       "      <td>63.821211</td>\n",
       "      <td>145</td>\n",
       "      <td>5.003409</td>\n",
       "      <td>921.074813</td>\n",
       "      <td>1992-04-01</td>\n",
       "      <td>120000.0</td>\n",
       "      <td>0.291351</td>\n",
       "    </tr>\n",
       "  </tbody>\n",
       "</table>\n",
       "</div>"
      ],
      "text/plain": [
       "          Date    Month  Property_Price  NQ100_Price   id  \\\n",
       "23  2021-10-01  2021-10        423600.0    77.682268  143   \n",
       "24  2022-01-01  2022-01        433100.0    77.634887  144   \n",
       "25  2022-04-01  2022-04        440300.0    63.821211  145   \n",
       "\n",
       "    property_price_normalized  nq100_price_normalized    Date_old  \\\n",
       "23                   4.813636             1121.119135  1991-10-01   \n",
       "24                   4.921591             1120.435327  1992-01-01   \n",
       "25                   5.003409              921.074813  1992-04-01   \n",
       "\n",
       "    Property_Price_old  NQ100_Price_old  \n",
       "23            120000.0         0.252428  \n",
       "24            119500.0         0.356242  \n",
       "25            120000.0         0.291351  "
      ]
     },
     "execution_count": 15,
     "metadata": {},
     "output_type": "execute_result"
    }
   ],
   "source": [
    "compare_date_now_old.tail(3)"
   ]
  },
  {
   "cell_type": "code",
   "execution_count": 16,
   "id": "932dd56a",
   "metadata": {},
   "outputs": [],
   "source": [
    "Stock2Property = pysqldf(u\"\"\"\n",
    "    select *,\n",
    "    Property_Price/Property_Price_old as Property_Rate,\n",
    "    ((Property_Price/Property_Price_old)*5 - 4*(1-{}/30)) as Leveraged_Property_Ratio,\n",
    "    NQ100_Price/NQ100_Price_old as NQ100_Rate\n",
    "    from compare_date_now_old\n",
    "    \"\"\".format(year_duration))\n",
    "\n",
    "Stock2Property = pysqldf(u\"\"\"\n",
    "    select *,\n",
    "    NQ100_Rate/Property_Rate as Stock2Property,\n",
    "    NQ100_Rate/Leveraged_Property_Ratio as Stock2Leveraged_Property    \n",
    "    from Stock2Property\n",
    "    \"\"\")"
   ]
  },
  {
   "cell_type": "code",
   "execution_count": 24,
   "id": "62c22928",
   "metadata": {},
   "outputs": [
    {
     "data": {
      "text/html": [
       "<div>\n",
       "<style scoped>\n",
       "    .dataframe tbody tr th:only-of-type {\n",
       "        vertical-align: middle;\n",
       "    }\n",
       "\n",
       "    .dataframe tbody tr th {\n",
       "        vertical-align: top;\n",
       "    }\n",
       "\n",
       "    .dataframe thead th {\n",
       "        text-align: right;\n",
       "    }\n",
       "</style>\n",
       "<table border=\"1\" class=\"dataframe\">\n",
       "  <thead>\n",
       "    <tr style=\"text-align: right;\">\n",
       "      <th></th>\n",
       "      <th>Date</th>\n",
       "      <th>Month</th>\n",
       "      <th>Property_Price</th>\n",
       "      <th>NQ100_Price</th>\n",
       "      <th>id</th>\n",
       "      <th>property_price_normalized</th>\n",
       "      <th>nq100_price_normalized</th>\n",
       "      <th>Date_old</th>\n",
       "      <th>Property_Price_old</th>\n",
       "      <th>NQ100_Price_old</th>\n",
       "      <th>Property_Rate</th>\n",
       "      <th>Leveraged_Property_Ratio</th>\n",
       "      <th>NQ100_Rate</th>\n",
       "      <th>Stock2Property</th>\n",
       "      <th>Stock2Leveraged_Property</th>\n",
       "    </tr>\n",
       "  </thead>\n",
       "  <tbody>\n",
       "    <tr>\n",
       "      <th>0</th>\n",
       "      <td>2016-01-01</td>\n",
       "      <td>2016-01</td>\n",
       "      <td>299800.0</td>\n",
       "      <td>8.102901</td>\n",
       "      <td>120</td>\n",
       "      <td>3.406818</td>\n",
       "      <td>116.941966</td>\n",
       "      <td>1986-01-01</td>\n",
       "      <td>88000.0</td>\n",
       "      <td>0.069290</td>\n",
       "      <td>3.406818</td>\n",
       "      <td>17.034091</td>\n",
       "      <td>116.941966</td>\n",
       "      <td>34.325861</td>\n",
       "      <td>6.865172</td>\n",
       "    </tr>\n",
       "    <tr>\n",
       "      <th>1</th>\n",
       "      <td>2016-04-01</td>\n",
       "      <td>2016-04</td>\n",
       "      <td>306000.0</td>\n",
       "      <td>8.914900</td>\n",
       "      <td>121</td>\n",
       "      <td>3.477273</td>\n",
       "      <td>128.660836</td>\n",
       "      <td>1986-04-01</td>\n",
       "      <td>92100.0</td>\n",
       "      <td>0.095727</td>\n",
       "      <td>3.322476</td>\n",
       "      <td>16.612378</td>\n",
       "      <td>93.128219</td>\n",
       "      <td>28.029768</td>\n",
       "      <td>5.605954</td>\n",
       "    </tr>\n",
       "    <tr>\n",
       "      <th>2</th>\n",
       "      <td>2016-07-01</td>\n",
       "      <td>2016-07</td>\n",
       "      <td>303800.0</td>\n",
       "      <td>9.262415</td>\n",
       "      <td>122</td>\n",
       "      <td>3.452273</td>\n",
       "      <td>133.676204</td>\n",
       "      <td>1986-07-01</td>\n",
       "      <td>93000.0</td>\n",
       "      <td>0.091118</td>\n",
       "      <td>3.266667</td>\n",
       "      <td>16.333333</td>\n",
       "      <td>101.653441</td>\n",
       "      <td>31.118400</td>\n",
       "      <td>6.223680</td>\n",
       "    </tr>\n",
       "  </tbody>\n",
       "</table>\n",
       "</div>"
      ],
      "text/plain": [
       "         Date    Month  Property_Price  NQ100_Price   id  \\\n",
       "0  2016-01-01  2016-01        299800.0     8.102901  120   \n",
       "1  2016-04-01  2016-04        306000.0     8.914900  121   \n",
       "2  2016-07-01  2016-07        303800.0     9.262415  122   \n",
       "\n",
       "   property_price_normalized  nq100_price_normalized    Date_old  \\\n",
       "0                   3.406818              116.941966  1986-01-01   \n",
       "1                   3.477273              128.660836  1986-04-01   \n",
       "2                   3.452273              133.676204  1986-07-01   \n",
       "\n",
       "   Property_Price_old  NQ100_Price_old  Property_Rate  \\\n",
       "0             88000.0         0.069290       3.406818   \n",
       "1             92100.0         0.095727       3.322476   \n",
       "2             93000.0         0.091118       3.266667   \n",
       "\n",
       "   Leveraged_Property_Ratio  NQ100_Rate  Stock2Property  \\\n",
       "0                 17.034091  116.941966       34.325861   \n",
       "1                 16.612378   93.128219       28.029768   \n",
       "2                 16.333333  101.653441       31.118400   \n",
       "\n",
       "   Stock2Leveraged_Property  \n",
       "0                  6.865172  \n",
       "1                  5.605954  \n",
       "2                  6.223680  "
      ]
     },
     "execution_count": 24,
     "metadata": {},
     "output_type": "execute_result"
    }
   ],
   "source": [
    "Stock2Property.head(3)"
   ]
  },
  {
   "cell_type": "code",
   "execution_count": 18,
   "id": "e0938730",
   "metadata": {},
   "outputs": [
    {
     "data": {
      "text/plain": [
       "<AxesSubplot:xlabel='Date'>"
      ]
     },
     "execution_count": 18,
     "metadata": {},
     "output_type": "execute_result"
    },
    {
     "data": {
      "image/png": "[encoded data removed]",
      "text/plain": [
       "<Figure size 432x288 with 1 Axes>"
      ]
     },
     "metadata": {
      "needs_background": "light"
     },
     "output_type": "display_data"
    }
   ],
   "source": [
    "Stock2Property.plot(\n",
    "    x ='Date', \n",
    "    y=[\n",
    "    'Leveraged_Property_Ratio', \n",
    "    'NQ100_Rate', \n",
    "    ], grid = True)"
   ]
  },
  {
   "cell_type": "markdown",
   "id": "16b17c3a",
   "metadata": {},
   "source": [
    "np.std(Stock2Property['Leveraged_Property_Ratio'])"
   ]
  },
  {
   "cell_type": "markdown",
   "id": "e115c910",
   "metadata": {},
   "source": [
    "np.std(Stock2Property['NQ100_Rate'])"
   ]
  },
  {
   "cell_type": "code",
   "execution_count": 19,
   "id": "011351fd",
   "metadata": {},
   "outputs": [
    {
     "data": {
      "text/plain": [
       "<AxesSubplot:>"
      ]
     },
     "execution_count": 19,
     "metadata": {},
     "output_type": "execute_result"
    },
    {
     "data": {
      "image/png": "[encoded data removed]",
      "text/plain": [
       "<Figure size 432x288 with 1 Axes>"
      ]
     },
     "metadata": {
      "needs_background": "light"
     },
     "output_type": "display_data"
    }
   ],
   "source": [
    "Stock2Property.boxplot(column=['Leveraged_Property_Ratio']) "
   ]
  },
  {
   "cell_type": "code",
   "execution_count": 20,
   "id": "248d9df4",
   "metadata": {},
   "outputs": [
    {
     "data": {
      "text/plain": [
       "<AxesSubplot:>"
      ]
     },
     "execution_count": 20,
     "metadata": {},
     "output_type": "execute_result"
    },
    {
     "data": {
      "image/png": "[encoded data removed]",
      "text/plain": [
       "<Figure size 432x288 with 1 Axes>"
      ]
     },
     "metadata": {
      "needs_background": "light"
     },
     "output_type": "display_data"
    }
   ],
   "source": [
    "Stock2Property.boxplot(column=['Stock2Leveraged_Property']) "
   ]
  },
  {
   "cell_type": "code",
   "execution_count": 21,
   "id": "96952208",
   "metadata": {},
   "outputs": [
    {
     "name": "stdout",
     "output_type": "stream",
     "text": [
      "Nasdaq to Leveraged Property Ratio:\t12.5603\n"
     ]
    }
   ],
   "source": [
    "nq100_to_leveraged_property_ratio = Stock2Property['Stock2Leveraged_Property'].median()\n",
    "\n",
    "print('Nasdaq to Leveraged Property Ratio:\\t%0.4f'%(nq100_to_leveraged_property_ratio))"
   ]
  },
  {
   "cell_type": "code",
   "execution_count": 22,
   "id": "5a984e1f",
   "metadata": {},
   "outputs": [
    {
     "name": "stdout",
     "output_type": "stream",
     "text": [
      "Nasdaq Ratio:\t182.7094, min:\t93.1282\n"
     ]
    }
   ],
   "source": [
    "nq100_ratio = Stock2Property['NQ100_Rate'].median()\n",
    "\n",
    "nq100_ratio_min = Stock2Property['NQ100_Rate'].min()\n",
    "\n",
    "print('Nasdaq Ratio:\\t%0.4f, min:\\t%0.4f'%(nq100_ratio, nq100_ratio_min))"
   ]
  },
  {
   "cell_type": "code",
   "execution_count": 23,
   "id": "c2e2aee3",
   "metadata": {},
   "outputs": [
    {
     "name": "stdout",
     "output_type": "stream",
     "text": [
      "Leveraged Property Ratio:\t15.1352, min:\t12.7208\n"
     ]
    }
   ],
   "source": [
    "leveraged_property_ratio = Stock2Property['Leveraged_Property_Ratio'].median()\n",
    "\n",
    "leveraged_property_ratio_min = Stock2Property['Leveraged_Property_Ratio'].min()\n",
    "\n",
    "print('Leveraged Property Ratio:\\t%0.4f, min:\\t%0.4f'%(leveraged_property_ratio, leveraged_property_ratio_min))"
   ]
  },
  {
   "cell_type": "markdown",
   "id": "a088cbfb",
   "metadata": {},
   "source": [
    "#### END"
   ]
  }
 ],
 "metadata": {
  "kernelspec": {
   "display_name": "Python 3 (ipykernel)",
   "language": "python",
   "name": "python3"
  },
  "language_info": {
   "codemirror_mode": {
    "name": "ipython",
    "version": 3
   },
   "file_extension": ".py",
   "mimetype": "text/x-python",
   "name": "python",
   "nbconvert_exporter": "python",
   "pygments_lexer": "ipython3",
   "version": "3.9.6"
  }
 },
 "nbformat": 4,
 "nbformat_minor": 5
}
