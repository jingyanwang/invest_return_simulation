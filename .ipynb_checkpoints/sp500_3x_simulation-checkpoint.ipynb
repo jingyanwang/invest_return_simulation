{
 "cells": [
  {
   "cell_type": "code",
   "execution_count": 21,
   "id": "f35fbb81",
   "metadata": {},
   "outputs": [
    {
     "name": "stdout",
     "output_type": "stream",
     "text": [
      "Collecting sklearn\n",
      "  Downloading sklearn-0.0.tar.gz (1.1 kB)\n",
      "  Preparing metadata (setup.py): started\n",
      "  Preparing metadata (setup.py): finished with status 'done'\n",
      "Collecting scikit-learn\n",
      "  Downloading scikit_learn-1.1.2-cp310-cp310-win_amd64.whl (7.4 MB)\n",
      "     ---------------------------------------- 7.4/7.4 MB 14.7 MB/s eta 0:00:00\n",
      "Collecting joblib>=1.0.0\n",
      "  Downloading joblib-1.1.0-py2.py3-none-any.whl (306 kB)\n",
      "     -------------------------------------- 307.0/307.0 kB 9.6 MB/s eta 0:00:00\n",
      "Requirement already satisfied: numpy>=1.17.3 in c:\\users\\jimwa\\appdata\\local\\programs\\python\\python310\\lib\\site-packages (from scikit-learn->sklearn) (1.23.1)\n",
      "Collecting scipy>=1.3.2\n",
      "  Downloading scipy-1.9.0-cp310-cp310-win_amd64.whl (38.6 MB)\n",
      "     --------------------------------------- 38.6/38.6 MB 16.8 MB/s eta 0:00:00\n",
      "Collecting threadpoolctl>=2.0.0\n",
      "  Downloading threadpoolctl-3.1.0-py3-none-any.whl (14 kB)\n",
      "Using legacy 'setup.py install' for sklearn, since package 'wheel' is not installed.\n",
      "Installing collected packages: threadpoolctl, scipy, joblib, scikit-learn, sklearn\n",
      "  Running setup.py install for sklearn: started\n",
      "  Running setup.py install for sklearn: finished with status 'done'\n",
      "Successfully installed joblib-1.1.0 scikit-learn-1.1.2 scipy-1.9.0 sklearn-0.0 threadpoolctl-3.1.0\n"
     ]
    },
    {
     "name": "stderr",
     "output_type": "stream",
     "text": [
      "\n",
      "[notice] A new release of pip available: 22.2.1 -> 22.2.2\n",
      "[notice] To update, run: python.exe -m pip install --upgrade pip\n"
     ]
    },
    {
     "name": "stdout",
     "output_type": "stream",
     "text": [
      "Requirement already satisfied: matplotlib in c:\\users\\jimwa\\appdata\\local\\programs\\python\\python310\\lib\\site-packages (3.5.2)\n",
      "Requirement already satisfied: pillow>=6.2.0 in c:\\users\\jimwa\\appdata\\local\\programs\\python\\python310\\lib\\site-packages (from matplotlib) (9.2.0)\n",
      "Requirement already satisfied: kiwisolver>=1.0.1 in c:\\users\\jimwa\\appdata\\local\\programs\\python\\python310\\lib\\site-packages (from matplotlib) (1.4.4)\n",
      "Requirement already satisfied: cycler>=0.10 in c:\\users\\jimwa\\appdata\\local\\programs\\python\\python310\\lib\\site-packages (from matplotlib) (0.11.0)\n",
      "Requirement already satisfied: packaging>=20.0 in c:\\users\\jimwa\\appdata\\local\\programs\\python\\python310\\lib\\site-packages (from matplotlib) (21.3)\n",
      "Requirement already satisfied: numpy>=1.17 in c:\\users\\jimwa\\appdata\\local\\programs\\python\\python310\\lib\\site-packages (from matplotlib) (1.23.1)\n",
      "Requirement already satisfied: fonttools>=4.22.0 in c:\\users\\jimwa\\appdata\\local\\programs\\python\\python310\\lib\\site-packages (from matplotlib) (4.34.4)\n",
      "Requirement already satisfied: python-dateutil>=2.7 in c:\\users\\jimwa\\appdata\\local\\programs\\python\\python310\\lib\\site-packages (from matplotlib) (2.8.2)\n",
      "Requirement already satisfied: pyparsing>=2.2.1 in c:\\users\\jimwa\\appdata\\local\\programs\\python\\python310\\lib\\site-packages (from matplotlib) (3.0.9)\n",
      "Requirement already satisfied: six>=1.5 in c:\\users\\jimwa\\appdata\\local\\programs\\python\\python310\\lib\\site-packages (from python-dateutil>=2.7->matplotlib) (1.16.0)\n"
     ]
    },
    {
     "name": "stderr",
     "output_type": "stream",
     "text": [
      "\n",
      "[notice] A new release of pip available: 22.2.1 -> 22.2.2\n",
      "[notice] To update, run: python.exe -m pip install --upgrade pip\n"
     ]
    }
   ],
   "source": [
    "!pip install matplotlib"
   ]
  },
  {
   "cell_type": "code",
   "execution_count": 22,
   "id": "b7444532",
   "metadata": {},
   "outputs": [
    {
     "name": "stdout",
     "output_type": "stream",
     "text": [
      "Requirement already satisfied: sklearn in c:\\users\\jimwa\\appdata\\local\\programs\\python\\python310\\lib\\site-packages (0.0)\n",
      "Requirement already satisfied: scikit-learn in c:\\users\\jimwa\\appdata\\local\\programs\\python\\python310\\lib\\site-packages (from sklearn) (1.1.2)\n",
      "Requirement already satisfied: threadpoolctl>=2.0.0 in c:\\users\\jimwa\\appdata\\local\\programs\\python\\python310\\lib\\site-packages (from scikit-learn->sklearn) (3.1.0)\n",
      "Requirement already satisfied: scipy>=1.3.2 in c:\\users\\jimwa\\appdata\\local\\programs\\python\\python310\\lib\\site-packages (from scikit-learn->sklearn) (1.9.0)\n",
      "Requirement already satisfied: numpy>=1.17.3 in c:\\users\\jimwa\\appdata\\local\\programs\\python\\python310\\lib\\site-packages (from scikit-learn->sklearn) (1.23.1)\n",
      "Requirement already satisfied: joblib>=1.0.0 in c:\\users\\jimwa\\appdata\\local\\programs\\python\\python310\\lib\\site-packages (from scikit-learn->sklearn) (1.1.0)\n"
     ]
    },
    {
     "name": "stderr",
     "output_type": "stream",
     "text": [
      "\n",
      "[notice] A new release of pip available: 22.2.1 -> 22.2.2\n",
      "[notice] To update, run: python.exe -m pip install --upgrade pip\n"
     ]
    }
   ],
   "source": [
    "!pip install sklearn"
   ]
  },
  {
   "cell_type": "code",
   "execution_count": 1,
   "id": "c96097b3",
   "metadata": {},
   "outputs": [],
   "source": [
    "import os\n",
    "import re\n",
    "import pandas as pd\n",
    "from pandasql import sqldf\n",
    "\n",
    "pysqldf = lambda q: sqldf(q, globals())"
   ]
  },
  {
   "cell_type": "code",
   "execution_count": 23,
   "id": "fb049822",
   "metadata": {},
   "outputs": [],
   "source": [
    "import numpy as np\n",
    "from sklearn.linear_model import LinearRegression"
   ]
  },
  {
   "cell_type": "markdown",
   "id": "495f08cb",
   "metadata": {},
   "source": [
    "https://finance.yahoo.com/quote/%5EGSPC/"
   ]
  },
  {
   "cell_type": "code",
   "execution_count": 2,
   "id": "352977bb",
   "metadata": {},
   "outputs": [],
   "source": [
    "pd.read_csv(\n",
    "    'history/GSPC_original.csv',\n",
    "    sep='\\t').to_csv('history/GSPC.csv')"
   ]
  },
  {
   "cell_type": "code",
   "execution_count": 3,
   "id": "97d19733",
   "metadata": {},
   "outputs": [],
   "source": [
    "ETF = 'GSPC'\n",
    "ETF_3x = 'UPRO'"
   ]
  },
  {
   "cell_type": "markdown",
   "id": "48c15447",
   "metadata": {},
   "source": [
    "ETF = 'GSPC'\n",
    "ETF_3x = 'SPXL'"
   ]
  },
  {
   "cell_type": "code",
   "execution_count": 4,
   "id": "fec12f87",
   "metadata": {},
   "outputs": [],
   "source": [
    "leverage_ratio = 3"
   ]
  },
  {
   "cell_type": "code",
   "execution_count": 5,
   "id": "fc067daa",
   "metadata": {},
   "outputs": [
    {
     "data": {
      "text/plain": [
       "'1929-04-01'"
      ]
     },
     "execution_count": 5,
     "metadata": {},
     "output_type": "execute_result"
    }
   ],
   "source": [
    "month_mapping = {\n",
    "    \"Jun\":6,\n",
    "    \"May\":5,\n",
    "    \"Apr\":4,\n",
    "    \"Mar\":3,\n",
    "    \"Feb\":2,\n",
    "    \"Jan\":1,\n",
    "    \"Dec\":12,\n",
    "    \"Nov\":11,\n",
    "    \"Oct\":10,\n",
    "    \"Sep\":9,\n",
    "    \"Aug\":8,\n",
    "    \"Jul\":7,\n",
    "    }\n",
    "\n",
    "def date_normalize(date):\n",
    "    try:\n",
    "        result = re.search(r'(?P<m>\\d+)\\/(?P<d>\\d+)\\/(?P<y>\\d+)', date).groupdict()\n",
    "        output = '%04d-%02d-%02d'%(\n",
    "            int(result['y']),\n",
    "            int(result['m']),\n",
    "            int(result['d']),\n",
    "            )\n",
    "        return output\n",
    "    except:\n",
    "        pass\n",
    "    try:\n",
    "        parsing_result = re.search(r'(?P<m>[A-z]{3}) (?P<d>\\d{2}) (?P<y>\\d{4})', date).groupdict()\n",
    "        parsing_result['m'] = month_mapping[parsing_result['m']]\n",
    "        parsing_result['m'] = '%02d'%(parsing_result['m'])\n",
    "        return('%s-%s-%s'%(\n",
    "            parsing_result['y'],\n",
    "            parsing_result['m'],\n",
    "            parsing_result['d'],\n",
    "            ))\n",
    "    except:\n",
    "        pass\n",
    "    try:\n",
    "        parsing_result = re.search(r'(?P<m>[A-z]{3}) (?P<d>\\d{2}), (?P<y>\\d{4})', date).groupdict()\n",
    "        parsing_result['m'] = month_mapping[parsing_result['m']]\n",
    "        parsing_result['m'] = '%02d'%(parsing_result['m'])\n",
    "        return('%s-%s-%s'%(\n",
    "            parsing_result['y'],\n",
    "            parsing_result['m'],\n",
    "            parsing_result['d'],\n",
    "            ))\n",
    "    except:\n",
    "        pass\n",
    "    return date\n",
    "\n",
    "\n",
    "date = '9/17/2015'\n",
    "date = 'Jun 14 2022'\n",
    "date = 'Apr 01, 1929'\n",
    "\n",
    "date_normalize(\n",
    "    date,\n",
    "    )"
   ]
  },
  {
   "cell_type": "code",
   "execution_count": 6,
   "id": "ff4fbf78",
   "metadata": {},
   "outputs": [],
   "source": [
    "def str_to_float(input):\n",
    "    try:\n",
    "        return float(re.sub(r'[^\\d\\.]', r'', input))\n",
    "    except:\n",
    "        return input"
   ]
  },
  {
   "cell_type": "code",
   "execution_count": 7,
   "id": "4f3fdbd0",
   "metadata": {},
   "outputs": [],
   "source": [
    "qqq  = pd.read_csv(\n",
    "    'history/{}.csv'.format(ETF),\n",
    "    )\n",
    "\n",
    "qqq['Date'] = qqq['Date'].apply(date_normalize)\n",
    "qqq['Close'] = qqq['Close'].apply(str_to_float)\n",
    "\n",
    "qqq = pysqldf(u\"\"\"\n",
    "    select *\n",
    "    from qqq\n",
    "    order by Date asc\n",
    "    \"\"\")\n",
    "\n",
    "qqq['id'] = qqq.index"
   ]
  },
  {
   "cell_type": "code",
   "execution_count": 8,
   "id": "d7146c74",
   "metadata": {},
   "outputs": [],
   "source": [
    "qqq = pysqldf(u\"\"\"\n",
    "    select qqq.*, \n",
    "    pre_day.Date as pre_Date,\n",
    "    pre_day.Close as pre_Close,\n",
    "    (qqq.Close - pre_day.Close)/pre_day.Close AS Percent    \n",
    "    from qqq \n",
    "    left join qqq as pre_day on pre_day.id+1 = qqq.id\n",
    "    order by qqq.Date asc\n",
    "    \"\"\")"
   ]
  },
  {
   "cell_type": "code",
   "execution_count": 9,
   "id": "e6f9b0e0",
   "metadata": {},
   "outputs": [
    {
     "data": {
      "text/html": [
       "<div>\n",
       "<style scoped>\n",
       "    .dataframe tbody tr th:only-of-type {\n",
       "        vertical-align: middle;\n",
       "    }\n",
       "\n",
       "    .dataframe tbody tr th {\n",
       "        vertical-align: top;\n",
       "    }\n",
       "\n",
       "    .dataframe thead th {\n",
       "        text-align: right;\n",
       "    }\n",
       "</style>\n",
       "<table border=\"1\" class=\"dataframe\">\n",
       "  <thead>\n",
       "    <tr style=\"text-align: right;\">\n",
       "      <th></th>\n",
       "      <th>Unnamed: 0</th>\n",
       "      <th>Date</th>\n",
       "      <th>Open</th>\n",
       "      <th>High</th>\n",
       "      <th>Low</th>\n",
       "      <th>Close</th>\n",
       "      <th>Adj Close**</th>\n",
       "      <th>Volume</th>\n",
       "      <th>id</th>\n",
       "      <th>pre_Date</th>\n",
       "      <th>pre_Close</th>\n",
       "      <th>Percent</th>\n",
       "    </tr>\n",
       "  </thead>\n",
       "  <tbody>\n",
       "    <tr>\n",
       "      <th>0</th>\n",
       "      <td>23762</td>\n",
       "      <td>1927-12-30</td>\n",
       "      <td>17.66</td>\n",
       "      <td>17.66</td>\n",
       "      <td>17.66</td>\n",
       "      <td>17.66</td>\n",
       "      <td>17.66</td>\n",
       "      <td>-</td>\n",
       "      <td>0</td>\n",
       "      <td>None</td>\n",
       "      <td>NaN</td>\n",
       "      <td>NaN</td>\n",
       "    </tr>\n",
       "    <tr>\n",
       "      <th>1</th>\n",
       "      <td>23761</td>\n",
       "      <td>1928-01-03</td>\n",
       "      <td>17.76</td>\n",
       "      <td>17.76</td>\n",
       "      <td>17.76</td>\n",
       "      <td>17.76</td>\n",
       "      <td>17.76</td>\n",
       "      <td>-</td>\n",
       "      <td>1</td>\n",
       "      <td>1927-12-30</td>\n",
       "      <td>17.66</td>\n",
       "      <td>0.005663</td>\n",
       "    </tr>\n",
       "    <tr>\n",
       "      <th>2</th>\n",
       "      <td>23760</td>\n",
       "      <td>1928-01-04</td>\n",
       "      <td>17.72</td>\n",
       "      <td>17.72</td>\n",
       "      <td>17.72</td>\n",
       "      <td>17.72</td>\n",
       "      <td>17.72</td>\n",
       "      <td>-</td>\n",
       "      <td>2</td>\n",
       "      <td>1928-01-03</td>\n",
       "      <td>17.76</td>\n",
       "      <td>-0.002252</td>\n",
       "    </tr>\n",
       "  </tbody>\n",
       "</table>\n",
       "</div>"
      ],
      "text/plain": [
       "   Unnamed: 0        Date   Open   High    Low  Close Adj Close** Volume  id  \\\n",
       "0       23762  1927-12-30  17.66  17.66  17.66  17.66       17.66      -   0   \n",
       "1       23761  1928-01-03  17.76  17.76  17.76  17.76       17.76      -   1   \n",
       "2       23760  1928-01-04  17.72  17.72  17.72  17.72       17.72      -   2   \n",
       "\n",
       "     pre_Date  pre_Close   Percent  \n",
       "0        None        NaN       NaN  \n",
       "1  1927-12-30      17.66  0.005663  \n",
       "2  1928-01-03      17.76 -0.002252  "
      ]
     },
     "execution_count": 9,
     "metadata": {},
     "output_type": "execute_result"
    }
   ],
   "source": [
    "pysqldf(u\"\"\"\n",
    "    select * \n",
    "    from qqq\n",
    "    order by Date asc\n",
    "    limit 3\n",
    "    \"\"\")"
   ]
  },
  {
   "cell_type": "code",
   "execution_count": 10,
   "id": "4c0b9f3c",
   "metadata": {},
   "outputs": [],
   "source": [
    "data_list = pysqldf(u\"\"\"\n",
    "    select \n",
    "    Date,\n",
    "    Percent, \n",
    "    {}*Percent as Leveraged_Percent\n",
    "    from qqq\n",
    "    where Percent is not null\n",
    "    \"\"\".format(leverage_ratio)).to_dict('records')"
   ]
  },
  {
   "cell_type": "code",
   "execution_count": 11,
   "id": "d9465df7",
   "metadata": {},
   "outputs": [
    {
     "data": {
      "text/plain": [
       "[{'Date': '1928-01-03',\n",
       "  'Percent': 0.005662514156285471,\n",
       "  'Leveraged_Percent': 0.016987542468856413},\n",
       " {'Date': '1928-01-04',\n",
       "  'Percent': -0.002252252252252404,\n",
       "  'Leveraged_Percent': -0.006756756756757212},\n",
       " {'Date': '1928-01-05',\n",
       "  'Percent': -0.009593679458239175,\n",
       "  'Leveraged_Percent': -0.028781038374717523}]"
      ]
     },
     "execution_count": 11,
     "metadata": {},
     "output_type": "execute_result"
    }
   ],
   "source": [
    "data_list[0:3]"
   ]
  },
  {
   "cell_type": "code",
   "execution_count": 12,
   "id": "b9a998c1",
   "metadata": {},
   "outputs": [],
   "source": [
    "start_price = qqq['Close'][0]\n",
    "\n",
    "qqq_price = start_price\n",
    "tqqq_price = start_price\n",
    "\n",
    "for r in data_list:\n",
    "    ###\n",
    "    qqq_price = qqq_price*(1+r['Percent'])\n",
    "    r['price'] = qqq_price\n",
    "    ###\n",
    "    tqqq_price = tqqq_price*(1+r['Leveraged_Percent'])    \n",
    "    r['Leveraged_price'] = tqqq_price  \n",
    "\n",
    "data1 = pd.DataFrame(data_list)"
   ]
  },
  {
   "cell_type": "code",
   "execution_count": 15,
   "id": "7e7c2e33",
   "metadata": {},
   "outputs": [
    {
     "data": {
      "text/plain": [
       "<AxesSubplot:xlabel='Date'>"
      ]
     },
     "execution_count": 15,
     "metadata": {},
     "output_type": "execute_result"
    },
    {
     "data": {
      "image/png": "[encoded data removed]",
      "text/plain": [
       "<Figure size 432x288 with 1 Axes>"
      ]
     },
     "metadata": {
      "needs_background": "light"
     },
     "output_type": "display_data"
    }
   ],
   "source": [
    "data1.plot(x ='Date', y=[\n",
    "    'price', \n",
    "    'Leveraged_price',\n",
    "    ], grid = True)"
   ]
  },
  {
   "cell_type": "markdown",
   "id": "2b6f6569",
   "metadata": {},
   "source": [
    "tqqq vs 3x qqq"
   ]
  },
  {
   "cell_type": "code",
   "execution_count": 16,
   "id": "4219d773",
   "metadata": {},
   "outputs": [],
   "source": [
    "data_3x  = pd.read_csv(\n",
    "    'history/{}.csv'.format(ETF_3x),\n",
    "    )"
   ]
  },
  {
   "cell_type": "code",
   "execution_count": 17,
   "id": "f0d6e604",
   "metadata": {},
   "outputs": [],
   "source": [
    "compare_3x = pysqldf(u\"\"\"\n",
    "    select \n",
    "    data1.Date,\n",
    "    data1.`Leveraged_price`,\n",
    "    data_3x.Close\n",
    "    from data_3x\n",
    "    join data1 on data1.Date = data_3x.Date\n",
    "    order by data1.Date asc\n",
    "    \"\"\".format(leverage_ratio))"
   ]
  },
  {
   "cell_type": "code",
   "execution_count": 24,
   "id": "2a777712",
   "metadata": {},
   "outputs": [],
   "source": [
    "X = compare_3x['Leveraged_price'].to_numpy()\n",
    "X = np.array([[i] for i in X])\n",
    "y = compare_3x['Close'].to_numpy()"
   ]
  },
  {
   "cell_type": "code",
   "execution_count": 25,
   "id": "07948800",
   "metadata": {},
   "outputs": [],
   "source": [
    "reg = LinearRegression(fit_intercept=False).fit(X, y)"
   ]
  },
  {
   "cell_type": "code",
   "execution_count": 26,
   "id": "974bb058",
   "metadata": {},
   "outputs": [
    {
     "name": "stdout",
     "output_type": "stream",
     "text": [
      "[0.0069645]\n",
      "0.0\n"
     ]
    }
   ],
   "source": [
    "reg.score(X, y)\n",
    "\n",
    "print(reg.coef_)\n",
    "\n",
    "print(reg.intercept_)"
   ]
  },
  {
   "cell_type": "code",
   "execution_count": 27,
   "id": "e45ddea1",
   "metadata": {},
   "outputs": [],
   "source": [
    "result = pysqldf(u\"\"\"\n",
    "    select \n",
    "    Date,\n",
    "    `Leveraged_price` * {} + {} AS simulated_Close,\n",
    "    Close\n",
    "    from compare_3x\n",
    "    \"\"\".format(\n",
    "    reg.coef_[0],\n",
    "    reg.intercept_))"
   ]
  },
  {
   "cell_type": "code",
   "execution_count": 28,
   "id": "76a81a4d",
   "metadata": {},
   "outputs": [
    {
     "data": {
      "text/plain": [
       "<AxesSubplot:xlabel='Date'>"
      ]
     },
     "execution_count": 28,
     "metadata": {},
     "output_type": "execute_result"
    },
    {
     "data": {
      "image/png": "[encoded data removed]",
      "text/plain": [
       "<Figure size 432x288 with 1 Axes>"
      ]
     },
     "metadata": {
      "needs_background": "light"
     },
     "output_type": "display_data"
    }
   ],
   "source": [
    "result.plot(x ='Date', y=[\n",
    "    'simulated_Close', \n",
    "    'Close',\n",
    "    ], grid = True)"
   ]
  },
  {
   "cell_type": "markdown",
   "id": "14e85d8c",
   "metadata": {},
   "source": [
    "all simulation results"
   ]
  },
  {
   "cell_type": "code",
   "execution_count": 29,
   "id": "67958cc9",
   "metadata": {},
   "outputs": [],
   "source": [
    "final_result = pysqldf(u\"\"\"\n",
    "    select \n",
    "    data1.Date,\n",
    "    data1.price AS {},\n",
    "    data1.`Leveraged_price` * {} + {} AS simulated_{},\n",
    "    data_3x.Close as {}\n",
    "    from data1\n",
    "    left join data_3x on data_3x.Date = data1.Date\n",
    "    \"\"\".format(\n",
    "    ETF,\n",
    "    reg.coef_[0],\n",
    "    reg.intercept_,\n",
    "    ETF_3x,\n",
    "    ETF_3x\n",
    "    ))"
   ]
  },
  {
   "cell_type": "code",
   "execution_count": null,
   "id": "5c304ed8",
   "metadata": {},
   "outputs": [],
   "source": [
    "final_result.plot(x ='Date', y=[\n",
    "    'results/{}_simulation'.format(ETF_3x),\n",
    "    ETF_3x,\n",
    "    ], grid = True)"
   ]
  },
  {
   "cell_type": "code",
   "execution_count": null,
   "id": "5e891455",
   "metadata": {},
   "outputs": [],
   "source": [
    "final_result.to_excel(\n",
    "    'results/{}_simulation.xlsx'.format(ETF_3x),\n",
    "    index = False,\n",
    "    )"
   ]
  },
  {
   "cell_type": "markdown",
   "id": "0d2ab7ba",
   "metadata": {},
   "source": [
    "END"
   ]
  }
 ],
 "metadata": {
  "kernelspec": {
   "display_name": "Python 3 (ipykernel)",
   "language": "python",
   "name": "python3"
  },
  "language_info": {
   "codemirror_mode": {
    "name": "ipython",
    "version": 3
   },
   "file_extension": ".py",
   "mimetype": "text/x-python",
   "name": "python",
   "nbconvert_exporter": "python",
   "pygments_lexer": "ipython3",
   "version": "3.10.6"
  }
 },
 "nbformat": 4,
 "nbformat_minor": 5
}
