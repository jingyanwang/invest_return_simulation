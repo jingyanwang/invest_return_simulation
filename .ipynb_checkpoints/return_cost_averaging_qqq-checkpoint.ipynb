{
 "cells": [
  {
   "cell_type": "code",
   "execution_count": 1,
   "id": "c96097b3",
   "metadata": {},
   "outputs": [],
   "source": [
    "import os\n",
    "import re\n",
    "import pandas as pd\n",
    "from pandasql import sqldf\n",
    "\n",
    "pysqldf = lambda q: sqldf(q, globals())"
   ]
  },
  {
   "cell_type": "code",
   "execution_count": 2,
   "id": "c13b288b",
   "metadata": {},
   "outputs": [],
   "source": [
    "ETF_data_file = 'history/NDX.csv'\n",
    "date_column = 'Date'\n",
    "price_column = 'Close'\n",
    "output_excel_file = 'ndx_cost_averaging.xlsx'\n",
    "\n",
    "hold_duration_years = 5\n",
    "hold_duration_days = 252*hold_duration_years\n",
    "\n",
    "start_date = '0000-01-01'\n",
    "end_date = '9999-01-01'"
   ]
  },
  {
   "cell_type": "code",
   "execution_count": 3,
   "id": "6ece0e0f",
   "metadata": {},
   "outputs": [
    {
     "data": {
      "text/plain": [
       "'1929-04-01'"
      ]
     },
     "execution_count": 3,
     "metadata": {},
     "output_type": "execute_result"
    }
   ],
   "source": [
    "month_mapping = {\n",
    "    \"Jun\":6,\n",
    "    \"May\":5,\n",
    "    \"Apr\":4,\n",
    "    \"Mar\":3,\n",
    "    \"Feb\":2,\n",
    "    \"Jan\":1,\n",
    "    \"Dec\":12,\n",
    "    \"Nov\":11,\n",
    "    \"Oct\":10,\n",
    "    \"Sep\":9,\n",
    "    \"Aug\":8,\n",
    "    \"Jul\":7,\n",
    "    }\n",
    "\n",
    "def date_normalize(date):\n",
    "    try:\n",
    "        result = re.search(r'(?P<m>\\d+)\\/(?P<d>\\d+)\\/(?P<y>\\d+)', date).groupdict()\n",
    "        output = '%04d-%02d-%02d'%(\n",
    "            int(result['y']),\n",
    "            int(result['m']),\n",
    "            int(result['d']),\n",
    "            )\n",
    "        return output\n",
    "    except:\n",
    "        pass\n",
    "    try:\n",
    "        parsing_result = re.search(r'(?P<m>[A-z]{3}) (?P<d>\\d{2}) (?P<y>\\d{4})', date).groupdict()\n",
    "        parsing_result['m'] = month_mapping[parsing_result['m']]\n",
    "        parsing_result['m'] = '%02d'%(parsing_result['m'])\n",
    "        return('%s-%s-%s'%(\n",
    "            parsing_result['y'],\n",
    "            parsing_result['m'],\n",
    "            parsing_result['d'],\n",
    "            ))\n",
    "    except:\n",
    "        pass\n",
    "    try:\n",
    "        parsing_result = re.search(r'(?P<m>[A-z]{3}) (?P<d>\\d{2}), (?P<y>\\d{4})', date).groupdict()\n",
    "        parsing_result['m'] = month_mapping[parsing_result['m']]\n",
    "        parsing_result['m'] = '%02d'%(parsing_result['m'])\n",
    "        return('%s-%s-%s'%(\n",
    "            parsing_result['y'],\n",
    "            parsing_result['m'],\n",
    "            parsing_result['d'],\n",
    "            ))\n",
    "    except:\n",
    "        pass\n",
    "    return date\n",
    "\n",
    "\n",
    "date = '9/17/2015'\n",
    "date = 'Jun 14 2022'\n",
    "date = 'Apr 01, 1929'\n",
    "\n",
    "date_normalize(\n",
    "    date,\n",
    "    )"
   ]
  },
  {
   "cell_type": "code",
   "execution_count": 4,
   "id": "cfeb12d5",
   "metadata": {},
   "outputs": [],
   "source": [
    "def str_to_float(input):\n",
    "    try:\n",
    "        return float(re.sub(r'[^\\d\\.]', r'', input))\n",
    "    except:\n",
    "        return input"
   ]
  },
  {
   "cell_type": "code",
   "execution_count": 5,
   "id": "f98ef069",
   "metadata": {},
   "outputs": [],
   "source": [
    "if '.csv' in ETF_data_file.lower():\n",
    "    data = pd.read_csv(\n",
    "        ETF_data_file,\n",
    "        )\n",
    "else:\n",
    "    data = pd.read_excel(\n",
    "        ETF_data_file,\n",
    "        )\n",
    "\n",
    "data[date_column] = data[date_column].apply(date_normalize)\n",
    "data[price_column] = data[price_column].apply(str_to_float)\n",
    "\n",
    "data = pysqldf(u\"\"\"\n",
    "    select \n",
    "    {} as date,\n",
    "    {} as price\n",
    "    from data\n",
    "    \"\"\".format(\n",
    "    date_column, \n",
    "    price_column\n",
    "   ))\n",
    "\n",
    "data = pysqldf(u\"\"\"\n",
    "    select *\n",
    "    from data\n",
    "    where date >= '{}' and date <= '{}'\n",
    "    order by date asc\n",
    "    \"\"\".format(\n",
    "    start_date, \n",
    "    end_date))\n",
    "\n",
    "\n",
    "data['id'] = data.index"
   ]
  },
  {
   "cell_type": "code",
   "execution_count": 6,
   "id": "8ce96931",
   "metadata": {},
   "outputs": [
    {
     "data": {
      "text/html": [
       "<div>\n",
       "<style scoped>\n",
       "    .dataframe tbody tr th:only-of-type {\n",
       "        vertical-align: middle;\n",
       "    }\n",
       "\n",
       "    .dataframe tbody tr th {\n",
       "        vertical-align: top;\n",
       "    }\n",
       "\n",
       "    .dataframe thead th {\n",
       "        text-align: right;\n",
       "    }\n",
       "</style>\n",
       "<table border=\"1\" class=\"dataframe\">\n",
       "  <thead>\n",
       "    <tr style=\"text-align: right;\">\n",
       "      <th></th>\n",
       "      <th>date</th>\n",
       "      <th>price</th>\n",
       "      <th>id</th>\n",
       "    </tr>\n",
       "  </thead>\n",
       "  <tbody>\n",
       "    <tr>\n",
       "      <th>9273</th>\n",
       "      <td>2022-07-18</td>\n",
       "      <td>11877.50000</td>\n",
       "      <td>9273</td>\n",
       "    </tr>\n",
       "    <tr>\n",
       "      <th>9274</th>\n",
       "      <td>2022-07-19</td>\n",
       "      <td>12249.41992</td>\n",
       "      <td>9274</td>\n",
       "    </tr>\n",
       "    <tr>\n",
       "      <th>9275</th>\n",
       "      <td>2022-07-20</td>\n",
       "      <td>12439.67969</td>\n",
       "      <td>9275</td>\n",
       "    </tr>\n",
       "  </tbody>\n",
       "</table>\n",
       "</div>"
      ],
      "text/plain": [
       "            date        price    id\n",
       "9273  2022-07-18  11877.50000  9273\n",
       "9274  2022-07-19  12249.41992  9274\n",
       "9275  2022-07-20  12439.67969  9275"
      ]
     },
     "execution_count": 6,
     "metadata": {},
     "output_type": "execute_result"
    }
   ],
   "source": [
    "data.tail(3)"
   ]
  },
  {
   "cell_type": "markdown",
   "id": "dde4474f",
   "metadata": {},
   "source": [
    "# the return"
   ]
  },
  {
   "cell_type": "code",
   "execution_count": 7,
   "id": "dcc3bd3e",
   "metadata": {},
   "outputs": [],
   "source": [
    "holding = pysqldf(u\"\"\"\n",
    "    select \n",
    "    data.date,\n",
    "    data.price,\n",
    "    pre_data.date as pre_date,\n",
    "    pre_data.price as pre_price\n",
    "    from data\n",
    "    join data as pre_data on pre_data.id+{} = data.id\n",
    "    \"\"\".format(hold_duration_days))"
   ]
  },
  {
   "cell_type": "code",
   "execution_count": 8,
   "id": "35ea28cf",
   "metadata": {},
   "outputs": [
    {
     "data": {
      "text/html": [
       "<div>\n",
       "<style scoped>\n",
       "    .dataframe tbody tr th:only-of-type {\n",
       "        vertical-align: middle;\n",
       "    }\n",
       "\n",
       "    .dataframe tbody tr th {\n",
       "        vertical-align: top;\n",
       "    }\n",
       "\n",
       "    .dataframe thead th {\n",
       "        text-align: right;\n",
       "    }\n",
       "</style>\n",
       "<table border=\"1\" class=\"dataframe\">\n",
       "  <thead>\n",
       "    <tr style=\"text-align: right;\">\n",
       "      <th></th>\n",
       "      <th>date</th>\n",
       "      <th>price</th>\n",
       "      <th>pre_date</th>\n",
       "      <th>pre_price</th>\n",
       "    </tr>\n",
       "  </thead>\n",
       "  <tbody>\n",
       "    <tr>\n",
       "      <th>8013</th>\n",
       "      <td>2022-07-18</td>\n",
       "      <td>11877.50000</td>\n",
       "      <td>2017-07-14</td>\n",
       "      <td>5838.080078</td>\n",
       "    </tr>\n",
       "    <tr>\n",
       "      <th>8014</th>\n",
       "      <td>2022-07-19</td>\n",
       "      <td>12249.41992</td>\n",
       "      <td>2017-07-17</td>\n",
       "      <td>5839.740234</td>\n",
       "    </tr>\n",
       "    <tr>\n",
       "      <th>8015</th>\n",
       "      <td>2022-07-20</td>\n",
       "      <td>12439.67969</td>\n",
       "      <td>2017-07-18</td>\n",
       "      <td>5880.100098</td>\n",
       "    </tr>\n",
       "  </tbody>\n",
       "</table>\n",
       "</div>"
      ],
      "text/plain": [
       "            date        price    pre_date    pre_price\n",
       "8013  2022-07-18  11877.50000  2017-07-14  5838.080078\n",
       "8014  2022-07-19  12249.41992  2017-07-17  5839.740234\n",
       "8015  2022-07-20  12439.67969  2017-07-18  5880.100098"
      ]
     },
     "execution_count": 8,
     "metadata": {},
     "output_type": "execute_result"
    }
   ],
   "source": [
    "holding.tail(3)"
   ]
  },
  {
   "cell_type": "code",
   "execution_count": 9,
   "id": "a13055e2",
   "metadata": {},
   "outputs": [],
   "source": [
    "window_data = pysqldf(u\"\"\"\n",
    "    select boundary.*,\n",
    "    window.date as window_date,\n",
    "    1000.0/window.price as window_shares,\n",
    "    window.price as window_price\n",
    "    from holding as boundary\n",
    "    join data as window\n",
    "    on window.date >= boundary.pre_date and window.date < boundary.date\n",
    "    \"\"\")"
   ]
  },
  {
   "cell_type": "code",
   "execution_count": 10,
   "id": "be6207fa",
   "metadata": {},
   "outputs": [],
   "source": [
    "window_aggrated = pysqldf(u\"\"\"\n",
    "    select date, \n",
    "    count(*)*1000.0 as invested_amount,\n",
    "    sum(window_shares) as bought_shares,\n",
    "    price\n",
    "    from window_data \n",
    "    group by date\n",
    "    \"\"\")"
   ]
  },
  {
   "cell_type": "code",
   "execution_count": 11,
   "id": "dec8d952",
   "metadata": {},
   "outputs": [],
   "source": [
    "window_ratio =  pysqldf(u\"\"\"\n",
    "    select *,\n",
    "    bought_shares*price/invested_amount as ratio\n",
    "    from window_aggrated \n",
    "    order by date asc\n",
    "    \"\"\")"
   ]
  },
  {
   "cell_type": "code",
   "execution_count": 12,
   "id": "beb259a8",
   "metadata": {},
   "outputs": [],
   "source": [
    "window_ratio =  pysqldf(u\"\"\"\n",
    "    select *, \n",
    "    bought_shares*price as sold_amount\n",
    "    from window_ratio\n",
    "    \"\"\")"
   ]
  },
  {
   "cell_type": "code",
   "execution_count": 13,
   "id": "fb9af86b",
   "metadata": {},
   "outputs": [],
   "source": [
    "window_ratio.to_excel(output_excel_file, index = False)"
   ]
  },
  {
   "cell_type": "code",
   "execution_count": 14,
   "id": "3a45bfc9",
   "metadata": {},
   "outputs": [
    {
     "data": {
      "text/html": [
       "<div>\n",
       "<style scoped>\n",
       "    .dataframe tbody tr th:only-of-type {\n",
       "        vertical-align: middle;\n",
       "    }\n",
       "\n",
       "    .dataframe tbody tr th {\n",
       "        vertical-align: top;\n",
       "    }\n",
       "\n",
       "    .dataframe thead th {\n",
       "        text-align: right;\n",
       "    }\n",
       "</style>\n",
       "<table border=\"1\" class=\"dataframe\">\n",
       "  <thead>\n",
       "    <tr style=\"text-align: right;\">\n",
       "      <th></th>\n",
       "      <th>date</th>\n",
       "      <th>invested_amount</th>\n",
       "      <th>bought_shares</th>\n",
       "      <th>price</th>\n",
       "      <th>ratio</th>\n",
       "      <th>sold_amount</th>\n",
       "    </tr>\n",
       "  </thead>\n",
       "  <tbody>\n",
       "    <tr>\n",
       "      <th>8013</th>\n",
       "      <td>2022-07-18</td>\n",
       "      <td>1260000.0</td>\n",
       "      <td>141.227607</td>\n",
       "      <td>11877.50000</td>\n",
       "      <td>1.331294</td>\n",
       "      <td>1.677431e+06</td>\n",
       "    </tr>\n",
       "    <tr>\n",
       "      <th>8014</th>\n",
       "      <td>2022-07-19</td>\n",
       "      <td>1260000.0</td>\n",
       "      <td>141.140511</td>\n",
       "      <td>12249.41992</td>\n",
       "      <td>1.372134</td>\n",
       "      <td>1.728889e+06</td>\n",
       "    </tr>\n",
       "    <tr>\n",
       "      <th>8015</th>\n",
       "      <td>2022-07-20</td>\n",
       "      <td>1260000.0</td>\n",
       "      <td>141.050907</td>\n",
       "      <td>12439.67969</td>\n",
       "      <td>1.392562</td>\n",
       "      <td>1.754628e+06</td>\n",
       "    </tr>\n",
       "  </tbody>\n",
       "</table>\n",
       "</div>"
      ],
      "text/plain": [
       "            date  invested_amount  bought_shares        price     ratio  \\\n",
       "8013  2022-07-18        1260000.0     141.227607  11877.50000  1.331294   \n",
       "8014  2022-07-19        1260000.0     141.140511  12249.41992  1.372134   \n",
       "8015  2022-07-20        1260000.0     141.050907  12439.67969  1.392562   \n",
       "\n",
       "       sold_amount  \n",
       "8013  1.677431e+06  \n",
       "8014  1.728889e+06  \n",
       "8015  1.754628e+06  "
      ]
     },
     "execution_count": 14,
     "metadata": {},
     "output_type": "execute_result"
    }
   ],
   "source": [
    "window_ratio.tail(3)"
   ]
  },
  {
   "cell_type": "code",
   "execution_count": 15,
   "id": "8e088b38",
   "metadata": {},
   "outputs": [
    {
     "data": {
      "text/plain": [
       "<AxesSubplot:xlabel='date'>"
      ]
     },
     "execution_count": 15,
     "metadata": {},
     "output_type": "execute_result"
    },
    {
     "data": {
      "image/png": "[encoded data removed]",
      "text/plain": [
       "<Figure size 432x288 with 1 Axes>"
      ]
     },
     "metadata": {
      "needs_background": "light"
     },
     "output_type": "display_data"
    }
   ],
   "source": [
    "window_ratio.plot(x ='date', y=[\n",
    "    'bought_shares', \n",
    "    ], grid = True)"
   ]
  },
  {
   "cell_type": "code",
   "execution_count": 16,
   "id": "8df5ac40",
   "metadata": {},
   "outputs": [
    {
     "data": {
      "text/plain": [
       "<AxesSubplot:xlabel='date'>"
      ]
     },
     "execution_count": 16,
     "metadata": {},
     "output_type": "execute_result"
    },
    {
     "data": {
      "image/png": "[encoded data removed]",
      "text/plain": [
       "<Figure size 432x288 with 1 Axes>"
      ]
     },
     "metadata": {
      "needs_background": "light"
     },
     "output_type": "display_data"
    }
   ],
   "source": [
    "window_ratio.plot(x ='date', y=[\n",
    "    'ratio', \n",
    "    ], grid = True)"
   ]
  },
  {
   "cell_type": "code",
   "execution_count": 17,
   "id": "c97119d0",
   "metadata": {},
   "outputs": [
    {
     "data": {
      "text/html": [
       "<div>\n",
       "<style scoped>\n",
       "    .dataframe tbody tr th:only-of-type {\n",
       "        vertical-align: middle;\n",
       "    }\n",
       "\n",
       "    .dataframe tbody tr th {\n",
       "        vertical-align: top;\n",
       "    }\n",
       "\n",
       "    .dataframe thead th {\n",
       "        text-align: right;\n",
       "    }\n",
       "</style>\n",
       "<table border=\"1\" class=\"dataframe\">\n",
       "  <thead>\n",
       "    <tr style=\"text-align: right;\">\n",
       "      <th></th>\n",
       "      <th>date</th>\n",
       "      <th>invested_amount</th>\n",
       "      <th>bought_shares</th>\n",
       "      <th>price</th>\n",
       "      <th>ratio</th>\n",
       "      <th>sold_amount</th>\n",
       "    </tr>\n",
       "  </thead>\n",
       "  <tbody>\n",
       "    <tr>\n",
       "      <th>8013</th>\n",
       "      <td>2022-07-18</td>\n",
       "      <td>1260000.0</td>\n",
       "      <td>141.227607</td>\n",
       "      <td>11877.50000</td>\n",
       "      <td>1.331294</td>\n",
       "      <td>1.677431e+06</td>\n",
       "    </tr>\n",
       "    <tr>\n",
       "      <th>8014</th>\n",
       "      <td>2022-07-19</td>\n",
       "      <td>1260000.0</td>\n",
       "      <td>141.140511</td>\n",
       "      <td>12249.41992</td>\n",
       "      <td>1.372134</td>\n",
       "      <td>1.728889e+06</td>\n",
       "    </tr>\n",
       "    <tr>\n",
       "      <th>8015</th>\n",
       "      <td>2022-07-20</td>\n",
       "      <td>1260000.0</td>\n",
       "      <td>141.050907</td>\n",
       "      <td>12439.67969</td>\n",
       "      <td>1.392562</td>\n",
       "      <td>1.754628e+06</td>\n",
       "    </tr>\n",
       "  </tbody>\n",
       "</table>\n",
       "</div>"
      ],
      "text/plain": [
       "            date  invested_amount  bought_shares        price     ratio  \\\n",
       "8013  2022-07-18        1260000.0     141.227607  11877.50000  1.331294   \n",
       "8014  2022-07-19        1260000.0     141.140511  12249.41992  1.372134   \n",
       "8015  2022-07-20        1260000.0     141.050907  12439.67969  1.392562   \n",
       "\n",
       "       sold_amount  \n",
       "8013  1.677431e+06  \n",
       "8014  1.728889e+06  \n",
       "8015  1.754628e+06  "
      ]
     },
     "execution_count": 17,
     "metadata": {},
     "output_type": "execute_result"
    }
   ],
   "source": [
    "window_ratio.tail(3)"
   ]
  },
  {
   "cell_type": "code",
   "execution_count": 18,
   "id": "b9321b3d",
   "metadata": {},
   "outputs": [
    {
     "data": {
      "text/plain": [
       "<AxesSubplot:>"
      ]
     },
     "execution_count": 18,
     "metadata": {},
     "output_type": "execute_result"
    },
    {
     "data": {
      "image/png": "[encoded data removed]",
      "text/plain": [
       "<Figure size 432x288 with 1 Axes>"
      ]
     },
     "metadata": {
      "needs_background": "light"
     },
     "output_type": "display_data"
    }
   ],
   "source": [
    "window_ratio.boxplot(column=['ratio']) "
   ]
  },
  {
   "cell_type": "code",
   "execution_count": 19,
   "id": "eb2fecde",
   "metadata": {},
   "outputs": [
    {
     "name": "stdout",
     "output_type": "stream",
     "text": [
      "sold_amount:\t1834083.9489\n"
     ]
    }
   ],
   "source": [
    "sold_amount = window_ratio['sold_amount'].median()\n",
    "\n",
    "print('sold_amount:\\t%0.4f'%(sold_amount))"
   ]
  },
  {
   "cell_type": "code",
   "execution_count": 20,
   "id": "759ec512",
   "metadata": {},
   "outputs": [
    {
     "name": "stdout",
     "output_type": "stream",
     "text": [
      "Ratio:\t1.4556\n"
     ]
    }
   ],
   "source": [
    "ratio = window_ratio['ratio'].median()\n",
    "\n",
    "print('Ratio:\\t%0.4f'%(ratio))"
   ]
  },
  {
   "cell_type": "markdown",
   "id": "0d2ab7ba",
   "metadata": {},
   "source": [
    "##### END"
   ]
  }
 ],
 "metadata": {
  "kernelspec": {
   "display_name": "Python 3 (ipykernel)",
   "language": "python",
   "name": "python3"
  },
  "language_info": {
   "codemirror_mode": {
    "name": "ipython",
    "version": 3
   },
   "file_extension": ".py",
   "mimetype": "text/x-python",
   "name": "python",
   "nbconvert_exporter": "python",
   "pygments_lexer": "ipython3",
   "version": "3.9.6"
  }
 },
 "nbformat": 4,
 "nbformat_minor": 5
}
