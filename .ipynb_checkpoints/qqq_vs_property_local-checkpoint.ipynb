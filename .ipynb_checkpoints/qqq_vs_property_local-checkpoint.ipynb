{
 "cells": [
  {
   "cell_type": "markdown",
   "id": "5cf0079f",
   "metadata": {},
   "source": [
    "https://fred.stlouisfed.org/categories/27281\n",
    "\n",
    "https://fred.stlouisfed.org/series/MSPUS\n",
    "\n",
    "site:https://fred.stlouisfed.org dallas property price"
   ]
  },
  {
   "cell_type": "code",
   "execution_count": 1,
   "id": "2f8f0d64",
   "metadata": {},
   "outputs": [],
   "source": [
    "import os\n",
    "import re\n",
    "import pandas as pd\n",
    "from pandasql import sqldf\n",
    "import numpy as np\n",
    "\n",
    "pysqldf = lambda q: sqldf(q, globals())"
   ]
  },
  {
   "cell_type": "code",
   "execution_count": 2,
   "id": "aec96ecf",
   "metadata": {},
   "outputs": [],
   "source": [
    "property_price_csv = 'history/MSPUS_usa.csv'\n",
    "nasdaq_data_csv = 'history/NDX.csv'\n",
    "#nasdaq_data_csv = 'history/GSPC.csv'"
   ]
  },
  {
   "cell_type": "code",
   "execution_count": 3,
   "id": "4ef02781",
   "metadata": {},
   "outputs": [],
   "source": [
    "year_duration = 30\n",
    "window_size = year_duration*4"
   ]
  },
  {
   "cell_type": "code",
   "execution_count": 4,
   "id": "677e0100",
   "metadata": {},
   "outputs": [
    {
     "data": {
      "text/plain": [
       "'2022-07-01'"
      ]
     },
     "execution_count": 4,
     "metadata": {},
     "output_type": "execute_result"
    }
   ],
   "source": [
    "month_mapping = {\n",
    "    \"Jun\":6,\n",
    "    \"May\":5,\n",
    "    \"Apr\":4,\n",
    "    \"Mar\":3,\n",
    "    \"Feb\":2,\n",
    "    \"Jan\":1,\n",
    "    \"Dec\":12,\n",
    "    \"Nov\":11,\n",
    "    \"Oct\":10,\n",
    "    \"Sep\":9,\n",
    "    \"Aug\":8,\n",
    "    \"Jul\":7,\n",
    "    }\n",
    "\n",
    "def date_normalize(date):\n",
    "    try:\n",
    "        result = re.search(r'(?P<m>\\d+)\\/(?P<d>\\d+)\\/(?P<y>\\d+)', date).groupdict()\n",
    "        output = '%04d-%02d-%02d'%(\n",
    "            int(result['y']),\n",
    "            int(result['m']),\n",
    "            int(result['d']),\n",
    "            )\n",
    "        return output\n",
    "    except:\n",
    "        pass\n",
    "    try:\n",
    "        parsing_result = re.search(r'(?P<m>[A-z]{3}) (?P<d>\\d{2}) (?P<y>\\d{4})', date).groupdict()\n",
    "        parsing_result['m'] = month_mapping[parsing_result['m']]\n",
    "        parsing_result['m'] = '%02d'%(parsing_result['m'])\n",
    "        return('%s-%s-%s'%(\n",
    "            parsing_result['y'],\n",
    "            parsing_result['m'],\n",
    "            parsing_result['d'],\n",
    "            ))\n",
    "    except:\n",
    "        pass\n",
    "    try:\n",
    "        parsing_result = re.search(r'(?P<m>[A-z]{3}) (?P<d>\\d{2})\\, (?P<y>\\d{4})', date).groupdict()\n",
    "        parsing_result['m'] = month_mapping[parsing_result['m']]\n",
    "        parsing_result['m'] = '%02d'%(parsing_result['m'])\n",
    "        return('%s-%s-%s'%(\n",
    "            parsing_result['y'],\n",
    "            parsing_result['m'],\n",
    "            parsing_result['d'],\n",
    "            ))\n",
    "    except:\n",
    "        pass\n",
    "    return date\n",
    "\n",
    "date = 'Jun 14 2022'\n",
    "date = '1/1/1976'\n",
    "date = 'Jul 01, 2022'\n",
    "\n",
    "date_normalize(\n",
    "    date,\n",
    "    )"
   ]
  },
  {
   "cell_type": "code",
   "execution_count": 5,
   "id": "89fd7d33",
   "metadata": {},
   "outputs": [
    {
     "data": {
      "text/html": [
       "<div>\n",
       "<style scoped>\n",
       "    .dataframe tbody tr th:only-of-type {\n",
       "        vertical-align: middle;\n",
       "    }\n",
       "\n",
       "    .dataframe tbody tr th {\n",
       "        vertical-align: top;\n",
       "    }\n",
       "\n",
       "    .dataframe thead th {\n",
       "        text-align: right;\n",
       "    }\n",
       "</style>\n",
       "<table border=\"1\" class=\"dataframe\">\n",
       "  <thead>\n",
       "    <tr style=\"text-align: right;\">\n",
       "      <th></th>\n",
       "      <th>day</th>\n",
       "      <th>price</th>\n",
       "      <th>Date</th>\n",
       "      <th>Month</th>\n",
       "      <th>Close</th>\n",
       "      <th>id</th>\n",
       "    </tr>\n",
       "  </thead>\n",
       "  <tbody>\n",
       "    <tr>\n",
       "      <th>235</th>\n",
       "      <td>2021-10-01</td>\n",
       "      <td>423600.0</td>\n",
       "      <td>2021-10-01</td>\n",
       "      <td>2021-10</td>\n",
       "      <td>423600.0</td>\n",
       "      <td>235</td>\n",
       "    </tr>\n",
       "    <tr>\n",
       "      <th>236</th>\n",
       "      <td>2022-01-01</td>\n",
       "      <td>433100.0</td>\n",
       "      <td>2022-01-01</td>\n",
       "      <td>2022-01</td>\n",
       "      <td>433100.0</td>\n",
       "      <td>236</td>\n",
       "    </tr>\n",
       "    <tr>\n",
       "      <th>237</th>\n",
       "      <td>2022-04-01</td>\n",
       "      <td>440300.0</td>\n",
       "      <td>2022-04-01</td>\n",
       "      <td>2022-04</td>\n",
       "      <td>440300.0</td>\n",
       "      <td>237</td>\n",
       "    </tr>\n",
       "  </tbody>\n",
       "</table>\n",
       "</div>"
      ],
      "text/plain": [
       "            day     price        Date    Month     Close   id\n",
       "235  2021-10-01  423600.0  2021-10-01  2021-10  423600.0  235\n",
       "236  2022-01-01  433100.0  2022-01-01  2022-01  433100.0  236\n",
       "237  2022-04-01  440300.0  2022-04-01  2022-04  440300.0  237"
      ]
     },
     "execution_count": 5,
     "metadata": {},
     "output_type": "execute_result"
    }
   ],
   "source": [
    "property_data = pd.read_csv(\n",
    "    property_price_csv,\n",
    "    )\n",
    "\n",
    "property_data.rename(columns = {property_data.columns[0]:'day', property_data.columns[1]:'price'}, inplace = True)\n",
    "\n",
    "property_data['Date'] = property_data[property_data.columns[0]].apply(date_normalize)\n",
    "property_data['Month'] = property_data['Date'].apply(lambda x:x.split('-')[0]+'-'+x.split('-')[1])\n",
    "\n",
    "property_data['Close'] = property_data[property_data.columns[1]].apply(lambda x: float(x))\n",
    "property_data['id'] = property_data.index\n",
    "\n",
    "property_data.tail(3)"
   ]
  },
  {
   "cell_type": "code",
   "execution_count": 6,
   "id": "bc2ba172",
   "metadata": {},
   "outputs": [],
   "source": [
    "nasdaq_data = pd.read_csv(\n",
    "    nasdaq_data_csv,\n",
    "    )\n",
    "\n",
    "nasdaq_data['Date'] = nasdaq_data['Date'].apply(date_normalize)\n",
    "nasdaq_data['Month'] = nasdaq_data['Date'].apply(lambda x:x.split('-')[0]+'-'+x.split('-')[1])\n",
    "\n",
    "nasdaq_data['Close'] = nasdaq_data['Close'].apply(lambda x: float(re.sub(r'[^\\d\\.]+', '', x)))\n",
    "nasdaq_data['id'] = nasdaq_data.index"
   ]
  },
  {
   "cell_type": "code",
   "execution_count": 7,
   "id": "4b07508f",
   "metadata": {},
   "outputs": [
    {
     "data": {
      "text/html": [
       "<div>\n",
       "<style scoped>\n",
       "    .dataframe tbody tr th:only-of-type {\n",
       "        vertical-align: middle;\n",
       "    }\n",
       "\n",
       "    .dataframe tbody tr th {\n",
       "        vertical-align: top;\n",
       "    }\n",
       "\n",
       "    .dataframe thead th {\n",
       "        text-align: right;\n",
       "    }\n",
       "</style>\n",
       "<table border=\"1\" class=\"dataframe\">\n",
       "  <thead>\n",
       "    <tr style=\"text-align: right;\">\n",
       "      <th></th>\n",
       "      <th>Unnamed: 0</th>\n",
       "      <th>Date</th>\n",
       "      <th>Open</th>\n",
       "      <th>High</th>\n",
       "      <th>Low</th>\n",
       "      <th>Close</th>\n",
       "      <th>Adj Close**</th>\n",
       "      <th>Volume</th>\n",
       "      <th>Month</th>\n",
       "      <th>id</th>\n",
       "    </tr>\n",
       "  </thead>\n",
       "  <tbody>\n",
       "    <tr>\n",
       "      <th>0</th>\n",
       "      <td>0</td>\n",
       "      <td>2022-07-01</td>\n",
       "      <td>3,781.00</td>\n",
       "      <td>3,829.82</td>\n",
       "      <td>3,752.10</td>\n",
       "      <td>3825.33</td>\n",
       "      <td>3,825.33</td>\n",
       "      <td>3,268,240,000</td>\n",
       "      <td>2022-07</td>\n",
       "      <td>0</td>\n",
       "    </tr>\n",
       "    <tr>\n",
       "      <th>1</th>\n",
       "      <td>1</td>\n",
       "      <td>2022-06-30</td>\n",
       "      <td>3,785.99</td>\n",
       "      <td>3,818.99</td>\n",
       "      <td>3,738.67</td>\n",
       "      <td>3785.38</td>\n",
       "      <td>3,785.38</td>\n",
       "      <td>4,032,260,000</td>\n",
       "      <td>2022-06</td>\n",
       "      <td>1</td>\n",
       "    </tr>\n",
       "    <tr>\n",
       "      <th>2</th>\n",
       "      <td>2</td>\n",
       "      <td>2022-06-29</td>\n",
       "      <td>3,825.09</td>\n",
       "      <td>3,836.50</td>\n",
       "      <td>3,799.02</td>\n",
       "      <td>3818.83</td>\n",
       "      <td>3,818.83</td>\n",
       "      <td>3,458,850,000</td>\n",
       "      <td>2022-06</td>\n",
       "      <td>2</td>\n",
       "    </tr>\n",
       "  </tbody>\n",
       "</table>\n",
       "</div>"
      ],
      "text/plain": [
       "   Unnamed: 0        Date      Open      High       Low    Close Adj Close**  \\\n",
       "0           0  2022-07-01  3,781.00  3,829.82  3,752.10  3825.33    3,825.33   \n",
       "1           1  2022-06-30  3,785.99  3,818.99  3,738.67  3785.38    3,785.38   \n",
       "2           2  2022-06-29  3,825.09  3,836.50  3,799.02  3818.83    3,818.83   \n",
       "\n",
       "          Volume    Month  id  \n",
       "0  3,268,240,000  2022-07   0  \n",
       "1  4,032,260,000  2022-06   1  \n",
       "2  3,458,850,000  2022-06   2  "
      ]
     },
     "execution_count": 7,
     "metadata": {},
     "output_type": "execute_result"
    }
   ],
   "source": [
    "nasdaq_data.head(3)"
   ]
  },
  {
   "cell_type": "code",
   "execution_count": 8,
   "id": "1d4cb660",
   "metadata": {},
   "outputs": [
    {
     "data": {
      "text/html": [
       "<div>\n",
       "<style scoped>\n",
       "    .dataframe tbody tr th:only-of-type {\n",
       "        vertical-align: middle;\n",
       "    }\n",
       "\n",
       "    .dataframe tbody tr th {\n",
       "        vertical-align: top;\n",
       "    }\n",
       "\n",
       "    .dataframe thead th {\n",
       "        text-align: right;\n",
       "    }\n",
       "</style>\n",
       "<table border=\"1\" class=\"dataframe\">\n",
       "  <thead>\n",
       "    <tr style=\"text-align: right;\">\n",
       "      <th></th>\n",
       "      <th>Month</th>\n",
       "      <th>Close</th>\n",
       "    </tr>\n",
       "  </thead>\n",
       "  <tbody>\n",
       "    <tr>\n",
       "      <th>0</th>\n",
       "      <td>1927-12</td>\n",
       "      <td>17.660000</td>\n",
       "    </tr>\n",
       "    <tr>\n",
       "      <th>1</th>\n",
       "      <td>1928-01</td>\n",
       "      <td>17.520000</td>\n",
       "    </tr>\n",
       "    <tr>\n",
       "      <th>2</th>\n",
       "      <td>1928-02</td>\n",
       "      <td>17.324211</td>\n",
       "    </tr>\n",
       "  </tbody>\n",
       "</table>\n",
       "</div>"
      ],
      "text/plain": [
       "     Month      Close\n",
       "0  1927-12  17.660000\n",
       "1  1928-01  17.520000\n",
       "2  1928-02  17.324211"
      ]
     },
     "execution_count": 8,
     "metadata": {},
     "output_type": "execute_result"
    }
   ],
   "source": [
    "nasdaq_data_month = pysqldf(u\"\"\"\n",
    "    select Month, avg(Close) as Close\n",
    "    from nasdaq_data\n",
    "    group by Month\n",
    "    \"\"\")\n",
    "\n",
    "nasdaq_data_month.head(3)"
   ]
  },
  {
   "cell_type": "code",
   "execution_count": 9,
   "id": "1968acc1",
   "metadata": {},
   "outputs": [
    {
     "data": {
      "text/html": [
       "<div>\n",
       "<style scoped>\n",
       "    .dataframe tbody tr th:only-of-type {\n",
       "        vertical-align: middle;\n",
       "    }\n",
       "\n",
       "    .dataframe tbody tr th {\n",
       "        vertical-align: top;\n",
       "    }\n",
       "\n",
       "    .dataframe thead th {\n",
       "        text-align: right;\n",
       "    }\n",
       "</style>\n",
       "<table border=\"1\" class=\"dataframe\">\n",
       "  <thead>\n",
       "    <tr style=\"text-align: right;\">\n",
       "      <th></th>\n",
       "      <th>Date</th>\n",
       "      <th>Month</th>\n",
       "      <th>Property_Price</th>\n",
       "      <th>NQ100_Price</th>\n",
       "      <th>id</th>\n",
       "    </tr>\n",
       "  </thead>\n",
       "  <tbody>\n",
       "    <tr>\n",
       "      <th>0</th>\n",
       "      <td>1986-01-01</td>\n",
       "      <td>1986-01</td>\n",
       "      <td>88000.0</td>\n",
       "      <td>208.194091</td>\n",
       "      <td>0</td>\n",
       "    </tr>\n",
       "    <tr>\n",
       "      <th>1</th>\n",
       "      <td>1986-04-01</td>\n",
       "      <td>1986-04</td>\n",
       "      <td>92100.0</td>\n",
       "      <td>237.967727</td>\n",
       "      <td>1</td>\n",
       "    </tr>\n",
       "    <tr>\n",
       "      <th>2</th>\n",
       "      <td>1986-07-01</td>\n",
       "      <td>1986-07</td>\n",
       "      <td>93000.0</td>\n",
       "      <td>240.180000</td>\n",
       "      <td>2</td>\n",
       "    </tr>\n",
       "  </tbody>\n",
       "</table>\n",
       "</div>"
      ],
      "text/plain": [
       "         Date    Month  Property_Price  NQ100_Price  id\n",
       "0  1986-01-01  1986-01         88000.0   208.194091   0\n",
       "1  1986-04-01  1986-04         92100.0   237.967727   1\n",
       "2  1986-07-01  1986-07         93000.0   240.180000   2"
      ]
     },
     "execution_count": 9,
     "metadata": {},
     "output_type": "execute_result"
    }
   ],
   "source": [
    "compare_date = pysqldf(u\"\"\"\n",
    "    select \n",
    "    p.Date,\n",
    "    p.Month, \n",
    "    p.Close as Property_Price,\n",
    "    n.Close as NQ100_Price\n",
    "    from property_data as p\n",
    "    join nasdaq_data_month as n on n.Month = p.Month\n",
    "    where p.Date >= '1985-10-10'\n",
    "    order by p.Month asc\n",
    "    \"\"\")\n",
    "\n",
    "compare_date['id'] = compare_date.index\n",
    "\n",
    "compare_date.head(3)"
   ]
  },
  {
   "cell_type": "code",
   "execution_count": 10,
   "id": "be5f6b9d",
   "metadata": {},
   "outputs": [
    {
     "data": {
      "text/plain": [
       "<AxesSubplot:xlabel='Date'>"
      ]
     },
     "execution_count": 10,
     "metadata": {},
     "output_type": "execute_result"
    },
    {
     "data": {
      "image/png": "[encoded data removed]",
      "text/plain": [
       "<Figure size 432x288 with 1 Axes>"
      ]
     },
     "metadata": {
      "needs_background": "light"
     },
     "output_type": "display_data"
    }
   ],
   "source": [
    "compare_date['property_price_normalized'] = compare_date['Property_Price']/compare_date['Property_Price'][0]\n",
    "compare_date['nq100_price_normalized'] = compare_date['NQ100_Price']/compare_date['NQ100_Price'][0]\n",
    "\n",
    "compare_date.plot(\n",
    "    x ='Date', y=[\n",
    "    'property_price_normalized',\n",
    "    'nq100_price_normalized', \n",
    "    ], grid = True)"
   ]
  },
  {
   "cell_type": "code",
   "execution_count": 11,
   "id": "4e210946",
   "metadata": {},
   "outputs": [
    {
     "data": {
      "text/plain": [
       "<AxesSubplot:xlabel='Date'>"
      ]
     },
     "execution_count": 11,
     "metadata": {},
     "output_type": "execute_result"
    },
    {
     "data": {
      "image/png": "[encoded data removed]",
      "text/plain": [
       "<Figure size 432x288 with 1 Axes>"
      ]
     },
     "metadata": {
      "needs_background": "light"
     },
     "output_type": "display_data"
    }
   ],
   "source": [
    "compare_date.plot(\n",
    "    x ='Date', y=[\n",
    "    'property_price_normalized',\n",
    "    ], grid = True)"
   ]
  },
  {
   "cell_type": "code",
   "execution_count": 12,
   "id": "3a43f686",
   "metadata": {},
   "outputs": [
    {
     "data": {
      "text/plain": [
       "<AxesSubplot:xlabel='Date'>"
      ]
     },
     "execution_count": 12,
     "metadata": {},
     "output_type": "execute_result"
    },
    {
     "data": {
      "image/png": "[encoded data removed]",
      "text/plain": [
       "<Figure size 432x288 with 1 Axes>"
      ]
     },
     "metadata": {
      "needs_background": "light"
     },
     "output_type": "display_data"
    }
   ],
   "source": [
    "compare_date.plot(\n",
    "    x ='Date', y=[\n",
    "    'nq100_price_normalized',\n",
    "    ], grid = True)"
   ]
  },
  {
   "cell_type": "code",
   "execution_count": 13,
   "id": "53679bba",
   "metadata": {},
   "outputs": [],
   "source": [
    "compare_date_now_old = pysqldf(u\"\"\"\n",
    "    select \n",
    "    now.*,\n",
    "    old.Date as Date_old,\n",
    "    old.Property_Price as Property_Price_old,\n",
    "    old.NQ100_Price as NQ100_Price_old    \n",
    "    from compare_date as now\n",
    "    join compare_date as old\n",
    "    on old.id + {} = now.id\n",
    "    \"\"\".format(window_size))"
   ]
  },
  {
   "cell_type": "code",
   "execution_count": 14,
   "id": "55f84b24",
   "metadata": {},
   "outputs": [
    {
     "data": {
      "text/html": [
       "<div>\n",
       "<style scoped>\n",
       "    .dataframe tbody tr th:only-of-type {\n",
       "        vertical-align: middle;\n",
       "    }\n",
       "\n",
       "    .dataframe tbody tr th {\n",
       "        vertical-align: top;\n",
       "    }\n",
       "\n",
       "    .dataframe thead th {\n",
       "        text-align: right;\n",
       "    }\n",
       "</style>\n",
       "<table border=\"1\" class=\"dataframe\">\n",
       "  <thead>\n",
       "    <tr style=\"text-align: right;\">\n",
       "      <th></th>\n",
       "      <th>Date</th>\n",
       "      <th>Month</th>\n",
       "      <th>Property_Price</th>\n",
       "      <th>NQ100_Price</th>\n",
       "      <th>id</th>\n",
       "      <th>property_price_normalized</th>\n",
       "      <th>nq100_price_normalized</th>\n",
       "      <th>Date_old</th>\n",
       "      <th>Property_Price_old</th>\n",
       "      <th>NQ100_Price_old</th>\n",
       "    </tr>\n",
       "  </thead>\n",
       "  <tbody>\n",
       "    <tr>\n",
       "      <th>23</th>\n",
       "      <td>2021-10-01</td>\n",
       "      <td>2021-10</td>\n",
       "      <td>423600.0</td>\n",
       "      <td>4460.707143</td>\n",
       "      <td>143</td>\n",
       "      <td>4.813636</td>\n",
       "      <td>21.425714</td>\n",
       "      <td>1991-10-01</td>\n",
       "      <td>120000.0</td>\n",
       "      <td>386.883478</td>\n",
       "    </tr>\n",
       "    <tr>\n",
       "      <th>24</th>\n",
       "      <td>2022-01-01</td>\n",
       "      <td>2022-01</td>\n",
       "      <td>433100.0</td>\n",
       "      <td>4573.815500</td>\n",
       "      <td>144</td>\n",
       "      <td>4.921591</td>\n",
       "      <td>21.968998</td>\n",
       "      <td>1992-01-01</td>\n",
       "      <td>119500.0</td>\n",
       "      <td>416.075000</td>\n",
       "    </tr>\n",
       "    <tr>\n",
       "      <th>25</th>\n",
       "      <td>2022-04-01</td>\n",
       "      <td>2022-04</td>\n",
       "      <td>440300.0</td>\n",
       "      <td>4391.296000</td>\n",
       "      <td>145</td>\n",
       "      <td>5.003409</td>\n",
       "      <td>21.092318</td>\n",
       "      <td>1992-04-01</td>\n",
       "      <td>120000.0</td>\n",
       "      <td>407.407143</td>\n",
       "    </tr>\n",
       "  </tbody>\n",
       "</table>\n",
       "</div>"
      ],
      "text/plain": [
       "          Date    Month  Property_Price  NQ100_Price   id  \\\n",
       "23  2021-10-01  2021-10        423600.0  4460.707143  143   \n",
       "24  2022-01-01  2022-01        433100.0  4573.815500  144   \n",
       "25  2022-04-01  2022-04        440300.0  4391.296000  145   \n",
       "\n",
       "    property_price_normalized  nq100_price_normalized    Date_old  \\\n",
       "23                   4.813636               21.425714  1991-10-01   \n",
       "24                   4.921591               21.968998  1992-01-01   \n",
       "25                   5.003409               21.092318  1992-04-01   \n",
       "\n",
       "    Property_Price_old  NQ100_Price_old  \n",
       "23            120000.0       386.883478  \n",
       "24            119500.0       416.075000  \n",
       "25            120000.0       407.407143  "
      ]
     },
     "execution_count": 14,
     "metadata": {},
     "output_type": "execute_result"
    }
   ],
   "source": [
    "compare_date_now_old.tail(3)"
   ]
  },
  {
   "cell_type": "code",
   "execution_count": 15,
   "id": "932dd56a",
   "metadata": {},
   "outputs": [],
   "source": [
    "Stock2Property = pysqldf(u\"\"\"\n",
    "    select *,\n",
    "    Property_Price/Property_Price_old as Property_Rate,\n",
    "    ((Property_Price/Property_Price_old)*5 - 4*(1-{}/30)) as Leveraged_Property_Ratio,\n",
    "    NQ100_Price/NQ100_Price_old as NQ100_Rate\n",
    "    from compare_date_now_old\n",
    "    \"\"\".format(year_duration))\n",
    "\n",
    "Stock2Property = pysqldf(u\"\"\"\n",
    "    select *,\n",
    "    NQ100_Rate/Property_Rate as Stock2Property,\n",
    "    NQ100_Rate/Leveraged_Property_Ratio as Stock2Leveraged_Property    \n",
    "    from Stock2Property\n",
    "    \"\"\")"
   ]
  },
  {
   "cell_type": "code",
   "execution_count": 16,
   "id": "62c22928",
   "metadata": {},
   "outputs": [
    {
     "data": {
      "text/html": [
       "<div>\n",
       "<style scoped>\n",
       "    .dataframe tbody tr th:only-of-type {\n",
       "        vertical-align: middle;\n",
       "    }\n",
       "\n",
       "    .dataframe tbody tr th {\n",
       "        vertical-align: top;\n",
       "    }\n",
       "\n",
       "    .dataframe thead th {\n",
       "        text-align: right;\n",
       "    }\n",
       "</style>\n",
       "<table border=\"1\" class=\"dataframe\">\n",
       "  <thead>\n",
       "    <tr style=\"text-align: right;\">\n",
       "      <th></th>\n",
       "      <th>Date</th>\n",
       "      <th>Month</th>\n",
       "      <th>Property_Price</th>\n",
       "      <th>NQ100_Price</th>\n",
       "      <th>id</th>\n",
       "      <th>property_price_normalized</th>\n",
       "      <th>nq100_price_normalized</th>\n",
       "      <th>Date_old</th>\n",
       "      <th>Property_Price_old</th>\n",
       "      <th>NQ100_Price_old</th>\n",
       "      <th>Property_Rate</th>\n",
       "      <th>Leveraged_Property_Ratio</th>\n",
       "      <th>NQ100_Rate</th>\n",
       "      <th>Stock2Property</th>\n",
       "      <th>Stock2Leveraged_Property</th>\n",
       "    </tr>\n",
       "  </thead>\n",
       "  <tbody>\n",
       "    <tr>\n",
       "      <th>23</th>\n",
       "      <td>2021-10-01</td>\n",
       "      <td>2021-10</td>\n",
       "      <td>423600.0</td>\n",
       "      <td>4460.707143</td>\n",
       "      <td>143</td>\n",
       "      <td>4.813636</td>\n",
       "      <td>21.425714</td>\n",
       "      <td>1991-10-01</td>\n",
       "      <td>120000.0</td>\n",
       "      <td>386.883478</td>\n",
       "      <td>3.530000</td>\n",
       "      <td>17.650000</td>\n",
       "      <td>11.529847</td>\n",
       "      <td>3.266245</td>\n",
       "      <td>0.653249</td>\n",
       "    </tr>\n",
       "    <tr>\n",
       "      <th>24</th>\n",
       "      <td>2022-01-01</td>\n",
       "      <td>2022-01</td>\n",
       "      <td>433100.0</td>\n",
       "      <td>4573.815500</td>\n",
       "      <td>144</td>\n",
       "      <td>4.921591</td>\n",
       "      <td>21.968998</td>\n",
       "      <td>1992-01-01</td>\n",
       "      <td>119500.0</td>\n",
       "      <td>416.075000</td>\n",
       "      <td>3.624268</td>\n",
       "      <td>18.121339</td>\n",
       "      <td>10.992767</td>\n",
       "      <td>3.033100</td>\n",
       "      <td>0.606620</td>\n",
       "    </tr>\n",
       "    <tr>\n",
       "      <th>25</th>\n",
       "      <td>2022-04-01</td>\n",
       "      <td>2022-04</td>\n",
       "      <td>440300.0</td>\n",
       "      <td>4391.296000</td>\n",
       "      <td>145</td>\n",
       "      <td>5.003409</td>\n",
       "      <td>21.092318</td>\n",
       "      <td>1992-04-01</td>\n",
       "      <td>120000.0</td>\n",
       "      <td>407.407143</td>\n",
       "      <td>3.669167</td>\n",
       "      <td>18.345833</td>\n",
       "      <td>10.778643</td>\n",
       "      <td>2.937627</td>\n",
       "      <td>0.587525</td>\n",
       "    </tr>\n",
       "  </tbody>\n",
       "</table>\n",
       "</div>"
      ],
      "text/plain": [
       "          Date    Month  Property_Price  NQ100_Price   id  \\\n",
       "23  2021-10-01  2021-10        423600.0  4460.707143  143   \n",
       "24  2022-01-01  2022-01        433100.0  4573.815500  144   \n",
       "25  2022-04-01  2022-04        440300.0  4391.296000  145   \n",
       "\n",
       "    property_price_normalized  nq100_price_normalized    Date_old  \\\n",
       "23                   4.813636               21.425714  1991-10-01   \n",
       "24                   4.921591               21.968998  1992-01-01   \n",
       "25                   5.003409               21.092318  1992-04-01   \n",
       "\n",
       "    Property_Price_old  NQ100_Price_old  Property_Rate  \\\n",
       "23            120000.0       386.883478       3.530000   \n",
       "24            119500.0       416.075000       3.624268   \n",
       "25            120000.0       407.407143       3.669167   \n",
       "\n",
       "    Leveraged_Property_Ratio  NQ100_Rate  Stock2Property  \\\n",
       "23                 17.650000   11.529847        3.266245   \n",
       "24                 18.121339   10.992767        3.033100   \n",
       "25                 18.345833   10.778643        2.937627   \n",
       "\n",
       "    Stock2Leveraged_Property  \n",
       "23                  0.653249  \n",
       "24                  0.606620  \n",
       "25                  0.587525  "
      ]
     },
     "execution_count": 16,
     "metadata": {},
     "output_type": "execute_result"
    }
   ],
   "source": [
    "Stock2Property.tail(3)"
   ]
  },
  {
   "cell_type": "code",
   "execution_count": 17,
   "id": "e0938730",
   "metadata": {},
   "outputs": [
    {
     "data": {
      "text/plain": [
       "<AxesSubplot:xlabel='Date'>"
      ]
     },
     "execution_count": 17,
     "metadata": {},
     "output_type": "execute_result"
    },
    {
     "data": {
      "image/png": "[encoded data removed]",
      "text/plain": [
       "<Figure size 432x288 with 1 Axes>"
      ]
     },
     "metadata": {
      "needs_background": "light"
     },
     "output_type": "display_data"
    }
   ],
   "source": [
    "Stock2Property.plot(\n",
    "    x ='Date', \n",
    "    y=[\n",
    "    'Leveraged_Property_Ratio', \n",
    "    'NQ100_Rate', \n",
    "    ], grid = True)"
   ]
  },
  {
   "cell_type": "markdown",
   "id": "16b17c3a",
   "metadata": {},
   "source": [
    "np.std(Stock2Property['Leveraged_Property_Ratio'])"
   ]
  },
  {
   "cell_type": "markdown",
   "id": "e115c910",
   "metadata": {},
   "source": [
    "np.std(Stock2Property['NQ100_Rate'])"
   ]
  },
  {
   "cell_type": "code",
   "execution_count": 18,
   "id": "011351fd",
   "metadata": {},
   "outputs": [
    {
     "data": {
      "text/plain": [
       "<AxesSubplot:>"
      ]
     },
     "execution_count": 18,
     "metadata": {},
     "output_type": "execute_result"
    },
    {
     "data": {
      "image/png": "[encoded data removed]",
      "text/plain": [
       "<Figure size 432x288 with 1 Axes>"
      ]
     },
     "metadata": {
      "needs_background": "light"
     },
     "output_type": "display_data"
    }
   ],
   "source": [
    "Stock2Property.boxplot(column=['Leveraged_Property_Ratio']) "
   ]
  },
  {
   "cell_type": "code",
   "execution_count": 19,
   "id": "248d9df4",
   "metadata": {},
   "outputs": [
    {
     "data": {
      "text/plain": [
       "<AxesSubplot:>"
      ]
     },
     "execution_count": 19,
     "metadata": {},
     "output_type": "execute_result"
    },
    {
     "data": {
      "image/png": "[encoded data removed]",
      "text/plain": [
       "<Figure size 432x288 with 1 Axes>"
      ]
     },
     "metadata": {
      "needs_background": "light"
     },
     "output_type": "display_data"
    }
   ],
   "source": [
    "Stock2Property.boxplot(column=['Stock2Leveraged_Property']) "
   ]
  },
  {
   "cell_type": "code",
   "execution_count": 20,
   "id": "96952208",
   "metadata": {},
   "outputs": [
    {
     "name": "stdout",
     "output_type": "stream",
     "text": [
      "Nasdaq to Leveraged Property Ratio:\t0.6537\n"
     ]
    }
   ],
   "source": [
    "nq100_to_leveraged_property_ratio = Stock2Property['Stock2Leveraged_Property'].median()\n",
    "\n",
    "print('Nasdaq to Leveraged Property Ratio:\\t%0.4f'%(nq100_to_leveraged_property_ratio))"
   ]
  },
  {
   "cell_type": "code",
   "execution_count": 21,
   "id": "5a984e1f",
   "metadata": {},
   "outputs": [
    {
     "name": "stdout",
     "output_type": "stream",
     "text": [
      "Nasdaq Ratio:\t9.4113, min:\t7.9142\n"
     ]
    }
   ],
   "source": [
    "nq100_ratio = Stock2Property['NQ100_Rate'].median()\n",
    "\n",
    "nq100_ratio_min = Stock2Property['NQ100_Rate'].min()\n",
    "\n",
    "print('Nasdaq Ratio:\\t%0.4f, min:\\t%0.4f'%(nq100_ratio, nq100_ratio_min))"
   ]
  },
  {
   "cell_type": "code",
   "execution_count": 22,
   "id": "c2e2aee3",
   "metadata": {},
   "outputs": [
    {
     "name": "stdout",
     "output_type": "stream",
     "text": [
      "Leveraged Property Ratio:\t15.1352, min:\t12.7208\n"
     ]
    }
   ],
   "source": [
    "leveraged_property_ratio = Stock2Property['Leveraged_Property_Ratio'].median()\n",
    "\n",
    "leveraged_property_ratio_min = Stock2Property['Leveraged_Property_Ratio'].min()\n",
    "\n",
    "print('Leveraged Property Ratio:\\t%0.4f, min:\\t%0.4f'%(leveraged_property_ratio, leveraged_property_ratio_min))"
   ]
  },
  {
   "cell_type": "markdown",
   "id": "a088cbfb",
   "metadata": {},
   "source": [
    "#### END"
   ]
  }
 ],
 "metadata": {
  "kernelspec": {
   "display_name": "Python 3 (ipykernel)",
   "language": "python",
   "name": "python3"
  },
  "language_info": {
   "codemirror_mode": {
    "name": "ipython",
    "version": 3
   },
   "file_extension": ".py",
   "mimetype": "text/x-python",
   "name": "python",
   "nbconvert_exporter": "python",
   "pygments_lexer": "ipython3",
   "version": "3.9.6"
  }
 },
 "nbformat": 4,
 "nbformat_minor": 5
}
