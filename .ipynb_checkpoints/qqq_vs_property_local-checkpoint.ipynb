{
 "cells": [
  {
   "cell_type": "code",
   "execution_count": 1,
   "id": "2f8f0d64",
   "metadata": {},
   "outputs": [],
   "source": [
    "import os\n",
    "import re\n",
    "import pandas as pd\n",
    "from pandasql import sqldf\n",
    "import numpy as np\n",
    "\n",
    "pysqldf = lambda q: sqldf(q, globals())"
   ]
  },
  {
   "cell_type": "code",
   "execution_count": 2,
   "id": "4ef02781",
   "metadata": {},
   "outputs": [],
   "source": [
    "year_duration = 30"
   ]
  },
  {
   "cell_type": "code",
   "execution_count": 3,
   "id": "677e0100",
   "metadata": {},
   "outputs": [
    {
     "data": {
      "text/plain": [
       "'1976-01-01'"
      ]
     },
     "execution_count": 3,
     "metadata": {},
     "output_type": "execute_result"
    }
   ],
   "source": [
    "month_mapping = {\n",
    "    \"Jun\":6,\n",
    "    \"May\":5,\n",
    "    \"Apr\":4,\n",
    "    \"Mar\":3,\n",
    "    \"Feb\":2,\n",
    "    \"Jan\":1,\n",
    "    \"Dec\":12,\n",
    "    \"Nov\":11,\n",
    "    \"Oct\":10,\n",
    "    \"Sep\":9,\n",
    "    \"Aug\":8,\n",
    "    \"Jul\":7,\n",
    "    }\n",
    "\n",
    "def date_normalize(date):\n",
    "    try:\n",
    "        result = re.search(r'(?P<m>\\d+)\\/(?P<d>\\d+)\\/(?P<y>\\d+)', date).groupdict()\n",
    "        output = '%04d-%02d-%02d'%(\n",
    "            int(result['y']),\n",
    "            int(result['m']),\n",
    "            int(result['d']),\n",
    "            )\n",
    "        return output\n",
    "    except:\n",
    "        pass\n",
    "    try:\n",
    "        parsing_result = re.search(r'(?P<m>[A-z]{3}) (?P<d>\\d{2}) (?P<y>\\d{4})', date).groupdict()\n",
    "        parsing_result['m'] = month_mapping[parsing_result['m']]\n",
    "        parsing_result['m'] = '%02d'%(parsing_result['m'])\n",
    "        return('%s-%s-%s'%(\n",
    "            parsing_result['y'],\n",
    "            parsing_result['m'],\n",
    "            parsing_result['d'],\n",
    "            ))\n",
    "    except:\n",
    "        pass\n",
    "    return date\n",
    "\n",
    "date = 'Jun 14 2022'\n",
    "date = '1/1/1976'\n",
    "\n",
    "date_normalize(\n",
    "    date,\n",
    "    )"
   ]
  },
  {
   "cell_type": "markdown",
   "id": "5cf0079f",
   "metadata": {},
   "source": [
    "https://fred.stlouisfed.org/categories/27281\n",
    "\n",
    "site:https://fred.stlouisfed.org dallas property price"
   ]
  },
  {
   "cell_type": "code",
   "execution_count": 4,
   "id": "89fd7d33",
   "metadata": {},
   "outputs": [],
   "source": [
    "property_data = pd.read_csv(\n",
    "    'history/ATNHPIUS35614Q_new_york.csv',\n",
    "    )"
   ]
  },
  {
   "cell_type": "code",
   "execution_count": 5,
   "id": "d33a4809",
   "metadata": {},
   "outputs": [],
   "source": [
    "property_data['Date'] = property_data[property_data.columns[0]].apply(date_normalize)\n",
    "property_data['Month'] = property_data['Date'].apply(lambda x:x.split('-')[0]+'-'+x.split('-')[1])"
   ]
  },
  {
   "cell_type": "code",
   "execution_count": 6,
   "id": "8e5478f1",
   "metadata": {},
   "outputs": [
    {
     "data": {
      "text/plain": [
       "<AxesSubplot:xlabel='Date'>"
      ]
     },
     "execution_count": 6,
     "metadata": {},
     "output_type": "execute_result"
    },
    {
     "data": {
      "image/png": "[encoded data removed]",
      "text/plain": [
       "<Figure size 432x288 with 1 Axes>"
      ]
     },
     "metadata": {
      "needs_background": "light"
     },
     "output_type": "display_data"
    }
   ],
   "source": [
    "property_data['Close'] = property_data[property_data.columns[1]].apply(lambda x: float(x))\n",
    "property_data['id'] = property_data.index\n",
    "\n",
    "property_data = property_data.drop(columns = [property_data.columns[0], property_data.columns[1]])\n",
    "\n",
    "property_data.plot(x ='Date', y=[\n",
    "    'Close', \n",
    "    ], grid = True)"
   ]
  },
  {
   "cell_type": "code",
   "execution_count": 7,
   "id": "1c0f8d93",
   "metadata": {},
   "outputs": [
    {
     "data": {
      "text/html": [
       "<div>\n",
       "<style scoped>\n",
       "    .dataframe tbody tr th:only-of-type {\n",
       "        vertical-align: middle;\n",
       "    }\n",
       "\n",
       "    .dataframe tbody tr th {\n",
       "        vertical-align: top;\n",
       "    }\n",
       "\n",
       "    .dataframe thead th {\n",
       "        text-align: right;\n",
       "    }\n",
       "</style>\n",
       "<table border=\"1\" class=\"dataframe\">\n",
       "  <thead>\n",
       "    <tr style=\"text-align: right;\">\n",
       "      <th></th>\n",
       "      <th>Date</th>\n",
       "      <th>Month</th>\n",
       "      <th>Close</th>\n",
       "      <th>id</th>\n",
       "    </tr>\n",
       "  </thead>\n",
       "  <tbody>\n",
       "    <tr>\n",
       "      <th>0</th>\n",
       "      <td>1975-10-01</td>\n",
       "      <td>1975-10</td>\n",
       "      <td>24.11</td>\n",
       "      <td>0</td>\n",
       "    </tr>\n",
       "    <tr>\n",
       "      <th>1</th>\n",
       "      <td>1976-01-01</td>\n",
       "      <td>1976-01</td>\n",
       "      <td>23.86</td>\n",
       "      <td>1</td>\n",
       "    </tr>\n",
       "    <tr>\n",
       "      <th>2</th>\n",
       "      <td>1976-04-01</td>\n",
       "      <td>1976-04</td>\n",
       "      <td>23.35</td>\n",
       "      <td>2</td>\n",
       "    </tr>\n",
       "  </tbody>\n",
       "</table>\n",
       "</div>"
      ],
      "text/plain": [
       "         Date    Month  Close  id\n",
       "0  1975-10-01  1975-10  24.11   0\n",
       "1  1976-01-01  1976-01  23.86   1\n",
       "2  1976-04-01  1976-04  23.35   2"
      ]
     },
     "execution_count": 7,
     "metadata": {},
     "output_type": "execute_result"
    }
   ],
   "source": [
    "property_data.head(3)"
   ]
  },
  {
   "cell_type": "code",
   "execution_count": 8,
   "id": "bec881f7",
   "metadata": {},
   "outputs": [
    {
     "data": {
      "text/plain": [
       "<AxesSubplot:xlabel='Date'>"
      ]
     },
     "execution_count": 8,
     "metadata": {},
     "output_type": "execute_result"
    },
    {
     "data": {
      "image/png": "[encoded data removed]",
      "text/plain": [
       "<Figure size 432x288 with 1 Axes>"
      ]
     },
     "metadata": {
      "needs_background": "light"
     },
     "output_type": "display_data"
    }
   ],
   "source": [
    "nasdaq_data = pd.read_csv(\n",
    "    'history/NDX.csv',\n",
    "    )\n",
    "\n",
    "nasdaq_data['Date'] = nasdaq_data['Date'].apply(date_normalize)\n",
    "nasdaq_data['Month'] = nasdaq_data['Date'].apply(lambda x:x.split('-')[0]+'-'+x.split('-')[1])\n",
    "\n",
    "nasdaq_data['Close'] = nasdaq_data['Close'].apply(lambda x: float(x))\n",
    "nasdaq_data['id'] = nasdaq_data.index\n",
    "\n",
    "nasdaq_data.plot(x ='Date', y=[\n",
    "    'Close', \n",
    "    ], grid = True)"
   ]
  },
  {
   "cell_type": "code",
   "execution_count": 9,
   "id": "1d4cb660",
   "metadata": {},
   "outputs": [],
   "source": [
    "nasdaq_data_month = pysqldf(u\"\"\"\n",
    "    select Month, avg(Close) as Close\n",
    "    from nasdaq_data\n",
    "    group by Month\n",
    "    \"\"\")"
   ]
  },
  {
   "cell_type": "code",
   "execution_count": 10,
   "id": "1968acc1",
   "metadata": {},
   "outputs": [],
   "source": [
    "compare_date = pysqldf(u\"\"\"\n",
    "    select p.Date, \n",
    "    p.Close as Property_Price,\n",
    "    n.Close as NQ100_Price\n",
    "    from property_data as p\n",
    "    left join nasdaq_data_month as n on n.Month = p.Month\n",
    "    where p.Date >= '1985-10-01'\n",
    "    order by p.Date asc\n",
    "    \"\"\")\n",
    "\n",
    "compare_date['id'] = compare_date.index"
   ]
  },
  {
   "cell_type": "code",
   "execution_count": 11,
   "id": "e25513c4",
   "metadata": {},
   "outputs": [
    {
     "data": {
      "text/html": [
       "<div>\n",
       "<style scoped>\n",
       "    .dataframe tbody tr th:only-of-type {\n",
       "        vertical-align: middle;\n",
       "    }\n",
       "\n",
       "    .dataframe tbody tr th {\n",
       "        vertical-align: top;\n",
       "    }\n",
       "\n",
       "    .dataframe thead th {\n",
       "        text-align: right;\n",
       "    }\n",
       "</style>\n",
       "<table border=\"1\" class=\"dataframe\">\n",
       "  <thead>\n",
       "    <tr style=\"text-align: right;\">\n",
       "      <th></th>\n",
       "      <th>Date</th>\n",
       "      <th>Property_Price</th>\n",
       "      <th>NQ100_Price</th>\n",
       "      <th>id</th>\n",
       "    </tr>\n",
       "  </thead>\n",
       "  <tbody>\n",
       "    <tr>\n",
       "      <th>0</th>\n",
       "      <td>1985-10-01</td>\n",
       "      <td>71.18</td>\n",
       "      <td>112.668478</td>\n",
       "      <td>0</td>\n",
       "    </tr>\n",
       "    <tr>\n",
       "      <th>1</th>\n",
       "      <td>1986-01-01</td>\n",
       "      <td>75.08</td>\n",
       "      <td>131.038864</td>\n",
       "      <td>1</td>\n",
       "    </tr>\n",
       "    <tr>\n",
       "      <th>2</th>\n",
       "      <td>1986-04-01</td>\n",
       "      <td>80.08</td>\n",
       "      <td>154.239090</td>\n",
       "      <td>2</td>\n",
       "    </tr>\n",
       "  </tbody>\n",
       "</table>\n",
       "</div>"
      ],
      "text/plain": [
       "         Date  Property_Price  NQ100_Price  id\n",
       "0  1985-10-01           71.18   112.668478   0\n",
       "1  1986-01-01           75.08   131.038864   1\n",
       "2  1986-04-01           80.08   154.239090   2"
      ]
     },
     "execution_count": 11,
     "metadata": {},
     "output_type": "execute_result"
    }
   ],
   "source": [
    "compare_date.head(3)"
   ]
  },
  {
   "cell_type": "code",
   "execution_count": 12,
   "id": "a9d05c0a",
   "metadata": {},
   "outputs": [],
   "source": [
    "window_size = year_duration*4"
   ]
  },
  {
   "cell_type": "code",
   "execution_count": 13,
   "id": "53679bba",
   "metadata": {},
   "outputs": [],
   "source": [
    "compare_date_now_old = pysqldf(u\"\"\"\n",
    "    select now.*,\n",
    "    old.Date as Date_old,\n",
    "    old.Property_Price as Property_Price_old,\n",
    "    old.NQ100_Price as NQ100_Price_old    \n",
    "    from compare_date as now\n",
    "    join compare_date as old\n",
    "    on old.id + {} = now.id\n",
    "    \"\"\".format(window_size))"
   ]
  },
  {
   "cell_type": "code",
   "execution_count": 14,
   "id": "55f84b24",
   "metadata": {},
   "outputs": [
    {
     "data": {
      "text/html": [
       "<div>\n",
       "<style scoped>\n",
       "    .dataframe tbody tr th:only-of-type {\n",
       "        vertical-align: middle;\n",
       "    }\n",
       "\n",
       "    .dataframe tbody tr th {\n",
       "        vertical-align: top;\n",
       "    }\n",
       "\n",
       "    .dataframe thead th {\n",
       "        text-align: right;\n",
       "    }\n",
       "</style>\n",
       "<table border=\"1\" class=\"dataframe\">\n",
       "  <thead>\n",
       "    <tr style=\"text-align: right;\">\n",
       "      <th></th>\n",
       "      <th>Date</th>\n",
       "      <th>Property_Price</th>\n",
       "      <th>NQ100_Price</th>\n",
       "      <th>id</th>\n",
       "      <th>Date_old</th>\n",
       "      <th>Property_Price_old</th>\n",
       "      <th>NQ100_Price_old</th>\n",
       "    </tr>\n",
       "  </thead>\n",
       "  <tbody>\n",
       "    <tr>\n",
       "      <th>0</th>\n",
       "      <td>2015-10-01</td>\n",
       "      <td>244.99</td>\n",
       "      <td>4445.488659</td>\n",
       "      <td>120</td>\n",
       "      <td>1985-10-01</td>\n",
       "      <td>71.18</td>\n",
       "      <td>112.668478</td>\n",
       "    </tr>\n",
       "    <tr>\n",
       "      <th>1</th>\n",
       "      <td>2016-01-01</td>\n",
       "      <td>247.00</td>\n",
       "      <td>4259.324219</td>\n",
       "      <td>121</td>\n",
       "      <td>1986-01-01</td>\n",
       "      <td>75.08</td>\n",
       "      <td>131.038864</td>\n",
       "    </tr>\n",
       "    <tr>\n",
       "      <th>2</th>\n",
       "      <td>2016-04-01</td>\n",
       "      <td>250.82</td>\n",
       "      <td>4491.744768</td>\n",
       "      <td>122</td>\n",
       "      <td>1986-04-01</td>\n",
       "      <td>80.08</td>\n",
       "      <td>154.239090</td>\n",
       "    </tr>\n",
       "  </tbody>\n",
       "</table>\n",
       "</div>"
      ],
      "text/plain": [
       "         Date  Property_Price  NQ100_Price   id    Date_old  \\\n",
       "0  2015-10-01          244.99  4445.488659  120  1985-10-01   \n",
       "1  2016-01-01          247.00  4259.324219  121  1986-01-01   \n",
       "2  2016-04-01          250.82  4491.744768  122  1986-04-01   \n",
       "\n",
       "   Property_Price_old  NQ100_Price_old  \n",
       "0               71.18       112.668478  \n",
       "1               75.08       131.038864  \n",
       "2               80.08       154.239090  "
      ]
     },
     "execution_count": 14,
     "metadata": {},
     "output_type": "execute_result"
    }
   ],
   "source": [
    "compare_date_now_old.head(3)"
   ]
  },
  {
   "cell_type": "code",
   "execution_count": 15,
   "id": "932dd56a",
   "metadata": {},
   "outputs": [],
   "source": [
    "Stock2Property = pysqldf(u\"\"\"\n",
    "    select *,\n",
    "    Property_Price/Property_Price_old as Property_Rate,\n",
    "    ((Property_Price/Property_Price_old)*5 - 4*(1-{}/30)) as Leveraged_Property_Ratio,\n",
    "    NQ100_Price/NQ100_Price_old as NQ100_Rate\n",
    "    from compare_date_now_old\n",
    "    \"\"\".format(year_duration))"
   ]
  },
  {
   "cell_type": "code",
   "execution_count": 16,
   "id": "f7dc344c",
   "metadata": {},
   "outputs": [],
   "source": [
    "Stock2Property = pysqldf(u\"\"\"\n",
    "    select *,\n",
    "    NQ100_Rate/Property_Rate as Stock2Property,\n",
    "    NQ100_Rate/Leveraged_Property_Ratio as Stock2Leveraged_Property    \n",
    "    from Stock2Property\n",
    "    \"\"\")"
   ]
  },
  {
   "cell_type": "code",
   "execution_count": 17,
   "id": "e0938730",
   "metadata": {},
   "outputs": [
    {
     "data": {
      "text/plain": [
       "<AxesSubplot:xlabel='Date'>"
      ]
     },
     "execution_count": 17,
     "metadata": {},
     "output_type": "execute_result"
    },
    {
     "data": {
      "image/png": "[encoded data removed]",
      "text/plain": [
       "<Figure size 432x288 with 1 Axes>"
      ]
     },
     "metadata": {
      "needs_background": "light"
     },
     "output_type": "display_data"
    }
   ],
   "source": [
    "Stock2Property.plot(x ='Date', y=[\n",
    "    'Leveraged_Property_Ratio', \n",
    "    'NQ100_Rate', \n",
    "    ], grid = True)"
   ]
  },
  {
   "cell_type": "markdown",
   "id": "16b17c3a",
   "metadata": {},
   "source": [
    "np.std(Stock2Property['Leveraged_Property_Ratio'])"
   ]
  },
  {
   "cell_type": "markdown",
   "id": "e115c910",
   "metadata": {},
   "source": [
    "np.std(Stock2Property['NQ100_Rate'])"
   ]
  },
  {
   "cell_type": "code",
   "execution_count": 18,
   "id": "011351fd",
   "metadata": {},
   "outputs": [
    {
     "data": {
      "text/plain": [
       "<AxesSubplot:>"
      ]
     },
     "execution_count": 18,
     "metadata": {},
     "output_type": "execute_result"
    },
    {
     "data": {
      "image/png": "[encoded data removed]",
      "text/plain": [
       "<Figure size 432x288 with 1 Axes>"
      ]
     },
     "metadata": {
      "needs_background": "light"
     },
     "output_type": "display_data"
    }
   ],
   "source": [
    "Stock2Property.boxplot(column=['Stock2Leveraged_Property']) "
   ]
  },
  {
   "cell_type": "code",
   "execution_count": 19,
   "id": "96952208",
   "metadata": {},
   "outputs": [
    {
     "name": "stdout",
     "output_type": "stream",
     "text": [
      "Nasdaq to Leveraged Property Ratio:\t2.8683\n"
     ]
    }
   ],
   "source": [
    "nq100_to_leveraged_property_ratio = Stock2Property['Stock2Leveraged_Property'].median()\n",
    "\n",
    "print('Nasdaq to Leveraged Property Ratio:\\t%0.4f'%(nq100_to_leveraged_property_ratio))"
   ]
  },
  {
   "cell_type": "markdown",
   "id": "0722fc31",
   "metadata": {},
   "source": [
    "nq100_to_property_ratio = Stock2Property['Stock2Property'].median()\n",
    "\n",
    "print('Nasdaq to Property Ratio:\\t%0.4f'%(nq100_to_property_ratio))"
   ]
  },
  {
   "cell_type": "code",
   "execution_count": 20,
   "id": "5a984e1f",
   "metadata": {},
   "outputs": [
    {
     "name": "stdout",
     "output_type": "stream",
     "text": [
      "Nasdaq Ratio:\t39.3840, min:\t29.1220\n"
     ]
    }
   ],
   "source": [
    "nq100_ratio = Stock2Property['NQ100_Rate'].median()\n",
    "\n",
    "nq100_ratio_min = Stock2Property['NQ100_Rate'].min()\n",
    "\n",
    "print('Nasdaq Ratio:\\t%0.4f, min:\\t%0.4f'%(nq100_ratio, nq100_ratio_min))"
   ]
  },
  {
   "cell_type": "code",
   "execution_count": 21,
   "id": "c2e2aee3",
   "metadata": {},
   "outputs": [
    {
     "name": "stdout",
     "output_type": "stream",
     "text": [
      "Leveraged Property Ratio:\t13.8415, min:\t12.6110\n"
     ]
    }
   ],
   "source": [
    "leveraged_property_ratio = Stock2Property['Leveraged_Property_Ratio'].median()\n",
    "\n",
    "leveraged_property_ratio_min = Stock2Property['Leveraged_Property_Ratio'].min()\n",
    "\n",
    "print('Leveraged Property Ratio:\\t%0.4f, min:\\t%0.4f'%(leveraged_property_ratio, leveraged_property_ratio_min))"
   ]
  },
  {
   "cell_type": "markdown",
   "id": "a088cbfb",
   "metadata": {},
   "source": [
    "Property_Rate = Stock2Property['Property_Rate'].median()\n",
    "\n",
    "print('Property Ratio:\\t%0.4f'%(Property_Rate))"
   ]
  }
 ],
 "metadata": {
  "kernelspec": {
   "display_name": "Python 3 (ipykernel)",
   "language": "python",
   "name": "python3"
  },
  "language_info": {
   "codemirror_mode": {
    "name": "ipython",
    "version": 3
   },
   "file_extension": ".py",
   "mimetype": "text/x-python",
   "name": "python",
   "nbconvert_exporter": "python",
   "pygments_lexer": "ipython3",
   "version": "3.9.2"
  }
 },
 "nbformat": 4,
 "nbformat_minor": 5
}
