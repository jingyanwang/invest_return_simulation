{
 "cells": [
  {
   "cell_type": "code",
   "execution_count": 1,
   "id": "2f8f0d64",
   "metadata": {},
   "outputs": [],
   "source": [
    "import os\n",
    "import re\n",
    "import pandas as pd\n",
    "from pandasql import sqldf\n",
    "import numpy as np\n",
    "\n",
    "pysqldf = lambda q: sqldf(q, globals())"
   ]
  },
  {
   "cell_type": "code",
   "execution_count": 49,
   "id": "aec96ecf",
   "metadata": {},
   "outputs": [],
   "source": [
    "property_price_csv = 'history/ATNHPIUS41884Q_san_francisco.csv'\n",
    "nasdaq_data_csv = 'history/NDX.csv'"
   ]
  },
  {
   "cell_type": "code",
   "execution_count": 59,
   "id": "4ef02781",
   "metadata": {},
   "outputs": [],
   "source": [
    "year_duration = 30\n",
    "window_size = year_duration*4"
   ]
  },
  {
   "cell_type": "code",
   "execution_count": 4,
   "id": "677e0100",
   "metadata": {},
   "outputs": [
    {
     "data": {
      "text/plain": [
       "'1976-01-01'"
      ]
     },
     "execution_count": 4,
     "metadata": {},
     "output_type": "execute_result"
    }
   ],
   "source": [
    "month_mapping = {\n",
    "    \"Jun\":6,\n",
    "    \"May\":5,\n",
    "    \"Apr\":4,\n",
    "    \"Mar\":3,\n",
    "    \"Feb\":2,\n",
    "    \"Jan\":1,\n",
    "    \"Dec\":12,\n",
    "    \"Nov\":11,\n",
    "    \"Oct\":10,\n",
    "    \"Sep\":9,\n",
    "    \"Aug\":8,\n",
    "    \"Jul\":7,\n",
    "    }\n",
    "\n",
    "def date_normalize(date):\n",
    "    try:\n",
    "        result = re.search(r'(?P<m>\\d+)\\/(?P<d>\\d+)\\/(?P<y>\\d+)', date).groupdict()\n",
    "        output = '%04d-%02d-%02d'%(\n",
    "            int(result['y']),\n",
    "            int(result['m']),\n",
    "            int(result['d']),\n",
    "            )\n",
    "        return output\n",
    "    except:\n",
    "        pass\n",
    "    try:\n",
    "        parsing_result = re.search(r'(?P<m>[A-z]{3}) (?P<d>\\d{2}) (?P<y>\\d{4})', date).groupdict()\n",
    "        parsing_result['m'] = month_mapping[parsing_result['m']]\n",
    "        parsing_result['m'] = '%02d'%(parsing_result['m'])\n",
    "        return('%s-%s-%s'%(\n",
    "            parsing_result['y'],\n",
    "            parsing_result['m'],\n",
    "            parsing_result['d'],\n",
    "            ))\n",
    "    except:\n",
    "        pass\n",
    "    return date\n",
    "\n",
    "date = 'Jun 14 2022'\n",
    "date = '1/1/1976'\n",
    "\n",
    "date_normalize(\n",
    "    date,\n",
    "    )"
   ]
  },
  {
   "cell_type": "markdown",
   "id": "5cf0079f",
   "metadata": {},
   "source": [
    "https://fred.stlouisfed.org/categories/27281\n",
    "\n",
    "site:https://fred.stlouisfed.org dallas property price"
   ]
  },
  {
   "cell_type": "code",
   "execution_count": 50,
   "id": "89fd7d33",
   "metadata": {},
   "outputs": [],
   "source": [
    "property_data = pd.read_csv(\n",
    "    property_price_csv,\n",
    "    )\n",
    "\n",
    "property_data['Date'] = property_data[property_data.columns[0]].apply(date_normalize)\n",
    "property_data['Month'] = property_data['Date'].apply(lambda x:x.split('-')[0]+'-'+x.split('-')[1])"
   ]
  },
  {
   "cell_type": "code",
   "execution_count": 28,
   "id": "ef55a67d",
   "metadata": {},
   "outputs": [
    {
     "data": {
      "text/plain": [
       "<AxesSubplot:xlabel='Date'>"
      ]
     },
     "execution_count": 28,
     "metadata": {},
     "output_type": "execute_result"
    },
    {
     "data": {
      "image/png": "[encoded data removed]",
      "text/plain": [
       "<Figure size 432x288 with 1 Axes>"
      ]
     },
     "metadata": {
      "needs_background": "light"
     },
     "output_type": "display_data"
    }
   ],
   "source": [
    "property_data.plot(\n",
    "    x = property_data.columns[0], \n",
    "    y=[\n",
    "        property_data.columns[1], \n",
    "    ], grid = True)"
   ]
  },
  {
   "cell_type": "code",
   "execution_count": 51,
   "id": "8e5478f1",
   "metadata": {},
   "outputs": [],
   "source": [
    "property_data['Close'] = property_data[property_data.columns[1]].apply(lambda x: float(x))\n",
    "property_data['id'] = property_data.index\n",
    "#property_data = property_data.drop(columns = [property_data.columns[0]])"
   ]
  },
  {
   "cell_type": "code",
   "execution_count": 52,
   "id": "1c0f8d93",
   "metadata": {},
   "outputs": [
    {
     "data": {
      "text/html": [
       "<div>\n",
       "<style scoped>\n",
       "    .dataframe tbody tr th:only-of-type {\n",
       "        vertical-align: middle;\n",
       "    }\n",
       "\n",
       "    .dataframe tbody tr th {\n",
       "        vertical-align: top;\n",
       "    }\n",
       "\n",
       "    .dataframe thead th {\n",
       "        text-align: right;\n",
       "    }\n",
       "</style>\n",
       "<table border=\"1\" class=\"dataframe\">\n",
       "  <thead>\n",
       "    <tr style=\"text-align: right;\">\n",
       "      <th></th>\n",
       "      <th>Date</th>\n",
       "      <th>Close</th>\n",
       "      <th>Month</th>\n",
       "      <th>id</th>\n",
       "    </tr>\n",
       "  </thead>\n",
       "  <tbody>\n",
       "    <tr>\n",
       "      <th>0</th>\n",
       "      <td>1975-07-01</td>\n",
       "      <td>18.48</td>\n",
       "      <td>1975-07</td>\n",
       "      <td>0</td>\n",
       "    </tr>\n",
       "    <tr>\n",
       "      <th>1</th>\n",
       "      <td>1975-10-01</td>\n",
       "      <td>21.98</td>\n",
       "      <td>1975-10</td>\n",
       "      <td>1</td>\n",
       "    </tr>\n",
       "    <tr>\n",
       "      <th>2</th>\n",
       "      <td>1976-01-01</td>\n",
       "      <td>21.83</td>\n",
       "      <td>1976-01</td>\n",
       "      <td>2</td>\n",
       "    </tr>\n",
       "  </tbody>\n",
       "</table>\n",
       "</div>"
      ],
      "text/plain": [
       "         Date  Close    Month  id\n",
       "0  1975-07-01  18.48  1975-07   0\n",
       "1  1975-10-01  21.98  1975-10   1\n",
       "2  1976-01-01  21.83  1976-01   2"
      ]
     },
     "execution_count": 52,
     "metadata": {},
     "output_type": "execute_result"
    }
   ],
   "source": [
    "property_data.head(3)"
   ]
  },
  {
   "cell_type": "code",
   "execution_count": 53,
   "id": "bec881f7",
   "metadata": {},
   "outputs": [
    {
     "data": {
      "text/plain": [
       "<AxesSubplot:xlabel='Date'>"
      ]
     },
     "execution_count": 53,
     "metadata": {},
     "output_type": "execute_result"
    },
    {
     "data": {
      "image/png": "[encoded data removed]",
      "text/plain": [
       "<Figure size 432x288 with 1 Axes>"
      ]
     },
     "metadata": {
      "needs_background": "light"
     },
     "output_type": "display_data"
    }
   ],
   "source": [
    "nasdaq_data = pd.read_csv(\n",
    "    nasdaq_data_csv,\n",
    "    )\n",
    "\n",
    "nasdaq_data['Date'] = nasdaq_data['Date'].apply(date_normalize)\n",
    "nasdaq_data['Month'] = nasdaq_data['Date'].apply(lambda x:x.split('-')[0]+'-'+x.split('-')[1])\n",
    "\n",
    "nasdaq_data['Close'] = nasdaq_data['Close'].apply(lambda x: float(x))\n",
    "nasdaq_data['id'] = nasdaq_data.index\n",
    "\n",
    "nasdaq_data.plot(x ='Date', y=[\n",
    "    'Close', \n",
    "    ], grid = True)"
   ]
  },
  {
   "cell_type": "code",
   "execution_count": 54,
   "id": "1d4cb660",
   "metadata": {},
   "outputs": [],
   "source": [
    "nasdaq_data_month = pysqldf(u\"\"\"\n",
    "    select Month, avg(Close) as Close\n",
    "    from nasdaq_data\n",
    "    group by Month\n",
    "    \"\"\")"
   ]
  },
  {
   "cell_type": "code",
   "execution_count": 55,
   "id": "c1bd5450",
   "metadata": {},
   "outputs": [
    {
     "data": {
      "text/html": [
       "<div>\n",
       "<style scoped>\n",
       "    .dataframe tbody tr th:only-of-type {\n",
       "        vertical-align: middle;\n",
       "    }\n",
       "\n",
       "    .dataframe tbody tr th {\n",
       "        vertical-align: top;\n",
       "    }\n",
       "\n",
       "    .dataframe thead th {\n",
       "        text-align: right;\n",
       "    }\n",
       "</style>\n",
       "<table border=\"1\" class=\"dataframe\">\n",
       "  <thead>\n",
       "    <tr style=\"text-align: right;\">\n",
       "      <th></th>\n",
       "      <th>Date</th>\n",
       "      <th>Close</th>\n",
       "      <th>Month</th>\n",
       "      <th>id</th>\n",
       "    </tr>\n",
       "  </thead>\n",
       "  <tbody>\n",
       "    <tr>\n",
       "      <th>0</th>\n",
       "      <td>1975-07-01</td>\n",
       "      <td>18.48</td>\n",
       "      <td>1975-07</td>\n",
       "      <td>0</td>\n",
       "    </tr>\n",
       "    <tr>\n",
       "      <th>1</th>\n",
       "      <td>1975-10-01</td>\n",
       "      <td>21.98</td>\n",
       "      <td>1975-10</td>\n",
       "      <td>1</td>\n",
       "    </tr>\n",
       "    <tr>\n",
       "      <th>2</th>\n",
       "      <td>1976-01-01</td>\n",
       "      <td>21.83</td>\n",
       "      <td>1976-01</td>\n",
       "      <td>2</td>\n",
       "    </tr>\n",
       "    <tr>\n",
       "      <th>3</th>\n",
       "      <td>1976-04-01</td>\n",
       "      <td>20.95</td>\n",
       "      <td>1976-04</td>\n",
       "      <td>3</td>\n",
       "    </tr>\n",
       "    <tr>\n",
       "      <th>4</th>\n",
       "      <td>1976-07-01</td>\n",
       "      <td>21.20</td>\n",
       "      <td>1976-07</td>\n",
       "      <td>4</td>\n",
       "    </tr>\n",
       "    <tr>\n",
       "      <th>...</th>\n",
       "      <td>...</td>\n",
       "      <td>...</td>\n",
       "      <td>...</td>\n",
       "      <td>...</td>\n",
       "    </tr>\n",
       "    <tr>\n",
       "      <th>182</th>\n",
       "      <td>2021-01-01</td>\n",
       "      <td>420.40</td>\n",
       "      <td>2021-01</td>\n",
       "      <td>182</td>\n",
       "    </tr>\n",
       "    <tr>\n",
       "      <th>183</th>\n",
       "      <td>2021-04-01</td>\n",
       "      <td>430.48</td>\n",
       "      <td>2021-04</td>\n",
       "      <td>183</td>\n",
       "    </tr>\n",
       "    <tr>\n",
       "      <th>184</th>\n",
       "      <td>2021-07-01</td>\n",
       "      <td>431.73</td>\n",
       "      <td>2021-07</td>\n",
       "      <td>184</td>\n",
       "    </tr>\n",
       "    <tr>\n",
       "      <th>185</th>\n",
       "      <td>2021-10-01</td>\n",
       "      <td>445.21</td>\n",
       "      <td>2021-10</td>\n",
       "      <td>185</td>\n",
       "    </tr>\n",
       "    <tr>\n",
       "      <th>186</th>\n",
       "      <td>2022-01-01</td>\n",
       "      <td>460.53</td>\n",
       "      <td>2022-01</td>\n",
       "      <td>186</td>\n",
       "    </tr>\n",
       "  </tbody>\n",
       "</table>\n",
       "<p>187 rows × 4 columns</p>\n",
       "</div>"
      ],
      "text/plain": [
       "           Date   Close    Month   id\n",
       "0    1975-07-01   18.48  1975-07    0\n",
       "1    1975-10-01   21.98  1975-10    1\n",
       "2    1976-01-01   21.83  1976-01    2\n",
       "3    1976-04-01   20.95  1976-04    3\n",
       "4    1976-07-01   21.20  1976-07    4\n",
       "..          ...     ...      ...  ...\n",
       "182  2021-01-01  420.40  2021-01  182\n",
       "183  2021-04-01  430.48  2021-04  183\n",
       "184  2021-07-01  431.73  2021-07  184\n",
       "185  2021-10-01  445.21  2021-10  185\n",
       "186  2022-01-01  460.53  2022-01  186\n",
       "\n",
       "[187 rows x 4 columns]"
      ]
     },
     "execution_count": 55,
     "metadata": {},
     "output_type": "execute_result"
    }
   ],
   "source": [
    "property_data"
   ]
  },
  {
   "cell_type": "code",
   "execution_count": 56,
   "id": "1968acc1",
   "metadata": {},
   "outputs": [],
   "source": [
    "compare_date = pysqldf(u\"\"\"\n",
    "    select \n",
    "    p.Date,\n",
    "    p.Month, \n",
    "    p.Close as Property_Price,\n",
    "    n.Close as NQ100_Price\n",
    "    from property_data as p\n",
    "    left join nasdaq_data_month as n on n.Month = p.Month\n",
    "    where p.Date >= '1985-10-10'\n",
    "    order by p.Month asc\n",
    "    \"\"\")\n",
    "\n",
    "compare_date['id'] = compare_date.index"
   ]
  },
  {
   "cell_type": "code",
   "execution_count": 57,
   "id": "e25513c4",
   "metadata": {},
   "outputs": [
    {
     "data": {
      "text/html": [
       "<div>\n",
       "<style scoped>\n",
       "    .dataframe tbody tr th:only-of-type {\n",
       "        vertical-align: middle;\n",
       "    }\n",
       "\n",
       "    .dataframe tbody tr th {\n",
       "        vertical-align: top;\n",
       "    }\n",
       "\n",
       "    .dataframe thead th {\n",
       "        text-align: right;\n",
       "    }\n",
       "</style>\n",
       "<table border=\"1\" class=\"dataframe\">\n",
       "  <thead>\n",
       "    <tr style=\"text-align: right;\">\n",
       "      <th></th>\n",
       "      <th>Date</th>\n",
       "      <th>Month</th>\n",
       "      <th>Property_Price</th>\n",
       "      <th>NQ100_Price</th>\n",
       "      <th>id</th>\n",
       "    </tr>\n",
       "  </thead>\n",
       "  <tbody>\n",
       "    <tr>\n",
       "      <th>0</th>\n",
       "      <td>1986-01-01</td>\n",
       "      <td>1986-01</td>\n",
       "      <td>59.00</td>\n",
       "      <td>131.038864</td>\n",
       "      <td>0</td>\n",
       "    </tr>\n",
       "    <tr>\n",
       "      <th>1</th>\n",
       "      <td>1986-04-01</td>\n",
       "      <td>1986-04</td>\n",
       "      <td>60.81</td>\n",
       "      <td>154.239090</td>\n",
       "      <td>1</td>\n",
       "    </tr>\n",
       "    <tr>\n",
       "      <th>2</th>\n",
       "      <td>1986-07-01</td>\n",
       "      <td>1986-07</td>\n",
       "      <td>63.19</td>\n",
       "      <td>150.933182</td>\n",
       "      <td>2</td>\n",
       "    </tr>\n",
       "  </tbody>\n",
       "</table>\n",
       "</div>"
      ],
      "text/plain": [
       "         Date    Month  Property_Price  NQ100_Price  id\n",
       "0  1986-01-01  1986-01           59.00   131.038864   0\n",
       "1  1986-04-01  1986-04           60.81   154.239090   1\n",
       "2  1986-07-01  1986-07           63.19   150.933182   2"
      ]
     },
     "execution_count": 57,
     "metadata": {},
     "output_type": "execute_result"
    }
   ],
   "source": [
    "compare_date.head(3)"
   ]
  },
  {
   "cell_type": "code",
   "execution_count": 60,
   "id": "53679bba",
   "metadata": {},
   "outputs": [],
   "source": [
    "compare_date_now_old = pysqldf(u\"\"\"\n",
    "    select \n",
    "    now.*,\n",
    "    old.Date as Date_old,\n",
    "    old.Property_Price as Property_Price_old,\n",
    "    old.NQ100_Price as NQ100_Price_old    \n",
    "    from compare_date as now\n",
    "    join compare_date as old\n",
    "    on old.id + {} = now.id\n",
    "    \"\"\".format(window_size))"
   ]
  },
  {
   "cell_type": "code",
   "execution_count": 61,
   "id": "55f84b24",
   "metadata": {},
   "outputs": [
    {
     "data": {
      "text/html": [
       "<div>\n",
       "<style scoped>\n",
       "    .dataframe tbody tr th:only-of-type {\n",
       "        vertical-align: middle;\n",
       "    }\n",
       "\n",
       "    .dataframe tbody tr th {\n",
       "        vertical-align: top;\n",
       "    }\n",
       "\n",
       "    .dataframe thead th {\n",
       "        text-align: right;\n",
       "    }\n",
       "</style>\n",
       "<table border=\"1\" class=\"dataframe\">\n",
       "  <thead>\n",
       "    <tr style=\"text-align: right;\">\n",
       "      <th></th>\n",
       "      <th>Date</th>\n",
       "      <th>Month</th>\n",
       "      <th>Property_Price</th>\n",
       "      <th>NQ100_Price</th>\n",
       "      <th>id</th>\n",
       "      <th>Date_old</th>\n",
       "      <th>Property_Price_old</th>\n",
       "      <th>NQ100_Price_old</th>\n",
       "    </tr>\n",
       "  </thead>\n",
       "  <tbody>\n",
       "    <tr>\n",
       "      <th>0</th>\n",
       "      <td>2016-01-01</td>\n",
       "      <td>2016-01</td>\n",
       "      <td>379.23</td>\n",
       "      <td>4259.324219</td>\n",
       "      <td>120</td>\n",
       "      <td>1986-01-01</td>\n",
       "      <td>59.00</td>\n",
       "      <td>131.038864</td>\n",
       "    </tr>\n",
       "    <tr>\n",
       "      <th>1</th>\n",
       "      <td>2016-04-01</td>\n",
       "      <td>2016-04</td>\n",
       "      <td>384.36</td>\n",
       "      <td>4491.744768</td>\n",
       "      <td>121</td>\n",
       "      <td>1986-04-01</td>\n",
       "      <td>60.81</td>\n",
       "      <td>154.239090</td>\n",
       "    </tr>\n",
       "    <tr>\n",
       "      <th>2</th>\n",
       "      <td>2016-07-01</td>\n",
       "      <td>2016-07</td>\n",
       "      <td>393.31</td>\n",
       "      <td>4592.553027</td>\n",
       "      <td>122</td>\n",
       "      <td>1986-07-01</td>\n",
       "      <td>63.19</td>\n",
       "      <td>150.933182</td>\n",
       "    </tr>\n",
       "  </tbody>\n",
       "</table>\n",
       "</div>"
      ],
      "text/plain": [
       "         Date    Month  Property_Price  NQ100_Price   id    Date_old  \\\n",
       "0  2016-01-01  2016-01          379.23  4259.324219  120  1986-01-01   \n",
       "1  2016-04-01  2016-04          384.36  4491.744768  121  1986-04-01   \n",
       "2  2016-07-01  2016-07          393.31  4592.553027  122  1986-07-01   \n",
       "\n",
       "   Property_Price_old  NQ100_Price_old  \n",
       "0               59.00       131.038864  \n",
       "1               60.81       154.239090  \n",
       "2               63.19       150.933182  "
      ]
     },
     "execution_count": 61,
     "metadata": {},
     "output_type": "execute_result"
    }
   ],
   "source": [
    "compare_date_now_old.head(3)"
   ]
  },
  {
   "cell_type": "code",
   "execution_count": 66,
   "id": "932dd56a",
   "metadata": {},
   "outputs": [],
   "source": [
    "Stock2Property = pysqldf(u\"\"\"\n",
    "    select *,\n",
    "    Property_Price/Property_Price_old as Property_Rate,\n",
    "    ((Property_Price/Property_Price_old)*5 - 4*(1-{}/30)) as Leveraged_Property_Ratio,\n",
    "    NQ100_Price/NQ100_Price_old as NQ100_Rate\n",
    "    from compare_date_now_old\n",
    "    \"\"\".format(year_duration))\n",
    "\n",
    "Stock2Property = pysqldf(u\"\"\"\n",
    "    select *,\n",
    "    NQ100_Rate/Property_Rate as Stock2Property,\n",
    "    NQ100_Rate/Leveraged_Property_Ratio as Stock2Leveraged_Property    \n",
    "    from Stock2Property\n",
    "    \"\"\")"
   ]
  },
  {
   "cell_type": "code",
   "execution_count": 67,
   "id": "e0938730",
   "metadata": {},
   "outputs": [
    {
     "data": {
      "text/plain": [
       "<AxesSubplot:xlabel='Date'>"
      ]
     },
     "execution_count": 67,
     "metadata": {},
     "output_type": "execute_result"
    },
    {
     "data": {
      "image/png": "[encoded data removed]",
      "text/plain": [
       "<Figure size 432x288 with 1 Axes>"
      ]
     },
     "metadata": {
      "needs_background": "light"
     },
     "output_type": "display_data"
    }
   ],
   "source": [
    "Stock2Property.plot(\n",
    "    x ='Date', \n",
    "    y=[\n",
    "    'Leveraged_Property_Ratio', \n",
    "    'NQ100_Rate', \n",
    "    ], grid = True)"
   ]
  },
  {
   "cell_type": "markdown",
   "id": "16b17c3a",
   "metadata": {},
   "source": [
    "np.std(Stock2Property['Leveraged_Property_Ratio'])"
   ]
  },
  {
   "cell_type": "markdown",
   "id": "e115c910",
   "metadata": {},
   "source": [
    "np.std(Stock2Property['NQ100_Rate'])"
   ]
  },
  {
   "cell_type": "code",
   "execution_count": 69,
   "id": "011351fd",
   "metadata": {},
   "outputs": [
    {
     "data": {
      "text/plain": [
       "<AxesSubplot:>"
      ]
     },
     "execution_count": 69,
     "metadata": {},
     "output_type": "execute_result"
    },
    {
     "data": {
      "image/png": "[encoded data removed]",
      "text/plain": [
       "<Figure size 432x288 with 1 Axes>"
      ]
     },
     "metadata": {
      "needs_background": "light"
     },
     "output_type": "display_data"
    }
   ],
   "source": [
    "Stock2Property.boxplot(column=['Leveraged_Property_Ratio']) "
   ]
  },
  {
   "cell_type": "code",
   "execution_count": 70,
   "id": "248d9df4",
   "metadata": {},
   "outputs": [
    {
     "data": {
      "text/plain": [
       "<AxesSubplot:>"
      ]
     },
     "execution_count": 70,
     "metadata": {},
     "output_type": "execute_result"
    },
    {
     "data": {
      "image/png": "[encoded data removed]",
      "text/plain": [
       "<Figure size 432x288 with 1 Axes>"
      ]
     },
     "metadata": {
      "needs_background": "light"
     },
     "output_type": "display_data"
    }
   ],
   "source": [
    "Stock2Property.boxplot(column=['Stock2Leveraged_Property']) "
   ]
  },
  {
   "cell_type": "code",
   "execution_count": 73,
   "id": "96952208",
   "metadata": {},
   "outputs": [
    {
     "name": "stdout",
     "output_type": "stream",
     "text": [
      "Nasdaq to Leveraged Property Ratio:\t1.7772\n"
     ]
    }
   ],
   "source": [
    "nq100_to_leveraged_property_ratio = Stock2Property['Stock2Leveraged_Property'].median()\n",
    "\n",
    "print('Nasdaq to Leveraged Property Ratio:\\t%0.4f'%(nq100_to_leveraged_property_ratio))"
   ]
  },
  {
   "cell_type": "code",
   "execution_count": 72,
   "id": "5a984e1f",
   "metadata": {},
   "outputs": [
    {
     "name": "stdout",
     "output_type": "stream",
     "text": [
      "Nasdaq Ratio:\t39.3117, min:\t29.1220\n"
     ]
    }
   ],
   "source": [
    "nq100_ratio = Stock2Property['NQ100_Rate'].median()\n",
    "\n",
    "nq100_ratio_min = Stock2Property['NQ100_Rate'].min()\n",
    "\n",
    "print('Nasdaq Ratio:\\t%0.4f, min:\\t%0.4f'%(nq100_ratio, nq100_ratio_min))"
   ]
  },
  {
   "cell_type": "code",
   "execution_count": 74,
   "id": "c2e2aee3",
   "metadata": {},
   "outputs": [
    {
     "name": "stdout",
     "output_type": "stream",
     "text": [
      "Leveraged Property Ratio:\t21.7108, min:\t18.7978\n"
     ]
    }
   ],
   "source": [
    "leveraged_property_ratio = Stock2Property['Leveraged_Property_Ratio'].median()\n",
    "\n",
    "leveraged_property_ratio_min = Stock2Property['Leveraged_Property_Ratio'].min()\n",
    "\n",
    "print('Leveraged Property Ratio:\\t%0.4f, min:\\t%0.4f'%(leveraged_property_ratio, leveraged_property_ratio_min))"
   ]
  },
  {
   "cell_type": "markdown",
   "id": "a088cbfb",
   "metadata": {},
   "source": [
    "#### END"
   ]
  }
 ],
 "metadata": {
  "kernelspec": {
   "display_name": "Python 3 (ipykernel)",
   "language": "python",
   "name": "python3"
  },
  "language_info": {
   "codemirror_mode": {
    "name": "ipython",
    "version": 3
   },
   "file_extension": ".py",
   "mimetype": "text/x-python",
   "name": "python",
   "nbconvert_exporter": "python",
   "pygments_lexer": "ipython3",
   "version": "3.9.2"
  }
 },
 "nbformat": 4,
 "nbformat_minor": 5
}
