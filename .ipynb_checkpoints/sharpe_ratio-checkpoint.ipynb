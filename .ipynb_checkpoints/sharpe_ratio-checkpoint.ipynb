{
 "cells": [
  {
   "cell_type": "code",
   "execution_count": 1,
   "id": "3c95f796",
   "metadata": {},
   "outputs": [],
   "source": [
    "import os\n",
    "import re\n",
    "import pandas as pd\n",
    "from pandasql import sqldf\n",
    "\n",
    "pysqldf = lambda q: sqldf(q, globals())"
   ]
  },
  {
   "cell_type": "code",
   "execution_count": 8,
   "id": "3551870e",
   "metadata": {},
   "outputs": [],
   "source": [
    "return_input_file = 'results/fvx_all_in_return_25y.xlsx'\n",
    "\n",
    "date_column = 'date'\n",
    "return_column = 'return'"
   ]
  },
  {
   "cell_type": "code",
   "execution_count": 16,
   "id": "03984329",
   "metadata": {},
   "outputs": [],
   "source": [
    "if '.csv' in return_input_file.lower():\n",
    "    data = pd.read_csv(\n",
    "        return_input_file,\n",
    "        )\n",
    "else:\n",
    "    data = pd.read_excel(\n",
    "        return_input_file,\n",
    "        )"
   ]
  },
  {
   "cell_type": "code",
   "execution_count": 17,
   "id": "5a73a5cc",
   "metadata": {},
   "outputs": [],
   "source": [
    "data = pysqldf(f\"\"\"\n",
    "    select distinct *\n",
    "    from data\n",
    "    where {date_column} is not null \n",
    "    and {return_column} is not null\n",
    "    \"\"\")"
   ]
  },
  {
   "cell_type": "code",
   "execution_count": 20,
   "id": "2e7e9faf",
   "metadata": {},
   "outputs": [],
   "source": [
    "return_expectation = data[return_column].mean()\n",
    "return_std = data[return_column].std()\n",
    "\n",
    "sharpe_ratio = return_expectation/return_std"
   ]
  },
  {
   "cell_type": "code",
   "execution_count": null,
   "id": "fcfcef7b",
   "metadata": {},
   "outputs": [],
   "source": []
  },
  {
   "cell_type": "code",
   "execution_count": null,
   "id": "e416c58b",
   "metadata": {},
   "outputs": [],
   "source": []
  },
  {
   "cell_type": "code",
   "execution_count": null,
   "id": "a74c5f26",
   "metadata": {},
   "outputs": [],
   "source": []
  },
  {
   "cell_type": "code",
   "execution_count": null,
   "id": "9e4be6f2",
   "metadata": {},
   "outputs": [],
   "source": []
  }
 ],
 "metadata": {
  "kernelspec": {
   "display_name": "Python 3 (ipykernel)",
   "language": "python",
   "name": "python3"
  },
  "language_info": {
   "codemirror_mode": {
    "name": "ipython",
    "version": 3
   },
   "file_extension": ".py",
   "mimetype": "text/x-python",
   "name": "python",
   "nbconvert_exporter": "python",
   "pygments_lexer": "ipython3",
   "version": "3.10.6"
  }
 },
 "nbformat": 4,
 "nbformat_minor": 5
}
