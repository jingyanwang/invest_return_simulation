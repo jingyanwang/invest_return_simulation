{
 "cells": [
  {
   "cell_type": "code",
   "execution_count": 1,
   "id": "0f091a7b",
   "metadata": {},
   "outputs": [],
   "source": [
    "import os\n",
    "import re\n",
    "import pandas as pd\n",
    "from pandasql import sqldf\n",
    "\n",
    "pysqldf = lambda q: sqldf(q, globals())"
   ]
  },
  {
   "cell_type": "code",
   "execution_count": 2,
   "id": "d90338f1",
   "metadata": {},
   "outputs": [],
   "source": [
    "year_duration = 10\n",
    "\n",
    "return_input_file = f'results/qld_all_in_return_{year_duration}y.xlsx'\n",
    "\n",
    "date_column = 'date'\n",
    "return_column = 'return'"
   ]
  },
  {
   "cell_type": "code",
   "execution_count": 3,
   "id": "27ce9787",
   "metadata": {},
   "outputs": [],
   "source": [
    "if '.csv' in return_input_file.lower():\n",
    "    data = pd.read_csv(\n",
    "        return_input_file,\n",
    "        )\n",
    "else:\n",
    "    data = pd.read_excel(\n",
    "        return_input_file,\n",
    "        )"
   ]
  },
  {
   "cell_type": "code",
   "execution_count": 4,
   "id": "65fea823",
   "metadata": {},
   "outputs": [],
   "source": [
    "data = pysqldf(f\"\"\"\n",
    "    select distinct *\n",
    "    from data\n",
    "    where {date_column} is not null \n",
    "    and {return_column} is not null\n",
    "    \"\"\")"
   ]
  },
  {
   "cell_type": "code",
   "execution_count": 5,
   "id": "f1b38fe3",
   "metadata": {},
   "outputs": [],
   "source": [
    "return_expectation = data[return_column].mean()\n",
    "return_std = data[return_column].std()\n",
    "\n",
    "sharpe_ratio = return_expectation/return_std"
   ]
  },
  {
   "cell_type": "code",
   "execution_count": 6,
   "id": "9313212b",
   "metadata": {},
   "outputs": [
    {
     "name": "stdout",
     "output_type": "stream",
     "text": [
      "sharpe_ratio:0.4330\n"
     ]
    }
   ],
   "source": [
    "print(f'sharpe_ratio:{sharpe_ratio:0.4f}')"
   ]
  },
  {
   "cell_type": "markdown",
   "id": "9e4d0330",
   "metadata": {},
   "source": [
    "# end"
   ]
  }
 ],
 "metadata": {
  "kernelspec": {
   "display_name": "Python 3 (ipykernel)",
   "language": "python",
   "name": "python3"
  },
  "language_info": {
   "codemirror_mode": {
    "name": "ipython",
    "version": 3
   },
   "file_extension": ".py",
   "mimetype": "text/x-python",
   "name": "python",
   "nbconvert_exporter": "python",
   "pygments_lexer": "ipython3",
   "version": "3.10.6"
  }
 },
 "nbformat": 4,
 "nbformat_minor": 5
}
