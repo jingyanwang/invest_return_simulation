{
 "cells": [
  {
   "cell_type": "code",
   "execution_count": 1,
   "id": "23c262ff",
   "metadata": {},
   "outputs": [],
   "source": [
    "import os\n",
    "import re\n",
    "import pandas as pd\n",
    "from pandasql import sqldf\n",
    "\n",
    "pysqldf = lambda q: sqldf(q, globals())"
   ]
  },
  {
   "cell_type": "code",
   "execution_count": 2,
   "id": "1372ede7",
   "metadata": {},
   "outputs": [],
   "source": [
    "date_column = 'date'\n",
    "return_column = 'return'"
   ]
  },
  {
   "cell_type": "markdown",
   "id": "450a79a0",
   "metadata": {},
   "source": [
    "# load the data"
   ]
  },
  {
   "cell_type": "code",
   "execution_count": 45,
   "id": "90d9ed45",
   "metadata": {},
   "outputs": [],
   "source": [
    "year_duration = 10\n",
    "\n",
    "qld_return_input_file = f'results/qld_all_in_return_{year_duration}y.xlsx'\n",
    "qqq_return_input_file = f'results/qqq_all_in_return_{year_duration}y.xlsx'\n",
    "\n",
    "if '.csv' in qld_return_input_file.lower():\n",
    "    data_qld = pd.read_csv(\n",
    "        qld_return_input_file,\n",
    "        )\n",
    "else:\n",
    "    data_qld = pd.read_excel(\n",
    "        qld_return_input_file,\n",
    "        )\n",
    "    \n",
    "if '.csv' in qqq_return_input_file.lower():\n",
    "    data_qqq = pd.read_csv(\n",
    "        qqq_return_input_file,\n",
    "        )\n",
    "else:\n",
    "    data_qqq = pd.read_excel(\n",
    "        qqq_return_input_file,\n",
    "        )\n",
    "\n",
    "data_qld = pysqldf(f\"\"\"\n",
    "    select distinct *\n",
    "    from data_qld\n",
    "    where {date_column} is not null \n",
    "    and {return_column} is not null\n",
    "    \"\"\")\n",
    "\n",
    "data_qqq = pysqldf(f\"\"\"\n",
    "    select distinct *\n",
    "    from data_qqq\n",
    "    where {date_column} is not null \n",
    "    and {return_column} is not null\n",
    "    \"\"\")"
   ]
  },
  {
   "cell_type": "markdown",
   "id": "f8870e49",
   "metadata": {},
   "source": [
    "# calcualate the sharpe ratio"
   ]
  },
  {
   "cell_type": "code",
   "execution_count": 51,
   "id": "a209961a",
   "metadata": {},
   "outputs": [
    {
     "name": "stdout",
     "output_type": "stream",
     "text": [
      "sharpe_ratio:0.4834\n"
     ]
    }
   ],
   "source": [
    "weight_qld = 1\n",
    "\n",
    "data = pysqldf(f\"\"\"\n",
    "    select distinct \n",
    "    q.date,\n",
    "    q.price_ratio as price_ratio_qqq,\n",
    "    l.price_ratio as price_ratio_qld,\n",
    "    q.price_ratio*{1-weight_qld}+l.price_ratio*{weight_qld} as price_ratio,\n",
    "    (q.price_ratio*{1-weight_qld}+l.price_ratio*{weight_qld})-1 as return\n",
    "    from data_qqq as q\n",
    "    join data_qld as l on q.date = l.date\n",
    "    \"\"\")\n",
    "\n",
    "return_expectation = data['return'].mean()\n",
    "return_std = data['return'].std()\n",
    "\n",
    "sharpe_ratio = return_expectation/return_std\n",
    "\n",
    "print(f'sharpe_ratio:{sharpe_ratio:0.4f}')"
   ]
  },
  {
   "cell_type": "markdown",
   "id": "7a847238",
   "metadata": {},
   "source": [
    "# end"
   ]
  }
 ],
 "metadata": {
  "kernelspec": {
   "display_name": "Python 3 (ipykernel)",
   "language": "python",
   "name": "python3"
  },
  "language_info": {
   "codemirror_mode": {
    "name": "ipython",
    "version": 3
   },
   "file_extension": ".py",
   "mimetype": "text/x-python",
   "name": "python",
   "nbconvert_exporter": "python",
   "pygments_lexer": "ipython3",
   "version": "3.10.6"
  }
 },
 "nbformat": 4,
 "nbformat_minor": 5
}
