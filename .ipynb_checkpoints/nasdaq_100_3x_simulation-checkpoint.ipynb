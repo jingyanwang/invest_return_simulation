{
 "cells": [
  {
   "cell_type": "code",
   "execution_count": 1,
   "id": "c96097b3",
   "metadata": {},
   "outputs": [],
   "source": [
    "import os\n",
    "import re\n",
    "import pandas as pd\n",
    "from pandasql import sqldf\n",
    "\n",
    "pysqldf = lambda q: sqldf(q, globals())"
   ]
  },
  {
   "cell_type": "markdown",
   "id": "d522191c",
   "metadata": {},
   "source": [
    "pd.read_csv(\n",
    "    'history/GSPC_original.csv',\n",
    "    sep='\\t').to_csv('history/GSPC.csv')"
   ]
  },
  {
   "cell_type": "code",
   "execution_count": 3,
   "id": "fec12f87",
   "metadata": {},
   "outputs": [],
   "source": [
    "leverage_ratio = 3"
   ]
  },
  {
   "cell_type": "code",
   "execution_count": 44,
   "id": "97d19733",
   "metadata": {},
   "outputs": [],
   "source": [
    "etf_csv_file = 'history/NDX.csv'\n",
    "etf_3x_csv_file = 'history/TQQQ.csv'\n",
    "simulation_result_exls_file = 'TQQQ_simulation.xlsx'"
   ]
  },
  {
   "cell_type": "code",
   "execution_count": 4,
   "id": "fc067daa",
   "metadata": {},
   "outputs": [
    {
     "data": {
      "text/plain": [
       "'1929-04-01'"
      ]
     },
     "execution_count": 4,
     "metadata": {},
     "output_type": "execute_result"
    }
   ],
   "source": [
    "month_mapping = {\n",
    "    \"Jun\":6,\n",
    "    \"May\":5,\n",
    "    \"Apr\":4,\n",
    "    \"Mar\":3,\n",
    "    \"Feb\":2,\n",
    "    \"Jan\":1,\n",
    "    \"Dec\":12,\n",
    "    \"Nov\":11,\n",
    "    \"Oct\":10,\n",
    "    \"Sep\":9,\n",
    "    \"Aug\":8,\n",
    "    \"Jul\":7,\n",
    "    }\n",
    "\n",
    "def date_normalize(date):\n",
    "    try:\n",
    "        result = re.search(r'(?P<m>\\d+)\\/(?P<d>\\d+)\\/(?P<y>\\d+)', date).groupdict()\n",
    "        output = '%04d-%02d-%02d'%(\n",
    "            int(result['y']),\n",
    "            int(result['m']),\n",
    "            int(result['d']),\n",
    "            )\n",
    "        return output\n",
    "    except:\n",
    "        pass\n",
    "    try:\n",
    "        parsing_result = re.search(r'(?P<m>[A-z]{3}) (?P<d>\\d{2}) (?P<y>\\d{4})', date).groupdict()\n",
    "        parsing_result['m'] = month_mapping[parsing_result['m']]\n",
    "        parsing_result['m'] = '%02d'%(parsing_result['m'])\n",
    "        return('%s-%s-%s'%(\n",
    "            parsing_result['y'],\n",
    "            parsing_result['m'],\n",
    "            parsing_result['d'],\n",
    "            ))\n",
    "    except:\n",
    "        pass\n",
    "    try:\n",
    "        parsing_result = re.search(r'(?P<m>[A-z]{3}) (?P<d>\\d{2}), (?P<y>\\d{4})', date).groupdict()\n",
    "        parsing_result['m'] = month_mapping[parsing_result['m']]\n",
    "        parsing_result['m'] = '%02d'%(parsing_result['m'])\n",
    "        return('%s-%s-%s'%(\n",
    "            parsing_result['y'],\n",
    "            parsing_result['m'],\n",
    "            parsing_result['d'],\n",
    "            ))\n",
    "    except:\n",
    "        pass\n",
    "    return date\n",
    "\n",
    "\n",
    "date = '9/17/2015'\n",
    "date = 'Jun 14 2022'\n",
    "date = 'Apr 01, 1929'\n",
    "\n",
    "date_normalize(\n",
    "    date,\n",
    "    )"
   ]
  },
  {
   "cell_type": "code",
   "execution_count": 5,
   "id": "ff4fbf78",
   "metadata": {},
   "outputs": [],
   "source": [
    "def str_to_float(input):\n",
    "    try:\n",
    "        return float(re.sub(r'[^\\d\\.]', r'', input))\n",
    "    except:\n",
    "        return input"
   ]
  },
  {
   "cell_type": "code",
   "execution_count": 6,
   "id": "4f3fdbd0",
   "metadata": {},
   "outputs": [],
   "source": [
    "qqq  = pd.read_csv(\n",
    "    etf_csv_file,\n",
    "    )\n",
    "\n",
    "qqq['Date'] = qqq['Date'].apply(date_normalize)\n",
    "qqq['Close'] = qqq['Close'].apply(str_to_float)\n",
    "\n",
    "qqq = pysqldf(u\"\"\"\n",
    "    select *\n",
    "    from qqq\n",
    "    order by Date asc\n",
    "    \"\"\")\n",
    "\n",
    "qqq['id'] = qqq.index"
   ]
  },
  {
   "cell_type": "code",
   "execution_count": 7,
   "id": "d7146c74",
   "metadata": {},
   "outputs": [],
   "source": [
    "qqq = pysqldf(u\"\"\"\n",
    "    select qqq.*, \n",
    "    pre_day.Date as pre_Date,\n",
    "    pre_day.Close as pre_Close,\n",
    "    (qqq.Close - pre_day.Close)/pre_day.Close AS Percent    \n",
    "    from qqq \n",
    "    left join qqq as pre_day on pre_day.id+1 = qqq.id\n",
    "    order by qqq.Date asc\n",
    "    \"\"\")"
   ]
  },
  {
   "cell_type": "code",
   "execution_count": 17,
   "id": "e6f9b0e0",
   "metadata": {},
   "outputs": [
    {
     "data": {
      "text/html": [
       "<div>\n",
       "<style scoped>\n",
       "    .dataframe tbody tr th:only-of-type {\n",
       "        vertical-align: middle;\n",
       "    }\n",
       "\n",
       "    .dataframe tbody tr th {\n",
       "        vertical-align: top;\n",
       "    }\n",
       "\n",
       "    .dataframe thead th {\n",
       "        text-align: right;\n",
       "    }\n",
       "</style>\n",
       "<table border=\"1\" class=\"dataframe\">\n",
       "  <thead>\n",
       "    <tr style=\"text-align: right;\">\n",
       "      <th></th>\n",
       "      <th>Date</th>\n",
       "      <th>Open</th>\n",
       "      <th>High</th>\n",
       "      <th>Low</th>\n",
       "      <th>Close</th>\n",
       "      <th>Adj Close</th>\n",
       "      <th>Volume</th>\n",
       "      <th>id</th>\n",
       "      <th>pre_Date</th>\n",
       "      <th>pre_Close</th>\n",
       "      <th>Percent</th>\n",
       "    </tr>\n",
       "  </thead>\n",
       "  <tbody>\n",
       "    <tr>\n",
       "      <th>9273</th>\n",
       "      <td>2022-07-18</td>\n",
       "      <td>12089.67969</td>\n",
       "      <td>12156.08984</td>\n",
       "      <td>11836.51953</td>\n",
       "      <td>11877.50000</td>\n",
       "      <td>11877.50000</td>\n",
       "      <td>5003870000</td>\n",
       "      <td>9273</td>\n",
       "      <td>2022-07-15</td>\n",
       "      <td>11983.62012</td>\n",
       "      <td>-0.008855</td>\n",
       "    </tr>\n",
       "    <tr>\n",
       "      <th>9274</th>\n",
       "      <td>2022-07-19</td>\n",
       "      <td>12046.69043</td>\n",
       "      <td>12258.37012</td>\n",
       "      <td>11967.91992</td>\n",
       "      <td>12249.41992</td>\n",
       "      <td>12249.41992</td>\n",
       "      <td>5251410000</td>\n",
       "      <td>9274</td>\n",
       "      <td>2022-07-18</td>\n",
       "      <td>11877.50000</td>\n",
       "      <td>0.031313</td>\n",
       "    </tr>\n",
       "    <tr>\n",
       "      <th>9275</th>\n",
       "      <td>2022-07-20</td>\n",
       "      <td>12269.07031</td>\n",
       "      <td>12488.38965</td>\n",
       "      <td>12232.20020</td>\n",
       "      <td>12439.67969</td>\n",
       "      <td>12439.67969</td>\n",
       "      <td>5427450000</td>\n",
       "      <td>9275</td>\n",
       "      <td>2022-07-19</td>\n",
       "      <td>12249.41992</td>\n",
       "      <td>0.015532</td>\n",
       "    </tr>\n",
       "  </tbody>\n",
       "</table>\n",
       "</div>"
      ],
      "text/plain": [
       "            Date         Open         High          Low        Close  \\\n",
       "9273  2022-07-18  12089.67969  12156.08984  11836.51953  11877.50000   \n",
       "9274  2022-07-19  12046.69043  12258.37012  11967.91992  12249.41992   \n",
       "9275  2022-07-20  12269.07031  12488.38965  12232.20020  12439.67969   \n",
       "\n",
       "        Adj Close      Volume    id    pre_Date    pre_Close   Percent  \n",
       "9273  11877.50000  5003870000  9273  2022-07-15  11983.62012 -0.008855  \n",
       "9274  12249.41992  5251410000  9274  2022-07-18  11877.50000  0.031313  \n",
       "9275  12439.67969  5427450000  9275  2022-07-19  12249.41992  0.015532  "
      ]
     },
     "execution_count": 17,
     "metadata": {},
     "output_type": "execute_result"
    }
   ],
   "source": [
    "qqq.tail(3)"
   ]
  },
  {
   "cell_type": "code",
   "execution_count": 18,
   "id": "4c0b9f3c",
   "metadata": {},
   "outputs": [],
   "source": [
    "data_list = pysqldf(u\"\"\"\n",
    "    select \n",
    "    Date,\n",
    "    Percent, \n",
    "    {}*Percent as Leveraged_Percent\n",
    "    from qqq\n",
    "    where Percent is not null\n",
    "    \"\"\".format(leverage_ratio)).to_dict('records')"
   ]
  },
  {
   "cell_type": "code",
   "execution_count": 19,
   "id": "d9465df7",
   "metadata": {},
   "outputs": [
    {
     "data": {
      "text/plain": [
       "[{'Date': '1985-10-02',\n",
       "  'Percent': -0.011726431351225594,\n",
       "  'Leveraged_Percent': -0.035179294053676785},\n",
       " {'Date': '1985-10-03',\n",
       "  'Percent': 0.00040609971773787433,\n",
       "  'Leveraged_Percent': 0.001218299153213623},\n",
       " {'Date': '1985-10-04',\n",
       "  'Percent': -0.007170614038857749,\n",
       "  'Leveraged_Percent': -0.021511842116573247}]"
      ]
     },
     "execution_count": 19,
     "metadata": {},
     "output_type": "execute_result"
    }
   ],
   "source": [
    "data_list[0:3]"
   ]
  },
  {
   "cell_type": "code",
   "execution_count": 21,
   "id": "b9a998c1",
   "metadata": {},
   "outputs": [],
   "source": [
    "start_price = qqq['Close'][0]\n",
    "\n",
    "qqq_price = start_price\n",
    "tqqq_price = start_price\n",
    "\n",
    "for r in data_list:\n",
    "    ###\n",
    "    qqq_price = qqq_price*(1+r['Percent'])\n",
    "    r['price'] = qqq_price\n",
    "    ###\n",
    "    tqqq_price = tqqq_price*(1+r['Leveraged_Percent'])    \n",
    "    r['Leveraged_price'] = tqqq_price  \n",
    "\n",
    "data1 = pd.DataFrame(data_list)"
   ]
  },
  {
   "cell_type": "code",
   "execution_count": 22,
   "id": "7e7c2e33",
   "metadata": {},
   "outputs": [
    {
     "data": {
      "text/plain": [
       "<AxesSubplot:xlabel='Date'>"
      ]
     },
     "execution_count": 22,
     "metadata": {},
     "output_type": "execute_result"
    },
    {
     "data": {
      "image/png": "[encoded data removed]",
      "text/plain": [
       "<Figure size 432x288 with 1 Axes>"
      ]
     },
     "metadata": {
      "needs_background": "light"
     },
     "output_type": "display_data"
    }
   ],
   "source": [
    "data1.plot(x ='Date', y=[\n",
    "    'price', \n",
    "    'Leveraged_price',\n",
    "    ], grid = True)"
   ]
  },
  {
   "cell_type": "markdown",
   "id": "2b6f6569",
   "metadata": {},
   "source": [
    "tqqq vs 3x qqq"
   ]
  },
  {
   "cell_type": "code",
   "execution_count": 30,
   "id": "4219d773",
   "metadata": {},
   "outputs": [
    {
     "data": {
      "text/html": [
       "<div>\n",
       "<style scoped>\n",
       "    .dataframe tbody tr th:only-of-type {\n",
       "        vertical-align: middle;\n",
       "    }\n",
       "\n",
       "    .dataframe tbody tr th {\n",
       "        vertical-align: top;\n",
       "    }\n",
       "\n",
       "    .dataframe thead th {\n",
       "        text-align: right;\n",
       "    }\n",
       "</style>\n",
       "<table border=\"1\" class=\"dataframe\">\n",
       "  <thead>\n",
       "    <tr style=\"text-align: right;\">\n",
       "      <th></th>\n",
       "      <th>Date</th>\n",
       "      <th>Open</th>\n",
       "      <th>High</th>\n",
       "      <th>Low</th>\n",
       "      <th>Close</th>\n",
       "      <th>Adj Close</th>\n",
       "      <th>Volume</th>\n",
       "    </tr>\n",
       "  </thead>\n",
       "  <tbody>\n",
       "    <tr>\n",
       "      <th>0</th>\n",
       "      <td>2010-02-11</td>\n",
       "      <td>0.406875</td>\n",
       "      <td>0.434896</td>\n",
       "      <td>0.405573</td>\n",
       "      <td>0.432552</td>\n",
       "      <td>0.431471</td>\n",
       "      <td>3456000</td>\n",
       "    </tr>\n",
       "    <tr>\n",
       "      <th>1</th>\n",
       "      <td>2010-02-12</td>\n",
       "      <td>0.420781</td>\n",
       "      <td>0.438073</td>\n",
       "      <td>0.418333</td>\n",
       "      <td>0.434323</td>\n",
       "      <td>0.433238</td>\n",
       "      <td>8601600</td>\n",
       "    </tr>\n",
       "    <tr>\n",
       "      <th>2</th>\n",
       "      <td>2010-02-16</td>\n",
       "      <td>0.444531</td>\n",
       "      <td>0.452188</td>\n",
       "      <td>0.437552</td>\n",
       "      <td>0.451146</td>\n",
       "      <td>0.450019</td>\n",
       "      <td>9619200</td>\n",
       "    </tr>\n",
       "  </tbody>\n",
       "</table>\n",
       "</div>"
      ],
      "text/plain": [
       "         Date      Open      High       Low     Close  Adj Close   Volume\n",
       "0  2010-02-11  0.406875  0.434896  0.405573  0.432552   0.431471  3456000\n",
       "1  2010-02-12  0.420781  0.438073  0.418333  0.434323   0.433238  8601600\n",
       "2  2010-02-16  0.444531  0.452188  0.437552  0.451146   0.450019  9619200"
      ]
     },
     "execution_count": 30,
     "metadata": {},
     "output_type": "execute_result"
    }
   ],
   "source": [
    "data_3x  = pd.read_csv(\n",
    "    etf_3x_csv_file,\n",
    "    )\n",
    "\n",
    "data_3x.head(3)"
   ]
  },
  {
   "cell_type": "code",
   "execution_count": 31,
   "id": "f0d6e604",
   "metadata": {},
   "outputs": [],
   "source": [
    "compare_3x = pysqldf(u\"\"\"\n",
    "    select \n",
    "    data1.Date,\n",
    "    data1.`Leveraged_price`,\n",
    "    data_3x.Close\n",
    "    from data_3x\n",
    "    join data1 on data1.Date = data_3x.Date\n",
    "    order by data1.Date asc\n",
    "    \"\"\".format(leverage_ratio))"
   ]
  },
  {
   "cell_type": "code",
   "execution_count": 32,
   "id": "18d1d226",
   "metadata": {},
   "outputs": [],
   "source": [
    "import numpy as np\n",
    "from sklearn.linear_model import LinearRegression"
   ]
  },
  {
   "cell_type": "code",
   "execution_count": 33,
   "id": "2a777712",
   "metadata": {},
   "outputs": [],
   "source": [
    "X = compare_3x['Leveraged_price'].to_numpy()\n",
    "X = np.array([[i] for i in X])\n",
    "y = compare_3x['Close'].to_numpy()"
   ]
  },
  {
   "cell_type": "code",
   "execution_count": 34,
   "id": "07948800",
   "metadata": {},
   "outputs": [],
   "source": [
    "reg = LinearRegression(fit_intercept=False).fit(X, y)"
   ]
  },
  {
   "cell_type": "code",
   "execution_count": 35,
   "id": "974bb058",
   "metadata": {},
   "outputs": [
    {
     "name": "stdout",
     "output_type": "stream",
     "text": [
      "[0.00044846]\n",
      "0.0\n"
     ]
    }
   ],
   "source": [
    "reg.score(X, y)\n",
    "\n",
    "print(reg.coef_)\n",
    "\n",
    "print(reg.intercept_)"
   ]
  },
  {
   "cell_type": "code",
   "execution_count": 39,
   "id": "e45ddea1",
   "metadata": {},
   "outputs": [
    {
     "data": {
      "text/html": [
       "<div>\n",
       "<style scoped>\n",
       "    .dataframe tbody tr th:only-of-type {\n",
       "        vertical-align: middle;\n",
       "    }\n",
       "\n",
       "    .dataframe tbody tr th {\n",
       "        vertical-align: top;\n",
       "    }\n",
       "\n",
       "    .dataframe thead th {\n",
       "        text-align: right;\n",
       "    }\n",
       "</style>\n",
       "<table border=\"1\" class=\"dataframe\">\n",
       "  <thead>\n",
       "    <tr style=\"text-align: right;\">\n",
       "      <th></th>\n",
       "      <th>Date</th>\n",
       "      <th>simulated_Close</th>\n",
       "      <th>Close</th>\n",
       "    </tr>\n",
       "  </thead>\n",
       "  <tbody>\n",
       "    <tr>\n",
       "      <th>0</th>\n",
       "      <td>2010-02-11</td>\n",
       "      <td>0.443186</td>\n",
       "      <td>0.432552</td>\n",
       "    </tr>\n",
       "    <tr>\n",
       "      <th>1</th>\n",
       "      <td>2010-02-12</td>\n",
       "      <td>0.445709</td>\n",
       "      <td>0.434323</td>\n",
       "    </tr>\n",
       "    <tr>\n",
       "      <th>2</th>\n",
       "      <td>2010-02-16</td>\n",
       "      <td>0.462958</td>\n",
       "      <td>0.451146</td>\n",
       "    </tr>\n",
       "  </tbody>\n",
       "</table>\n",
       "</div>"
      ],
      "text/plain": [
       "         Date  simulated_Close     Close\n",
       "0  2010-02-11         0.443186  0.432552\n",
       "1  2010-02-12         0.445709  0.434323\n",
       "2  2010-02-16         0.462958  0.451146"
      ]
     },
     "execution_count": 39,
     "metadata": {},
     "output_type": "execute_result"
    }
   ],
   "source": [
    "result = pysqldf(u\"\"\"\n",
    "    select \n",
    "    Date,\n",
    "    `Leveraged_price` * {} + {} AS simulated_Close,\n",
    "    Close\n",
    "    from compare_3x\n",
    "    \"\"\".format(\n",
    "    reg.coef_[0],\n",
    "    reg.intercept_))\n",
    "\n",
    "result.head(3)"
   ]
  },
  {
   "cell_type": "code",
   "execution_count": 37,
   "id": "76a81a4d",
   "metadata": {},
   "outputs": [
    {
     "data": {
      "text/plain": [
       "<AxesSubplot:xlabel='Date'>"
      ]
     },
     "execution_count": 37,
     "metadata": {},
     "output_type": "execute_result"
    },
    {
     "data": {
      "image/png": "[encoded data removed]",
      "text/plain": [
       "<Figure size 432x288 with 1 Axes>"
      ]
     },
     "metadata": {
      "needs_background": "light"
     },
     "output_type": "display_data"
    }
   ],
   "source": [
    "result.plot(x ='Date', y=[\n",
    "    'simulated_Close', \n",
    "    'Close',\n",
    "    ], grid = True)"
   ]
  },
  {
   "cell_type": "markdown",
   "id": "14e85d8c",
   "metadata": {},
   "source": [
    "all simulation results"
   ]
  },
  {
   "cell_type": "code",
   "execution_count": 40,
   "id": "67958cc9",
   "metadata": {},
   "outputs": [],
   "source": [
    "final_result = pysqldf(u\"\"\"\n",
    "    select \n",
    "    data1.Date,\n",
    "    data1.price AS {},\n",
    "    data1.`Leveraged_price` * {} + {} AS simulated_{},\n",
    "    data_3x.Close as {}\n",
    "    from data1\n",
    "    left join data_3x on data_3x.Date = data1.Date\n",
    "    \"\"\".format(\n",
    "    ETF,\n",
    "    reg.coef_[0],\n",
    "    reg.intercept_,\n",
    "    ETF_3x,\n",
    "    ETF_3x\n",
    "    ))"
   ]
  },
  {
   "cell_type": "code",
   "execution_count": 42,
   "id": "5c304ed8",
   "metadata": {},
   "outputs": [
    {
     "data": {
      "text/plain": [
       "<AxesSubplot:xlabel='Date'>"
      ]
     },
     "execution_count": 42,
     "metadata": {},
     "output_type": "execute_result"
    },
    {
     "data": {
      "image/png": "[encoded data removed]",
      "text/plain": [
       "<Figure size 432x288 with 1 Axes>"
      ]
     },
     "metadata": {
      "needs_background": "light"
     },
     "output_type": "display_data"
    }
   ],
   "source": [
    "final_result.plot(x ='Date', y=[\n",
    "    'simulated_{}'.format(ETF_3x),\n",
    "    ETF_3x,\n",
    "    ], grid = True)"
   ]
  },
  {
   "cell_type": "code",
   "execution_count": 45,
   "id": "5e891455",
   "metadata": {},
   "outputs": [],
   "source": [
    "final_result.to_excel(\n",
    "    simulation_result_exls_file,\n",
    "    index = False,\n",
    "    )"
   ]
  },
  {
   "cell_type": "markdown",
   "id": "0d2ab7ba",
   "metadata": {},
   "source": [
    "END"
   ]
  }
 ],
 "metadata": {
  "kernelspec": {
   "display_name": "Python 3 (ipykernel)",
   "language": "python",
   "name": "python3"
  },
  "language_info": {
   "codemirror_mode": {
    "name": "ipython",
    "version": 3
   },
   "file_extension": ".py",
   "mimetype": "text/x-python",
   "name": "python",
   "nbconvert_exporter": "python",
   "pygments_lexer": "ipython3",
   "version": "3.9.6"
  }
 },
 "nbformat": 4,
 "nbformat_minor": 5
}
