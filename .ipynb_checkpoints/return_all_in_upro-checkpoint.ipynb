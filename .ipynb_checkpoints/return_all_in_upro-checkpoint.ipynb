{
 "cells": [
  {
   "cell_type": "code",
   "execution_count": 1,
   "id": "c96097b3",
   "metadata": {},
   "outputs": [],
   "source": [
    "import os\n",
    "import re\n",
    "import pandas as pd\n",
    "from pandasql import sqldf\n",
    "\n",
    "pysqldf = lambda q: sqldf(q, globals())"
   ]
  },
  {
   "cell_type": "code",
   "execution_count": 2,
   "id": "c13b288b",
   "metadata": {},
   "outputs": [],
   "source": [
    "ETF_data_file = 'results/UPRO_simulation.xlsx'\n",
    "date_column = 'Date'\n",
    "price_column = 'simulated_UPRO'\n",
    "\n",
    "hold_duration_years = 5\n",
    "hold_duration_days = 252*hold_duration_years\n",
    "\n",
    "start_date = '0000-01-01'\n",
    "end_date = '2023-01-01'\n",
    "\n",
    "eft = 'upro'\n",
    "\n",
    "output_file = f'results/{eft}_all_in_return_{hold_duration_years}y.xlsx'"
   ]
  },
  {
   "cell_type": "code",
   "execution_count": 3,
   "id": "6ece0e0f",
   "metadata": {},
   "outputs": [],
   "source": [
    "from date_processing import *"
   ]
  },
  {
   "cell_type": "code",
   "execution_count": 4,
   "id": "f98ef069",
   "metadata": {},
   "outputs": [],
   "source": [
    "if '.csv' in ETF_data_file.lower():\n",
    "    data = pd.read_csv(\n",
    "        ETF_data_file,\n",
    "        )\n",
    "else:\n",
    "    data = pd.read_excel(\n",
    "        ETF_data_file,\n",
    "        )\n",
    "\n",
    "data[date_column] = data[date_column].apply(date_normalize)\n",
    "data[price_column] = data[price_column].apply(str_to_float)\n",
    "\n",
    "data = pysqldf(u\"\"\"\n",
    "    select \n",
    "    {} as date,\n",
    "    {} as price\n",
    "    from data\n",
    "    \"\"\".format(\n",
    "    date_column, \n",
    "    price_column\n",
    "   ))\n",
    "\n",
    "data = pysqldf(u\"\"\"\n",
    "    select *\n",
    "    from data\n",
    "    where date >= '{}' and date <= '{}'\n",
    "    order by date asc\n",
    "    \"\"\".format(\n",
    "    start_date, \n",
    "    end_date))\n",
    "\n",
    "\n",
    "data['id'] = data.index"
   ]
  },
  {
   "cell_type": "code",
   "execution_count": 5,
   "id": "0d4680ac",
   "metadata": {},
   "outputs": [
    {
     "data": {
      "text/html": [
       "<div>\n",
       "<style scoped>\n",
       "    .dataframe tbody tr th:only-of-type {\n",
       "        vertical-align: middle;\n",
       "    }\n",
       "\n",
       "    .dataframe tbody tr th {\n",
       "        vertical-align: top;\n",
       "    }\n",
       "\n",
       "    .dataframe thead th {\n",
       "        text-align: right;\n",
       "    }\n",
       "</style>\n",
       "<table border=\"1\" class=\"dataframe\">\n",
       "  <thead>\n",
       "    <tr style=\"text-align: right;\">\n",
       "      <th></th>\n",
       "      <th>date</th>\n",
       "      <th>price</th>\n",
       "      <th>id</th>\n",
       "    </tr>\n",
       "  </thead>\n",
       "  <tbody>\n",
       "    <tr>\n",
       "      <th>0</th>\n",
       "      <td>1927-12-30</td>\n",
       "      <td>17.66</td>\n",
       "      <td>0</td>\n",
       "    </tr>\n",
       "    <tr>\n",
       "      <th>1</th>\n",
       "      <td>1928-01-03</td>\n",
       "      <td>17.76</td>\n",
       "      <td>1</td>\n",
       "    </tr>\n",
       "    <tr>\n",
       "      <th>2</th>\n",
       "      <td>1928-01-04</td>\n",
       "      <td>17.72</td>\n",
       "      <td>2</td>\n",
       "    </tr>\n",
       "  </tbody>\n",
       "</table>\n",
       "</div>"
      ],
      "text/plain": [
       "         date  price  id\n",
       "0  1927-12-30  17.66   0\n",
       "1  1928-01-03  17.76   1\n",
       "2  1928-01-04  17.72   2"
      ]
     },
     "execution_count": 5,
     "metadata": {},
     "output_type": "execute_result"
    }
   ],
   "source": [
    "data.head(3)"
   ]
  },
  {
   "cell_type": "markdown",
   "id": "dde4474f",
   "metadata": {},
   "source": [
    "# the return"
   ]
  },
  {
   "cell_type": "code",
   "execution_count": 6,
   "id": "dcc3bd3e",
   "metadata": {},
   "outputs": [],
   "source": [
    "holding = pysqldf(u\"\"\"\n",
    "    select \n",
    "    data.date,\n",
    "    data.price,\n",
    "    pre_data.date as pre_date,\n",
    "    pre_data.price as pre_price,\n",
    "    data.price/pre_data.price as price_ratio\n",
    "    from data\n",
    "    join data as pre_data on pre_data.id+{} = data.id\n",
    "    \"\"\".format(hold_duration_days))"
   ]
  },
  {
   "cell_type": "code",
   "execution_count": 7,
   "id": "4a9f6407",
   "metadata": {},
   "outputs": [],
   "source": [
    "holding = pysqldf(u\"\"\"\n",
    "    select *,\n",
    "    price_ratio -1 as return\n",
    "    from holding\n",
    "    \"\"\")"
   ]
  },
  {
   "cell_type": "code",
   "execution_count": 8,
   "id": "35ea28cf",
   "metadata": {},
   "outputs": [
    {
     "data": {
      "text/html": [
       "<div>\n",
       "<style scoped>\n",
       "    .dataframe tbody tr th:only-of-type {\n",
       "        vertical-align: middle;\n",
       "    }\n",
       "\n",
       "    .dataframe tbody tr th {\n",
       "        vertical-align: top;\n",
       "    }\n",
       "\n",
       "    .dataframe thead th {\n",
       "        text-align: right;\n",
       "    }\n",
       "</style>\n",
       "<table border=\"1\" class=\"dataframe\">\n",
       "  <thead>\n",
       "    <tr style=\"text-align: right;\">\n",
       "      <th></th>\n",
       "      <th>date</th>\n",
       "      <th>price</th>\n",
       "      <th>pre_date</th>\n",
       "      <th>pre_price</th>\n",
       "      <th>price_ratio</th>\n",
       "      <th>return</th>\n",
       "    </tr>\n",
       "  </thead>\n",
       "  <tbody>\n",
       "    <tr>\n",
       "      <th>0</th>\n",
       "      <td>1958-03-25</td>\n",
       "      <td>42.44</td>\n",
       "      <td>1927-12-30</td>\n",
       "      <td>17.66</td>\n",
       "      <td>2.403171</td>\n",
       "      <td>1.403171</td>\n",
       "    </tr>\n",
       "    <tr>\n",
       "      <th>1</th>\n",
       "      <td>1958-03-26</td>\n",
       "      <td>42.30</td>\n",
       "      <td>1928-01-03</td>\n",
       "      <td>17.76</td>\n",
       "      <td>2.381757</td>\n",
       "      <td>1.381757</td>\n",
       "    </tr>\n",
       "    <tr>\n",
       "      <th>2</th>\n",
       "      <td>1958-03-27</td>\n",
       "      <td>42.17</td>\n",
       "      <td>1928-01-04</td>\n",
       "      <td>17.72</td>\n",
       "      <td>2.379797</td>\n",
       "      <td>1.379797</td>\n",
       "    </tr>\n",
       "  </tbody>\n",
       "</table>\n",
       "</div>"
      ],
      "text/plain": [
       "         date  price    pre_date  pre_price  price_ratio    return\n",
       "0  1958-03-25  42.44  1927-12-30      17.66     2.403171  1.403171\n",
       "1  1958-03-26  42.30  1928-01-03      17.76     2.381757  1.381757\n",
       "2  1958-03-27  42.17  1928-01-04      17.72     2.379797  1.379797"
      ]
     },
     "execution_count": 8,
     "metadata": {},
     "output_type": "execute_result"
    }
   ],
   "source": [
    "holding.head(3)"
   ]
  },
  {
   "cell_type": "code",
   "execution_count": 9,
   "id": "8e088b38",
   "metadata": {},
   "outputs": [
    {
     "data": {
      "text/plain": [
       "<AxesSubplot:xlabel='date'>"
      ]
     },
     "execution_count": 9,
     "metadata": {},
     "output_type": "execute_result"
    },
    {
     "data": {
      "image/png": "[encoded data removed]",
      "text/plain": [
       "<Figure size 432x288 with 1 Axes>"
      ]
     },
     "metadata": {
      "needs_background": "light"
     },
     "output_type": "display_data"
    }
   ],
   "source": [
    "holding.plot(x ='date', y=[\n",
    "    'price', \n",
    "    'pre_price', \n",
    "    ], grid = True)"
   ]
  },
  {
   "cell_type": "code",
   "execution_count": 10,
   "id": "8df5ac40",
   "metadata": {},
   "outputs": [
    {
     "data": {
      "text/plain": [
       "<AxesSubplot:xlabel='date'>"
      ]
     },
     "execution_count": 10,
     "metadata": {},
     "output_type": "execute_result"
    },
    {
     "data": {
      "image/png": "[encoded data removed]",
      "text/plain": [
       "<Figure size 432x288 with 1 Axes>"
      ]
     },
     "metadata": {
      "needs_background": "light"
     },
     "output_type": "display_data"
    }
   ],
   "source": [
    "holding.plot(x ='date', y=[\n",
    "    'price_ratio', \n",
    "    ], grid = True)"
   ]
  },
  {
   "cell_type": "code",
   "execution_count": 11,
   "id": "76ebb291",
   "metadata": {},
   "outputs": [
    {
     "data": {
      "text/html": [
       "<div>\n",
       "<style scoped>\n",
       "    .dataframe tbody tr th:only-of-type {\n",
       "        vertical-align: middle;\n",
       "    }\n",
       "\n",
       "    .dataframe tbody tr th {\n",
       "        vertical-align: top;\n",
       "    }\n",
       "\n",
       "    .dataframe thead th {\n",
       "        text-align: right;\n",
       "    }\n",
       "</style>\n",
       "<table border=\"1\" class=\"dataframe\">\n",
       "  <thead>\n",
       "    <tr style=\"text-align: right;\">\n",
       "      <th></th>\n",
       "      <th>date</th>\n",
       "      <th>price</th>\n",
       "      <th>pre_date</th>\n",
       "      <th>pre_price</th>\n",
       "      <th>price_ratio</th>\n",
       "      <th>return</th>\n",
       "    </tr>\n",
       "  </thead>\n",
       "  <tbody>\n",
       "    <tr>\n",
       "      <th>0</th>\n",
       "      <td>1958-03-25</td>\n",
       "      <td>42.44</td>\n",
       "      <td>1927-12-30</td>\n",
       "      <td>17.66</td>\n",
       "      <td>2.403171</td>\n",
       "      <td>1.403171</td>\n",
       "    </tr>\n",
       "    <tr>\n",
       "      <th>1</th>\n",
       "      <td>1958-03-26</td>\n",
       "      <td>42.30</td>\n",
       "      <td>1928-01-03</td>\n",
       "      <td>17.76</td>\n",
       "      <td>2.381757</td>\n",
       "      <td>1.381757</td>\n",
       "    </tr>\n",
       "    <tr>\n",
       "      <th>2</th>\n",
       "      <td>1958-03-27</td>\n",
       "      <td>42.17</td>\n",
       "      <td>1928-01-04</td>\n",
       "      <td>17.72</td>\n",
       "      <td>2.379797</td>\n",
       "      <td>1.379797</td>\n",
       "    </tr>\n",
       "    <tr>\n",
       "      <th>3</th>\n",
       "      <td>1958-03-28</td>\n",
       "      <td>42.20</td>\n",
       "      <td>1928-01-05</td>\n",
       "      <td>17.55</td>\n",
       "      <td>2.404558</td>\n",
       "      <td>1.404558</td>\n",
       "    </tr>\n",
       "    <tr>\n",
       "      <th>4</th>\n",
       "      <td>1958-03-31</td>\n",
       "      <td>42.10</td>\n",
       "      <td>1928-01-06</td>\n",
       "      <td>17.66</td>\n",
       "      <td>2.383918</td>\n",
       "      <td>1.383918</td>\n",
       "    </tr>\n",
       "  </tbody>\n",
       "</table>\n",
       "</div>"
      ],
      "text/plain": [
       "         date  price    pre_date  pre_price  price_ratio    return\n",
       "0  1958-03-25  42.44  1927-12-30      17.66     2.403171  1.403171\n",
       "1  1958-03-26  42.30  1928-01-03      17.76     2.381757  1.381757\n",
       "2  1958-03-27  42.17  1928-01-04      17.72     2.379797  1.379797\n",
       "3  1958-03-28  42.20  1928-01-05      17.55     2.404558  1.404558\n",
       "4  1958-03-31  42.10  1928-01-06      17.66     2.383918  1.383918"
      ]
     },
     "execution_count": 11,
     "metadata": {},
     "output_type": "execute_result"
    }
   ],
   "source": [
    "holding.head()"
   ]
  },
  {
   "cell_type": "code",
   "execution_count": 12,
   "id": "80079f54",
   "metadata": {},
   "outputs": [],
   "source": [
    "holding.to_excel(\n",
    "    output_file,\n",
    "    index = False,\n",
    "    )"
   ]
  },
  {
   "cell_type": "code",
   "execution_count": 13,
   "id": "64d35389",
   "metadata": {},
   "outputs": [
    {
     "data": {
      "text/plain": [
       "<AxesSubplot:>"
      ]
     },
     "execution_count": 13,
     "metadata": {},
     "output_type": "execute_result"
    },
    {
     "data": {
      "image/png": "[encoded data removed]",
      "text/plain": [
       "<Figure size 432x288 with 1 Axes>"
      ]
     },
     "metadata": {
      "needs_background": "light"
     },
     "output_type": "display_data"
    }
   ],
   "source": [
    "holding.boxplot(column=['price_ratio']) "
   ]
  },
  {
   "cell_type": "code",
   "execution_count": 14,
   "id": "cd9941e1",
   "metadata": {},
   "outputs": [
    {
     "name": "stdout",
     "output_type": "stream",
     "text": [
      "Ratio:\t8.0356\n"
     ]
    }
   ],
   "source": [
    "price_ratio = holding['price_ratio'].median()\n",
    "\n",
    "print('Ratio:\\t%0.4f'%(price_ratio))"
   ]
  },
  {
   "cell_type": "markdown",
   "id": "0d2ab7ba",
   "metadata": {},
   "source": [
    "END"
   ]
  }
 ],
 "metadata": {
  "kernelspec": {
   "display_name": "Python 3 (ipykernel)",
   "language": "python",
   "name": "python3"
  },
  "language_info": {
   "codemirror_mode": {
    "name": "ipython",
    "version": 3
   },
   "file_extension": ".py",
   "mimetype": "text/x-python",
   "name": "python",
   "nbconvert_exporter": "python",
   "pygments_lexer": "ipython3",
   "version": "3.10.6"
  }
 },
 "nbformat": 4,
 "nbformat_minor": 5
}
