{
 "cells": [
  {
   "cell_type": "code",
   "execution_count": 1,
   "id": "c96097b3",
   "metadata": {},
   "outputs": [],
   "source": [
    "import os\n",
    "import re\n",
    "import pandas as pd\n",
    "from pandasql import sqldf\n",
    "\n",
    "pysqldf = lambda q: sqldf(q, globals())"
   ]
  },
  {
   "cell_type": "code",
   "execution_count": 2,
   "id": "c13b288b",
   "metadata": {},
   "outputs": [],
   "source": [
    "ETF_data_file = 'QLD_simulation.xlsx'\n",
    "date_column = 'Date'\n",
    "price_column = 'simulated_QLD'\n",
    "\n",
    "hold_duration_years = 25\n",
    "hold_duration_days = 252*hold_duration_years\n",
    "\n",
    "start_date = '1985-01-01'\n",
    "end_date = '9999-01-01'"
   ]
  },
  {
   "cell_type": "code",
   "execution_count": 3,
   "id": "6ece0e0f",
   "metadata": {},
   "outputs": [
    {
     "data": {
      "text/plain": [
       "'1929-04-01'"
      ]
     },
     "execution_count": 3,
     "metadata": {},
     "output_type": "execute_result"
    }
   ],
   "source": [
    "month_mapping = {\n",
    "    \"Jun\":6,\n",
    "    \"May\":5,\n",
    "    \"Apr\":4,\n",
    "    \"Mar\":3,\n",
    "    \"Feb\":2,\n",
    "    \"Jan\":1,\n",
    "    \"Dec\":12,\n",
    "    \"Nov\":11,\n",
    "    \"Oct\":10,\n",
    "    \"Sep\":9,\n",
    "    \"Aug\":8,\n",
    "    \"Jul\":7,\n",
    "    }\n",
    "\n",
    "def date_normalize(date):\n",
    "    try:\n",
    "        result = re.search(r'(?P<m>\\d+)\\/(?P<d>\\d+)\\/(?P<y>\\d+)', date).groupdict()\n",
    "        output = '%04d-%02d-%02d'%(\n",
    "            int(result['y']),\n",
    "            int(result['m']),\n",
    "            int(result['d']),\n",
    "            )\n",
    "        return output\n",
    "    except:\n",
    "        pass\n",
    "    try:\n",
    "        parsing_result = re.search(r'(?P<m>[A-z]{3}) (?P<d>\\d{2}) (?P<y>\\d{4})', date).groupdict()\n",
    "        parsing_result['m'] = month_mapping[parsing_result['m']]\n",
    "        parsing_result['m'] = '%02d'%(parsing_result['m'])\n",
    "        return('%s-%s-%s'%(\n",
    "            parsing_result['y'],\n",
    "            parsing_result['m'],\n",
    "            parsing_result['d'],\n",
    "            ))\n",
    "    except:\n",
    "        pass\n",
    "    try:\n",
    "        parsing_result = re.search(r'(?P<m>[A-z]{3}) (?P<d>\\d{2}), (?P<y>\\d{4})', date).groupdict()\n",
    "        parsing_result['m'] = month_mapping[parsing_result['m']]\n",
    "        parsing_result['m'] = '%02d'%(parsing_result['m'])\n",
    "        return('%s-%s-%s'%(\n",
    "            parsing_result['y'],\n",
    "            parsing_result['m'],\n",
    "            parsing_result['d'],\n",
    "            ))\n",
    "    except:\n",
    "        pass\n",
    "    return date\n",
    "\n",
    "\n",
    "date = '9/17/2015'\n",
    "date = 'Jun 14 2022'\n",
    "date = 'Apr 01, 1929'\n",
    "\n",
    "date_normalize(\n",
    "    date,\n",
    "    )"
   ]
  },
  {
   "cell_type": "code",
   "execution_count": 4,
   "id": "cfeb12d5",
   "metadata": {},
   "outputs": [],
   "source": [
    "def str_to_float(input):\n",
    "    try:\n",
    "        return float(re.sub(r'[^\\d\\.]', r'', input))\n",
    "    except:\n",
    "        return input"
   ]
  },
  {
   "cell_type": "code",
   "execution_count": 5,
   "id": "f98ef069",
   "metadata": {},
   "outputs": [],
   "source": [
    "if '.csv' in ETF_data_file.lower():\n",
    "    data = pd.read_csv(\n",
    "        ETF_data_file,\n",
    "        )\n",
    "else:\n",
    "    data = pd.read_excel(\n",
    "        ETF_data_file,\n",
    "        )\n",
    "\n",
    "data[date_column] = data[date_column].apply(date_normalize)\n",
    "data[price_column] = data[price_column].apply(str_to_float)\n",
    "\n",
    "data = pysqldf(u\"\"\"\n",
    "    select \n",
    "    {} as date,\n",
    "    {} as price\n",
    "    from data\n",
    "    \"\"\".format(\n",
    "    date_column, \n",
    "    price_column\n",
    "   ))\n",
    "\n",
    "data = pysqldf(u\"\"\"\n",
    "    select *\n",
    "    from data\n",
    "    where date >= '{}' and date <= '{}'\n",
    "    order by date asc\n",
    "    \"\"\".format(\n",
    "    start_date, \n",
    "    end_date))\n",
    "\n",
    "\n",
    "data['id'] = data.index"
   ]
  },
  {
   "cell_type": "code",
   "execution_count": 6,
   "id": "8ce96931",
   "metadata": {},
   "outputs": [
    {
     "data": {
      "text/html": [
       "<div>\n",
       "<style scoped>\n",
       "    .dataframe tbody tr th:only-of-type {\n",
       "        vertical-align: middle;\n",
       "    }\n",
       "\n",
       "    .dataframe tbody tr th {\n",
       "        vertical-align: top;\n",
       "    }\n",
       "\n",
       "    .dataframe thead th {\n",
       "        text-align: right;\n",
       "    }\n",
       "</style>\n",
       "<table border=\"1\" class=\"dataframe\">\n",
       "  <thead>\n",
       "    <tr style=\"text-align: right;\">\n",
       "      <th></th>\n",
       "      <th>date</th>\n",
       "      <th>price</th>\n",
       "      <th>id</th>\n",
       "    </tr>\n",
       "  </thead>\n",
       "  <tbody>\n",
       "    <tr>\n",
       "      <th>0</th>\n",
       "      <td>1985-10-02</td>\n",
       "      <td>0.049838</td>\n",
       "      <td>0</td>\n",
       "    </tr>\n",
       "    <tr>\n",
       "      <th>1</th>\n",
       "      <td>1985-10-03</td>\n",
       "      <td>0.049879</td>\n",
       "      <td>1</td>\n",
       "    </tr>\n",
       "    <tr>\n",
       "      <th>2</th>\n",
       "      <td>1985-10-04</td>\n",
       "      <td>0.049163</td>\n",
       "      <td>2</td>\n",
       "    </tr>\n",
       "  </tbody>\n",
       "</table>\n",
       "</div>"
      ],
      "text/plain": [
       "         date     price  id\n",
       "0  1985-10-02  0.049838   0\n",
       "1  1985-10-03  0.049879   1\n",
       "2  1985-10-04  0.049163   2"
      ]
     },
     "execution_count": 6,
     "metadata": {},
     "output_type": "execute_result"
    }
   ],
   "source": [
    "data.head(3)"
   ]
  },
  {
   "cell_type": "markdown",
   "id": "dde4474f",
   "metadata": {},
   "source": [
    "# the return"
   ]
  },
  {
   "cell_type": "code",
   "execution_count": 7,
   "id": "dcc3bd3e",
   "metadata": {},
   "outputs": [],
   "source": [
    "holding = pysqldf(u\"\"\"\n",
    "    select \n",
    "    data.date,\n",
    "    data.price,\n",
    "    pre_data.date as pre_date,\n",
    "    pre_data.price as pre_price\n",
    "    from data\n",
    "    join data as pre_data on pre_data.id+{} = data.id\n",
    "    \"\"\".format(hold_duration_days))"
   ]
  },
  {
   "cell_type": "code",
   "execution_count": 8,
   "id": "35ea28cf",
   "metadata": {},
   "outputs": [
    {
     "data": {
      "text/html": [
       "<div>\n",
       "<style scoped>\n",
       "    .dataframe tbody tr th:only-of-type {\n",
       "        vertical-align: middle;\n",
       "    }\n",
       "\n",
       "    .dataframe tbody tr th {\n",
       "        vertical-align: top;\n",
       "    }\n",
       "\n",
       "    .dataframe thead th {\n",
       "        text-align: right;\n",
       "    }\n",
       "</style>\n",
       "<table border=\"1\" class=\"dataframe\">\n",
       "  <thead>\n",
       "    <tr style=\"text-align: right;\">\n",
       "      <th></th>\n",
       "      <th>date</th>\n",
       "      <th>price</th>\n",
       "      <th>pre_date</th>\n",
       "      <th>pre_price</th>\n",
       "    </tr>\n",
       "  </thead>\n",
       "  <tbody>\n",
       "    <tr>\n",
       "      <th>0</th>\n",
       "      <td>2010-09-24</td>\n",
       "      <td>2.137712</td>\n",
       "      <td>1985-10-02</td>\n",
       "      <td>0.049838</td>\n",
       "    </tr>\n",
       "    <tr>\n",
       "      <th>1</th>\n",
       "      <td>2010-09-27</td>\n",
       "      <td>2.110566</td>\n",
       "      <td>1985-10-03</td>\n",
       "      <td>0.049879</td>\n",
       "    </tr>\n",
       "    <tr>\n",
       "      <th>2</th>\n",
       "      <td>2010-09-28</td>\n",
       "      <td>2.113589</td>\n",
       "      <td>1985-10-04</td>\n",
       "      <td>0.049163</td>\n",
       "    </tr>\n",
       "  </tbody>\n",
       "</table>\n",
       "</div>"
      ],
      "text/plain": [
       "         date     price    pre_date  pre_price\n",
       "0  2010-09-24  2.137712  1985-10-02   0.049838\n",
       "1  2010-09-27  2.110566  1985-10-03   0.049879\n",
       "2  2010-09-28  2.113589  1985-10-04   0.049163"
      ]
     },
     "execution_count": 8,
     "metadata": {},
     "output_type": "execute_result"
    }
   ],
   "source": [
    "holding.head(3)"
   ]
  },
  {
   "cell_type": "code",
   "execution_count": 9,
   "id": "a13055e2",
   "metadata": {},
   "outputs": [],
   "source": [
    "window_data = pysqldf(u\"\"\"\n",
    "    select boundary.*,\n",
    "    window.date as window_date,\n",
    "    1000.0/window.price as window_shares,\n",
    "    window.price as window_price\n",
    "    from holding as boundary\n",
    "    join data as window\n",
    "    on window.date >= boundary.pre_date and window.date < boundary.date\n",
    "    \"\"\")"
   ]
  },
  {
   "cell_type": "code",
   "execution_count": null,
   "id": "be6207fa",
   "metadata": {},
   "outputs": [],
   "source": [
    "window_aggrated = pysqldf(u\"\"\"\n",
    "    select date, \n",
    "    count(*)*1000.0 as invested_amount,\n",
    "    sum(window_shares) as bought_shares,\n",
    "    price\n",
    "    from window_data \n",
    "    group by date\n",
    "    \"\"\")"
   ]
  },
  {
   "cell_type": "code",
   "execution_count": null,
   "id": "dec8d952",
   "metadata": {},
   "outputs": [],
   "source": [
    "window_ratio =  pysqldf(u\"\"\"\n",
    "    select *,\n",
    "    bought_shares*price/invested_amount as ratio\n",
    "    from window_aggrated \n",
    "    order by date asc\n",
    "    \"\"\")"
   ]
  },
  {
   "cell_type": "code",
   "execution_count": null,
   "id": "3a45bfc9",
   "metadata": {},
   "outputs": [],
   "source": [
    "window_ratio.head(3)"
   ]
  },
  {
   "cell_type": "code",
   "execution_count": null,
   "id": "8e088b38",
   "metadata": {},
   "outputs": [],
   "source": [
    "window_ratio.plot(x ='date', y=[\n",
    "    'bought_shares', \n",
    "    ], grid = True)"
   ]
  },
  {
   "cell_type": "code",
   "execution_count": null,
   "id": "8df5ac40",
   "metadata": {},
   "outputs": [],
   "source": [
    "window_ratio.plot(x ='date', y=[\n",
    "    'ratio', \n",
    "    ], grid = True)"
   ]
  },
  {
   "cell_type": "code",
   "execution_count": null,
   "id": "b9321b3d",
   "metadata": {},
   "outputs": [],
   "source": [
    "window_ratio.boxplot(column=['ratio']) "
   ]
  },
  {
   "cell_type": "code",
   "execution_count": null,
   "id": "759ec512",
   "metadata": {},
   "outputs": [],
   "source": [
    "ratio = window_ratio['ratio'].median()\n",
    "\n",
    "print('Ratio:\\t%0.4f'%(ratio))"
   ]
  },
  {
   "cell_type": "markdown",
   "id": "0d2ab7ba",
   "metadata": {},
   "source": [
    "END"
   ]
  }
 ],
 "metadata": {
  "kernelspec": {
   "display_name": "Python 3 (ipykernel)",
   "language": "python",
   "name": "python3"
  },
  "language_info": {
   "codemirror_mode": {
    "name": "ipython",
    "version": 3
   },
   "file_extension": ".py",
   "mimetype": "text/x-python",
   "name": "python",
   "nbconvert_exporter": "python",
   "pygments_lexer": "ipython3",
   "version": "3.9.6"
  }
 },
 "nbformat": 4,
 "nbformat_minor": 5
}
